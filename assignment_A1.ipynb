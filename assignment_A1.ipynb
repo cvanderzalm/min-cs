{
 "cells": [
  {
   "cell_type": "code",
   "execution_count": 1,
   "metadata": {},
   "outputs": [
    {
     "data": {
      "text/html": [
       "\n",
       "<style>\n",
       "    /*TU color table */\n",
       "    :root {\n",
       "      --tu-black:        rgb(0,0,0);\n",
       "      --tu-white:        rgb(255,255,255);\n",
       "      --tu-cyan:         rgb(0,166,214);\n",
       "      --tu-green:        rgb(165,202,26);\n",
       "      --tu-yellow:       rgb(225,196,0);\n",
       "      --tu-orange:       rgb(230,70,22);\n",
       "      --tu-red:          rgb(225,26,26);\n",
       "      --tu-purple:       rgb(109,23,127);\n",
       "      --tu-slategreen:   rgb(107,134,137);\n",
       "      --tu-turqoise:     rgb(0,136,145);\n",
       "      --tu-darkblue:     rgb(29,28,115);\n",
       "      --tu-skyblue:      rgb(110,187,213);\n",
       "    }\n",
       "    h2, h3, h4 {\n",
       "        background-color: var(--tu-white);\n",
       "        color: var(--tu-cyan);\n",
       "    }\n",
       "    h1 {\n",
       "        background-color: var(--tu-cyan);\n",
       "        color: var(--tu-white);\n",
       "    }\n",
       "    em {\n",
       "        color: var(--tu-cyan);\n",
       "    }\n",
       "     \n",
       "    div.output_stdout {\n",
       "        background-color: var(--tu-green);\n",
       "        color: var(--tu-black);\n",
       "    }\n",
       "    div.output_stdout:before {\n",
       "        content: \"stdout output;\";\n",
       "    }\n",
       "    div.output_stderr {\n",
       "        background-color: var(--tu-yellow);\n",
       "        color: var(--tu-black);\n",
       "    }\n",
       "    div.output_stderr:before {\n",
       "        content: \"stderr output;\";\n",
       "    }\n",
       "</style>\n",
       "<script>\n",
       "    code_show=true; \n",
       "    IPython.OutputArea.prototype._should_scroll = function(lines) {\n",
       "        return false;\n",
       "    }\n",
       "    function code_toggle() {\n",
       "        if (code_show){\n",
       "            $('div.cell.code_cell.rendered.selected div.input').hide();\n",
       "        } else {\n",
       "            $('div.cell.code_cell.rendered.selected div.input').show();\n",
       "        }\n",
       "        code_show = !code_show\n",
       "    }     \n",
       "    $( document ).ready(code_toggle);\n",
       "</script>\n",
       "<a href=\"javascript:code_toggle()\"><h4>Notebook settings</h4></a>\n"
      ],
      "text/plain": [
       "<IPython.core.display.HTML object>"
      ]
     },
     "metadata": {},
     "output_type": "display_data"
    }
   ],
   "source": [
    "# @hidden_cell\n",
    "\"\"\" Bart Gerritsen, Oct 2018:\n",
    "\n",
    "Note: for safety and robustness, styles and script are contained inside\n",
    "      the Notebook rather than in external *.css and *.js files\n",
    "\"\"\"      \n",
    "from IPython.core.display import HTML\n",
    "from IPython.display import display\n",
    "tag = HTML('''\n",
    "<style>\n",
    "    /*TU color table */\n",
    "    :root {\n",
    "      --tu-black:        rgb(0,0,0);\n",
    "      --tu-white:        rgb(255,255,255);\n",
    "      --tu-cyan:         rgb(0,166,214);\n",
    "      --tu-green:        rgb(165,202,26);\n",
    "      --tu-yellow:       rgb(225,196,0);\n",
    "      --tu-orange:       rgb(230,70,22);\n",
    "      --tu-red:          rgb(225,26,26);\n",
    "      --tu-purple:       rgb(109,23,127);\n",
    "      --tu-slategreen:   rgb(107,134,137);\n",
    "      --tu-turqoise:     rgb(0,136,145);\n",
    "      --tu-darkblue:     rgb(29,28,115);\n",
    "      --tu-skyblue:      rgb(110,187,213);\n",
    "    }\n",
    "    h2, h3, h4 {\n",
    "        background-color: var(--tu-white);\n",
    "        color: var(--tu-cyan);\n",
    "    }\n",
    "    h1 {\n",
    "        background-color: var(--tu-cyan);\n",
    "        color: var(--tu-white);\n",
    "    }\n",
    "    em {\n",
    "        color: var(--tu-cyan);\n",
    "    }\n",
    "     \n",
    "    div.output_stdout {\n",
    "        background-color: var(--tu-green);\n",
    "        color: var(--tu-black);\n",
    "    }\n",
    "    div.output_stdout:before {\n",
    "        content: \"stdout output;\";\n",
    "    }\n",
    "    div.output_stderr {\n",
    "        background-color: var(--tu-yellow);\n",
    "        color: var(--tu-black);\n",
    "    }\n",
    "    div.output_stderr:before {\n",
    "        content: \"stderr output;\";\n",
    "    }\n",
    "</style>\n",
    "<script>\n",
    "    code_show=true; \n",
    "    IPython.OutputArea.prototype._should_scroll = function(lines) {\n",
    "        return false;\n",
    "    }\n",
    "    function code_toggle() {\n",
    "        if (code_show){\n",
    "            $('div.cell.code_cell.rendered.selected div.input').hide();\n",
    "        } else {\n",
    "            $('div.cell.code_cell.rendered.selected div.input').show();\n",
    "        }\n",
    "        code_show = !code_show\n",
    "    }     \n",
    "    $( document ).ready(code_toggle);\n",
    "</script>\n",
    "<a href=\"javascript:code_toggle()\"><h4>Notebook settings</h4></a>\n",
    "''')\n",
    "display(tag)"
   ]
  },
  {
   "cell_type": "markdown",
   "metadata": {
    "deletable": false,
    "editable": false,
    "nbgrader": {
     "checksum": "a03bbd8f73b7cc0dea0c99aad4c342c1",
     "grade": false,
     "grade_id": "cell-3e1916423f4065ea",
     "locked": true,
     "schema_version": 1,
     "solution": false
    }
   },
   "source": [
    "<header>\n",
    "    <div style=\"overflow: auto;\">\n",
    "        <img src=\"./figures/TUDelft.jpg\" style=\"float: left;\" />\n",
    "        <img src=\"./figures/DUT_Flame.png\" style=\"float: right; width: 100px;\" />\n",
    "    </div>\n",
    "    <div style=\"text-align: center;\">\n",
    "        <h2>Assignment A1: Abstract data types (Python3)</h2>\n",
    "        <h6>&copy; 2018, 2019, Bart Gerritsen, TU Delft.</h6>\n",
    "    </div>\n",
    "    <br>\n",
    "    <br>\n",
    "</header>"
   ]
  },
  {
   "cell_type": "markdown",
   "metadata": {},
   "source": [
    "###### J. Bus (4553896)\n",
    "###### C. van der Zalm (4541979)"
   ]
  },
  {
   "cell_type": "markdown",
   "metadata": {
    "deletable": false,
    "editable": false,
    "nbgrader": {
     "checksum": "e32377a35abe5881fff8b94396171827",
     "grade": false,
     "grade_id": "cell-da7da46897ddc431",
     "locked": true,
     "schema_version": 1,
     "solution": false
    }
   },
   "source": [
    "# Introduction <a class=\"anchor\" id=\"introduction\"/>\n",
    "Below, you find **Assignment A1**, a 2-student team assignment, for which the team has exactly 2 weeks. For this assignment, 100 points can be score altogether, assigning you a grade 8. During the assessment of you work, all team members should be able to explain, demo the work handed in, and answer background questions. During the assessment, you can raise your grade to a 10. On the other hand, assessors may lower the grade or even disqualify your work, in case your understanding of your own work appears poor or insufficient. In case of fraud, assessors will report this to the course responsible, without assinging a grade at all.    \n",
    "\n",
    "Do **not** Run-all ```|>|>``` , as there are some long tasks in this Notebook. Start at the top and run cell-by-cell, advancing downwards."
   ]
  },
  {
   "cell_type": "markdown",
   "metadata": {
    "deletable": false,
    "editable": false,
    "nbgrader": {
     "checksum": "caa094d680b0bc3f1ecb69f0c23075c6",
     "grade": false,
     "grade_id": "cell-55c80798b89ce00f",
     "locked": true,
     "schema_version": 1,
     "solution": false
    }
   },
   "source": [
    "## Doubly Linked List\n",
    "\n",
    "The purpose of this assignment is to make you familiar with implementing a data structure in Python in an object oriented way. During the lectures, you were presented pseudo code of different basic data structures. Now we expect you to implement one of these structures yourself.\n",
    "\n",
    "To make it clear what is needed, we will provide you with the following (skeletons of) classes: \n",
    "\n",
    "1. `class Node` \n",
    "2. `class DoublyLinkedList`\n",
    "3. `class Stack`\n",
    "\n",
    "The first one is already implemented (you don't need to modify it, just **Run it**). This ```class Node```will be used to hold information for each node in the `DoublyLinkedList` as well as the `Stack`. The other classes are templates (skeletons), with incompletely implemented code, empty methods, etc. and your assignment is to come up with an implementation of these parts, so that the questions asked and the tasks assigned can be answered and demonstrated with running code.\n",
    "\n",
    "Recall that when a list is doubly linked, each node contains a reference to the previous node in the chain and a reference to the next node. See the below sketch. Furthermore, observe that `class Queue` uses `class Node` objects too, while `class Stack` uses a list of fixed length. \n",
    "\n",
    "<img width=\"640\" src=\"./figures/DLL.png\"/>"
   ]
  },
  {
   "cell_type": "code",
   "execution_count": 2,
   "metadata": {},
   "outputs": [],
   "source": [
    "class Node:\n",
    "    \"\"\"Doubly linked node which stores an object\"\"\"\n",
    "\n",
    "    def __init__(self, data, next_node=None, previous_node=None):\n",
    "        \"\"\"create a doubly link-able Node object containing data\"\"\"\n",
    "        self.__data = data\n",
    "        self.__next_node = next_node\n",
    "        self.__previous_node = previous_node\n",
    "\n",
    "    def get_data(self):\n",
    "        \"\"\"Returns the data item stored in this node\"\"\"\n",
    "        return self.__data\n",
    "\n",
    "    def get_previous(self):\n",
    "        \"\"\"Returns the previous linked node\"\"\"\n",
    "        return self.__previous_node\n",
    "\n",
    "    def get_next(self):\n",
    "        \"\"\"Returns the next linked node\"\"\"\n",
    "        return self.__next_node\n",
    "\n",
    "    def set_data(self, new_data):\n",
    "        \"\"\"Sets the data stored in this node\"\"\"\n",
    "        self.__data = new_data\n",
    "\n",
    "    def set_previous(self, previous_node):\n",
    "        \"\"\"Sets the previous linked node\"\"\"\n",
    "        self.__previous_node = previous_node\n",
    "\n",
    "    def set_next(self, next_node):\n",
    "        \"\"\"sets the next linked node\"\"\"\n",
    "        self.__next_node = next_node\n",
    "        \n",
    "    def __eq__(self, other):\n",
    "        \"\"\"Return T|F self equal to other\"\"\"\n",
    "        return self.get_data() == other.get_data()\n",
    "        \n",
    "    def __lt__(self, other):\n",
    "        '''Return T|F self smaller than other'''\n",
    "        return self.get_data() < other.get_data()\n",
    "    \n",
    "    ### EXTRA\n",
    "    def __str__(self):\n",
    "        \"\"\"Return string representation of doubly linked list\"\"\"\n",
    "        return str(self.__data)\n"
   ]
  },
  {
   "cell_type": "markdown",
   "metadata": {
    "deletable": false,
    "editable": false,
    "nbgrader": {
     "checksum": "bfe8db72288e318493ff8eb2bc6aca73",
     "grade": false,
     "grade_id": "cell-8bf336b361d9261f",
     "locked": true,
     "schema_version": 1,
     "solution": false
    }
   },
   "source": [
    "## EXERCISE 1: Complete the implementation of `class DoublyLinkedList`"
   ]
  },
  {
   "cell_type": "code",
   "execution_count": 3,
   "metadata": {
    "deletable": false,
    "nbgrader": {
     "checksum": "5b9ee60c626b1f5033b1ad45a814ebfd",
     "grade": false,
     "grade_id": "q_1_0_1",
     "locked": false,
     "schema_version": 1,
     "solution": true
    }
   },
   "outputs": [],
   "source": [
    "class DoublyLinkedList:\n",
    "    \"\"\"Implements a doubly linked list object\"\"\"\n",
    "    \n",
    "    def __init__(self):\n",
    "        \"\"\"Create an empty doubly linked list\"\"\"\n",
    "        self.__size = 0\n",
    "        self.__header = Node('Header')\n",
    "        self.__trailer = Node('Trailer')\n",
    "        self.__header.set_next(self.__trailer)\n",
    "        self.__trailer.set_previous(self.__header)\n",
    "        self.__current = None\n",
    "        \n",
    "    def __str__(self):\n",
    "        \"\"\"Return string representation of doubly linked list\"\"\"\n",
    "        list_as_str = \\\n",
    "        '-'.join([str(node.get_data()) for node in self] if not self.is_empty() else '')\n",
    "        return 'H-' + list_as_str + '-T'\n",
    "        \n",
    "    def __iter__(self):\n",
    "        \"\"\"Standard python iterator protocol method\"\"\"\n",
    "        self.__current = self.get_first()\n",
    "        return self\n",
    "\n",
    "    def __next__(self):\n",
    "        \"\"\"Standard python iterator protocol method\"\"\"\n",
    "        if self.__current == self.__trailer:\n",
    "            raise StopIteration()\n",
    "        result = self.__current\n",
    "        self.__current = self.__current.get_next()\n",
    "        return result\n",
    "    \n",
    "    def get_previous(self, node):\n",
    "        \"\"\"Returns the node before the given node\"\"\"\n",
    "        if node is None:\n",
    "            return None\n",
    "        else:\n",
    "            return self.__previous_node\n",
    "\n",
    "    def get_next(self, node):\n",
    "        \"\"\"Returns the node after the given node\"\"\"\n",
    "        if node is None:\n",
    "            return None\n",
    "        else:\n",
    "            self.__next_node\n",
    "            \n",
    "    def get_size(self):\n",
    "        \"\"\"Return the number of elements in the list\"\"\"\n",
    "        return self.__size\n",
    "\n",
    "\n",
    "    def get_first(self):\n",
    "        \"\"\"Get the first element of the list\"\"\"\n",
    "        return self.__header.get_next()\n",
    "        \n",
    "    def get_last(self):\n",
    "        \"\"\"Get the last element of the list\"\"\"\n",
    "        return self.__trailer.get_previous()\n",
    "        \n",
    "    def is_empty(self):\n",
    "        \"\"\"Returns T|F list is empty\"\"\"\n",
    "        return not bool(self.get_size())\n",
    "        \n",
    "    def add_first(self, new_node):\n",
    "        \"\"\"Insert new node at the head of the list\"\"\"\n",
    "        firstNode = self.get_first()\n",
    "        \n",
    "        self.__header.set_next(new_node)\n",
    "        new_node.set_previous(self.__header)\n",
    "        new_node.set_next(firstNode)\n",
    "        firstNode.set_previous(new_node)\n",
    "        \n",
    "        self.__size += 1\n",
    "        \n",
    "    def add_last(self, new_node):\n",
    "        \"\"\"Insert new node at the tail of the list\"\"\"\n",
    "        lastNode=self.get_last()\n",
    "        self.__trailer.set_previous(new_node)\n",
    "        new_node.set_next(self.__trailer)\n",
    "        lastNode.set_next(new_node)\n",
    "        new_node.set_previous(lastNode)\n",
    "        \n",
    "        self.__size += 1\n",
    "        \n",
    "    def remove(self, node):\n",
    "        \"\"\"Remove the given node from the list, return node\"\"\"\n",
    "        previousNode=node.get_previous()\n",
    "        nextNode=node.get_next()\n",
    "        nextNode.set_previous(previousNode)\n",
    "        previousNode.set_next(nextNode)\n",
    "        \n",
    "        self.__size -= 1\n",
    "        \n",
    "    def search(self, key):\n",
    "        \"\"\"Return item by key, None if not found\"\"\"\n",
    "        currentNode = self.__header\n",
    "        for i in range(self.get_size()+2):  #traverse from header upto (and including) trailer \n",
    "            if currentNode.get_data() == key:\n",
    "                return currentNode\n",
    "            currentNode = currentNode.get_next()        \n",
    "        return None\n",
    "        \n",
    "    def smallest(self):\n",
    "        \"\"\"Return node with smallest value\"\"\"\n",
    "        sml  = float(\"inf\")\n",
    "        sml_Node = self.get_first()\n",
    "        \n",
    "        currentNode = sml_Node\n",
    "        for i in range(self.get_size()): #traverse from first node to last node \n",
    "            x = currentNode.get_data()\n",
    "            if isinstance(x, (int, float)):\n",
    "                if x < sml:\n",
    "                    sml = x\n",
    "                    sml_Node = currentNode\n",
    "            currentNode = currentNode.get_next()\n",
    "        return sml_Node\n",
    "    \n",
    "    def traverse(self, visitor):\n",
    "        \"\"\"Visit every element in the list, call visitor\"\"\"\n",
    "        currentNode = self.get_first()\n",
    "        for i in range(self.get_size()): #traverse from first node to last node\n",
    "            visitor(currentNode)\n",
    "            currentNode = currentNode.get_next()"
   ]
  },
  {
   "cell_type": "code",
   "execution_count": null,
   "metadata": {
    "deletable": false,
    "editable": false,
    "nbgrader": {
     "checksum": "63a4c4be040c716690fa450284756a7f",
     "grade": true,
     "grade_id": "at_1_0_1",
     "locked": true,
     "points": 2,
     "schema_version": 1,
     "solution": false
    }
   },
   "outputs": [],
   "source": []
  },
  {
   "cell_type": "markdown",
   "metadata": {
    "deletable": false,
    "editable": false,
    "nbgrader": {
     "checksum": "6ec0a0491d721cf6730f32b9131d1ffa",
     "grade": false,
     "grade_id": "cell-26030dd470a1a114",
     "locked": true,
     "schema_version": 1,
     "solution": false
    }
   },
   "source": [
    "#### Task 1.1\n",
    "Using the implementation of `class DoublyLinkedList` *as-is*, create an empty doubly linked list in the cell below, and check its type. Make sure you ran the above cell so that `class Node` and `class DoublyLinkedList`, before running this cell."
   ]
  },
  {
   "cell_type": "code",
   "execution_count": 4,
   "metadata": {
    "deletable": false,
    "nbgrader": {
     "checksum": "2c217cc763e9e43b959a6abe9b05b845",
     "grade": false,
     "grade_id": "q_1_1_0",
     "locked": false,
     "schema_version": 1,
     "solution": true
    }
   },
   "outputs": [
    {
     "name": "stdout",
     "output_type": "stream",
     "text": [
      "dl_list is of the the type <class '__main__.DoublyLinkedList'>\n"
     ]
    }
   ],
   "source": [
    "# Task 1.1 code cell\n",
    "\n",
    "dl_list = DoublyLinkedList()\n",
    "\n",
    "print(f'dl_list is of the the type {type(dl_list)}')\n"
   ]
  },
  {
   "cell_type": "code",
   "execution_count": null,
   "metadata": {
    "deletable": false,
    "editable": false,
    "nbgrader": {
     "checksum": "7b7e13df46aecb51c23095adbeb3cb92",
     "grade": true,
     "grade_id": "at_1_1_0",
     "locked": true,
     "points": 1,
     "schema_version": 1,
     "solution": false
    }
   },
   "outputs": [],
   "source": []
  },
  {
   "cell_type": "markdown",
   "metadata": {},
   "source": [
    "#### Task 1.2\n",
    "Wihtout using `DoublyLinkedList._size` or `DoublyLinkedList.get_size()`, implement method `DoublyLinkedList.is_empty()` method and verify that the `dl_list` object is an empty doubly linked list indeed. In the code cell for Task 1.2, complete the prepared `print()` statement so that it prints the given message, plus `True` or `False`, resulting from your `is_empty()` method."
   ]
  },
  {
   "cell_type": "code",
   "execution_count": 5,
   "metadata": {
    "deletable": false,
    "nbgrader": {
     "checksum": "459ab84cd9661f005fd56a440d1dcd1a",
     "grade": false,
     "grade_id": "q_1_2_0",
     "locked": false,
     "schema_version": 1,
     "solution": true
    }
   },
   "outputs": [
    {
     "name": "stdout",
     "output_type": "stream",
     "text": [
      "dl_list is empty? True\n"
     ]
    }
   ],
   "source": [
    "# Task 1.2 code cell\n",
    "\n",
    "# complete the following print ...\n",
    "\n",
    "\n",
    "print(f'dl_list is empty? {dl_list.is_empty()}')\n"
   ]
  },
  {
   "cell_type": "code",
   "execution_count": null,
   "metadata": {
    "deletable": false,
    "editable": false,
    "nbgrader": {
     "checksum": "8bb1353b93ed16dba03aaa0c827ef807",
     "grade": true,
     "grade_id": "at_1_2_0",
     "locked": true,
     "points": 1,
     "schema_version": 1,
     "solution": false
    }
   },
   "outputs": [],
   "source": []
  },
  {
   "cell_type": "markdown",
   "metadata": {},
   "source": [
    "#### Task 1.3\n",
    "Next, implement function `DoublyLinkedList.get_size()` and show that at this stage, the `dl_list` object we created has zero nodes in it. To that end, complete the below `print()` statement printing this."
   ]
  },
  {
   "cell_type": "code",
   "execution_count": 6,
   "metadata": {
    "deletable": false,
    "nbgrader": {
     "checksum": "dad3acf48541c43aa2618ac32dca12d6",
     "grade": false,
     "grade_id": "q_1_3_0",
     "locked": false,
     "schema_version": 1,
     "solution": true
    }
   },
   "outputs": [
    {
     "name": "stdout",
     "output_type": "stream",
     "text": [
      "The empty doubly linked list has: 0 nodes.\n"
     ]
    }
   ],
   "source": [
    "# Task 1.3 code cell\n",
    "\n",
    "print(f'The empty doubly linked list has: {dl_list.get_size()} nodes.')\n",
    "\n"
   ]
  },
  {
   "cell_type": "code",
   "execution_count": null,
   "metadata": {
    "deletable": false,
    "editable": false,
    "nbgrader": {
     "checksum": "b4f5ac59ec74ebd1def2b5b1a99b2ff1",
     "grade": true,
     "grade_id": "at_1_3_0",
     "locked": true,
     "points": 1,
     "schema_version": 1,
     "solution": false
    }
   },
   "outputs": [],
   "source": []
  },
  {
   "cell_type": "markdown",
   "metadata": {},
   "source": [
    "#### Task 1.4\n",
    "Print `dl_list` as a string by completing the below `print()` statement."
   ]
  },
  {
   "cell_type": "code",
   "execution_count": 7,
   "metadata": {
    "deletable": false,
    "nbgrader": {
     "checksum": "d4d0f874c8963d26dd9d8dd47f41097d",
     "grade": false,
     "grade_id": "q_1_4_0",
     "locked": false,
     "schema_version": 1,
     "solution": true
    }
   },
   "outputs": [
    {
     "name": "stdout",
     "output_type": "stream",
     "text": [
      "The doubly linked list dl_list so far is as follows: H--T\n",
      "<class 'str'>\n"
     ]
    }
   ],
   "source": [
    "# Task 1.4 code cell\n",
    "\n",
    "list_as_a_string = dl_list.__str__()\n",
    "\n",
    "# how to print the list as a string?\n",
    "# YOUR CODE HERE\n",
    "\n",
    "print(f'The doubly linked list dl_list so far is as follows: {list_as_a_string}')\n",
    "print(type(list_as_a_string))"
   ]
  },
  {
   "cell_type": "code",
   "execution_count": null,
   "metadata": {
    "deletable": false,
    "editable": false,
    "nbgrader": {
     "checksum": "49ec47beeee9caef3688abaf76f4727d",
     "grade": true,
     "grade_id": "at_1_4_0",
     "locked": true,
     "points": 1,
     "schema_version": 1,
     "solution": false
    }
   },
   "outputs": [],
   "source": []
  },
  {
   "cell_type": "markdown",
   "metadata": {},
   "source": [
    "#### Task 1.5\n",
    "We are now going to implement `DoublyLinkedList.get_next()`, `.get_previous()`, `.get_first()` and `.get_last()`. See the below table for details.\n",
    "\n",
    "Method:\n",
    "\n",
    "| Method | Is to do this |\n",
    "|:---:|:---|\n",
    "| `get_first(self)` | return the first `Node` in the list |\n",
    "| `get_last(self)` | return the last `Node` in the list |\n",
    "| `get_next(self, node)` | return the node immediately following `node`, None of no next |\n",
    "| `get_previous(self, node)` | return the node immediately preceeding `node`, None of no previous |\n",
    "\n",
    "We cannot adequately test these methods now, because all our lists we could create so far are empty. All we can do now, is test this. We will have to postpone further testing until we have a filled list."
   ]
  },
  {
   "cell_type": "code",
   "execution_count": 8,
   "metadata": {
    "deletable": false,
    "nbgrader": {
     "checksum": "3aea6592eb3c3c0739cc8d600452b75a",
     "grade": false,
     "grade_id": "q_1_5_0",
     "locked": false,
     "schema_version": 1,
     "solution": true
    }
   },
   "outputs": [
    {
     "name": "stdout",
     "output_type": "stream",
     "text": [
      "The list at this point is as follows: H--T\n",
      "First node in this list is: Trailer\n",
      "Last node in this list is: Header\n",
      "Previous of the first node in this list is: Header\n",
      "Next of the first node in this list is: None\n",
      "Previous of the last node in this list is: None\n",
      "Next of the last node in this list is: Trailer\n",
      "0\n"
     ]
    }
   ],
   "source": [
    "# Task 1.5 code cell\n",
    "\n",
    "# make sure we have a fresh new empty list \n",
    "dl_list = DoublyLinkedList()\n",
    "\n",
    "print(f'The list at this point is as follows: {dl_list}')\n",
    "\n",
    "print(f'First node in this list is: {dl_list.get_first().get_data()}')\n",
    "print(f'Last node in this list is: {dl_list.get_last().get_data()}')\n",
    "\n",
    "# print the values of the dummy nodes Header and Trailer ...\n",
    "print(f'Previous of the first node in this list is: {dl_list.get_first().get_previous()}')\n",
    "print(f'Next of the first node in this list is: {dl_list.get_first().get_next()}')\n",
    "print(f'Previous of the last node in this list is: {dl_list.get_last().get_previous()}')\n",
    "print(f'Next of the last node in this list is: {dl_list.get_last().get_next()}')\n",
    "\n",
    "# YOUR CODE HERE\n",
    "print(dl_list.get_size())"
   ]
  },
  {
   "cell_type": "code",
   "execution_count": null,
   "metadata": {
    "deletable": false,
    "editable": false,
    "nbgrader": {
     "checksum": "f087660785d6fded592d26081690a262",
     "grade": true,
     "grade_id": "at_1_5_0",
     "locked": true,
     "points": 4,
     "schema_version": 1,
     "solution": false
    }
   },
   "outputs": [],
   "source": []
  },
  {
   "cell_type": "markdown",
   "metadata": {},
   "source": [
    "#### Task 1.6\n",
    "Implement the `DoublyLinkedList.add_last()` method, adding a new node `new_node` (of type: `Node`, and not just a data item) at the end (the tail) of the list. Also, increase the list size by 1, after you inserted the new node. Use your method to add new nodes at the end of the list, using the below code. As a check, print the size of the list below the last code line yourself."
   ]
  },
  {
   "cell_type": "code",
   "execution_count": 9,
   "metadata": {
    "deletable": false,
    "nbgrader": {
     "checksum": "fc0a0be56cf4587a9b79f915f89cc108",
     "grade": false,
     "grade_id": "q_1_6_0",
     "locked": false,
     "schema_version": 1,
     "solution": true
    },
    "scrolled": true
   },
   "outputs": [
    {
     "name": "stdout",
     "output_type": "stream",
     "text": [
      "doubly linked list after add nodes to the end: H-2-8-9-6-T\n",
      "The empty doubly linked list has: 4 nodes.\n"
     ]
    }
   ],
   "source": [
    "# Task 1.6 code cell\n",
    "dl_list = DoublyLinkedList() # fresh new list\n",
    "nodes = [2, 8, 9, 6]\n",
    "\n",
    "# restart with a fresh new list ...\n",
    "for i in nodes:\n",
    "    dl_list.add_last(Node(i))\n",
    "    \n",
    "\n",
    "\n",
    "print(f'doubly linked list after add nodes to the end: {dl_list}')\n",
    "print(f'The empty doubly linked list has: {dl_list.get_size()} nodes.')"
   ]
  },
  {
   "cell_type": "code",
   "execution_count": null,
   "metadata": {
    "deletable": false,
    "editable": false,
    "nbgrader": {
     "checksum": "48f43397ecfeb99728f935c86b4e1edc",
     "grade": true,
     "grade_id": "at_1_6_0",
     "locked": true,
     "points": 2,
     "schema_version": 1,
     "solution": false
    }
   },
   "outputs": [],
   "source": []
  },
  {
   "cell_type": "code",
   "execution_count": null,
   "metadata": {
    "deletable": false,
    "editable": false,
    "nbgrader": {
     "checksum": "674c7fec9953e4ec2976dc00e65be6af",
     "grade": true,
     "grade_id": "at_1_6_1",
     "locked": true,
     "points": 1,
     "schema_version": 1,
     "solution": false
    }
   },
   "outputs": [],
   "source": []
  },
  {
   "cell_type": "code",
   "execution_count": null,
   "metadata": {
    "deletable": false,
    "editable": false,
    "nbgrader": {
     "checksum": "63e037ad523b09d5a2712267f046dd3a",
     "grade": true,
     "grade_id": "at_1_6_2",
     "locked": true,
     "points": 1,
     "schema_version": 1,
     "solution": false
    }
   },
   "outputs": [],
   "source": []
  },
  {
   "cell_type": "markdown",
   "metadata": {},
   "source": [
    "#### Task 1.7\n",
    "Now implement the `DoublyLinkedList.add_first()` method, adding a new node `new_node` (of type: `Node`, and not just a data item) at the head of the list, before the first node. Again, increase the list size by 1, after inserting a new node. Use your method to add new nodes at the head of the list, using the below code. Again, as a check, print the size of the list below the last code line yourself.\n",
    "\n",
    "*Q* what do you observe when running `add_first()`? Is this as expected?"
   ]
  },
  {
   "cell_type": "code",
   "execution_count": 10,
   "metadata": {
    "deletable": false,
    "nbgrader": {
     "checksum": "f1df1d0c3ca77afd3ab74020d7a8646b",
     "grade": false,
     "grade_id": "q_1_7_0",
     "locked": false,
     "schema_version": 1,
     "solution": true
    }
   },
   "outputs": [
    {
     "name": "stdout",
     "output_type": "stream",
     "text": [
      "doubly linked list after add nodes to the head: H-5-7-3-4-T\n",
      "The empty doubly linked list has: 4 nodes.\n"
     ]
    }
   ],
   "source": [
    "# Task 1.7 code cell\n",
    "\n",
    "nodes = [4, 3, 7, 5]\n",
    "\n",
    "# restart with a fresh new list ...\n",
    "dl_list = DoublyLinkedList()\n",
    "\n",
    "for i in nodes:\n",
    "    dl_list.add_first(Node(i))\n",
    "\n",
    "\n",
    "print(f'doubly linked list after add nodes to the head: {dl_list}')\n",
    "print(f'The empty doubly linked list has: {dl_list.get_size()} nodes.')"
   ]
  },
  {
   "cell_type": "code",
   "execution_count": null,
   "metadata": {
    "deletable": false,
    "editable": false,
    "nbgrader": {
     "checksum": "5c4f88f4c7bb63ced64200496df4989f",
     "grade": true,
     "grade_id": "at_1_7_0",
     "locked": true,
     "points": 2,
     "schema_version": 1,
     "solution": false
    }
   },
   "outputs": [],
   "source": []
  },
  {
   "cell_type": "code",
   "execution_count": null,
   "metadata": {
    "deletable": false,
    "editable": false,
    "nbgrader": {
     "checksum": "500faff80fe46c2b509009696db52926",
     "grade": true,
     "grade_id": "at_1_7_1",
     "locked": true,
     "points": 1,
     "schema_version": 1,
     "solution": false
    }
   },
   "outputs": [],
   "source": []
  },
  {
   "cell_type": "code",
   "execution_count": null,
   "metadata": {
    "deletable": false,
    "editable": false,
    "nbgrader": {
     "checksum": "23a2126b148d8ab759865360b5c8c3d6",
     "grade": true,
     "grade_id": "at_1_7_2",
     "locked": true,
     "points": 1,
     "schema_version": 1,
     "solution": false
    }
   },
   "outputs": [],
   "source": []
  },
  {
   "cell_type": "markdown",
   "metadata": {},
   "source": [
    "#### Task 1.8\n",
    "We are now going to combine these two insertion operation; see the below code. We insert the first half of the nodes at the head, and then the second half at the end. See the code cell below. Finalize it, run it and check it. We start out with an empty list again and do insertions on this list. Now that we have a filled list, we can also redo the check we (partly) did in Task 1.5."
   ]
  },
  {
   "cell_type": "code",
   "execution_count": 11,
   "metadata": {
    "deletable": false,
    "nbgrader": {
     "checksum": "616e9b9bc02d2e8acecd7c2e59c51141",
     "grade": false,
     "grade_id": "q_1_8_0",
     "locked": false,
     "schema_version": 1,
     "solution": true
    }
   },
   "outputs": [
    {
     "name": "stdout",
     "output_type": "stream",
     "text": [
      "Is the list empty at the start? True\n",
      "Check: empty doubly linked list: H--T\n",
      "Is the list empty at after both insertions? False\n",
      "After both insertions, the list has: 8 nodes\n",
      "The list at this point is as follows: H-5-7-3-4-2-8-9-6-T\n",
      "The first node in this list is: 5\n",
      "The last node in this list is: 6\n",
      "next of the first node is: 7\n",
      "previous of the last node is: 9\n"
     ]
    }
   ],
   "source": [
    "# Task 1.8 code cell\n",
    "\n",
    "# create a new empty doubly linked list ...\n",
    "dl_list = DoublyLinkedList()\n",
    "\n",
    "print(f'Is the list empty at the start? {dl_list.is_empty()}')\n",
    "print(f'Check: empty doubly linked list: {dl_list}')\n",
    "\n",
    "# data of the nodes to add ...\n",
    "nodes = [4, 3, 7, 5, 2, 8, 9, 6]\n",
    "\n",
    "# determine the mid item index ...\n",
    "mid = len(nodes) // 2\n",
    "\n",
    "# insert the first half of the nodes (up to mid) at the head ...\n",
    "for i in nodes[:mid]:\n",
    "    dl_list.add_first(Node(i))\n",
    "\n",
    "# and the second half at the end ...\n",
    "for i in nodes[mid:]:\n",
    "    dl_list.add_last(Node(i))\n",
    "    \n",
    "print(f'Is the list empty at after both insertions? {dl_list.is_empty()}')\n",
    "print(f'After both insertions, the list has: {dl_list.get_size()} nodes')\n",
    "\n",
    "# redo the partially done test we did in Task 1.5 ...\n",
    "print(f'The list at this point is as follows: {dl_list}')\n",
    "\n",
    "# redo the following tests ....\n",
    "print(f'The first node in this list is: {dl_list.get_first()}')\n",
    "print(f'The last node in this list is: {dl_list.get_last()}')\n",
    "print(f'next of the first node is: {dl_list.get_first().get_next()}')\n",
    "print(f'previous of the last node is: {dl_list.get_last().get_previous()}')\n",
    "\n",
    "# YOUR CODE HERE"
   ]
  },
  {
   "cell_type": "code",
   "execution_count": null,
   "metadata": {
    "deletable": false,
    "editable": false,
    "nbgrader": {
     "checksum": "3741b75c9ae6e7b6cd06d54c4bce7db1",
     "grade": true,
     "grade_id": "at_1_8_0",
     "locked": true,
     "points": 2,
     "schema_version": 1,
     "solution": false
    }
   },
   "outputs": [],
   "source": []
  },
  {
   "cell_type": "code",
   "execution_count": null,
   "metadata": {
    "deletable": false,
    "editable": false,
    "nbgrader": {
     "checksum": "16a1d189a354631f8a538c2a1a201fec",
     "grade": true,
     "grade_id": "at_1_8_1",
     "locked": true,
     "points": 1,
     "schema_version": 1,
     "solution": false
    }
   },
   "outputs": [],
   "source": []
  },
  {
   "cell_type": "code",
   "execution_count": null,
   "metadata": {
    "deletable": false,
    "editable": false,
    "nbgrader": {
     "checksum": "0dab81f0f7eefb4f798135f2a6a2dcdd",
     "grade": true,
     "grade_id": "at_1_8_2",
     "locked": true,
     "points": 1,
     "schema_version": 1,
     "solution": false
    }
   },
   "outputs": [],
   "source": []
  },
  {
   "cell_type": "markdown",
   "metadata": {},
   "source": [
    "#### Task 1.9\n",
    "Implement the `DoublyLinkedList.search()` method: givven a search `key`, return the *first node* that contains this key as data, or `None` if the key has not been found in the list. Run the below code to test and verify the correctness of your implementation"
   ]
  },
  {
   "cell_type": "code",
   "execution_count": 12,
   "metadata": {
    "deletable": false,
    "nbgrader": {
     "checksum": "90713f7bb49fd042a94f7620516f59a2",
     "grade": false,
     "grade_id": "q_1_9_0",
     "locked": false,
     "schema_version": 1,
     "solution": true
    }
   },
   "outputs": [
    {
     "name": "stdout",
     "output_type": "stream",
     "text": [
      "The list at this point is as follows: H-5-7-3-4-2-8-9-6-T\n",
      "Searching the list;\n",
      "...looking for key: 1... not on the list.\n",
      "...looking for key: 2... found. Check: 2\n",
      "...looking for key: 3... found. Check: 3\n",
      "...looking for key: 4... found. Check: 4\n",
      "...looking for key: 5... found. Check: 5\n",
      "...looking for key: 6... found. Check: 6\n",
      "...looking for key: 7... found. Check: 7\n",
      "...looking for key: 8... found. Check: 8\n",
      "...looking for key: 9... found. Check: 9\n",
      "...looking for key: x... not on the list.\n",
      "...looking for key: None... not on the list.\n",
      "done\n"
     ]
    }
   ],
   "source": [
    "# Task 1.9 code cell\n",
    "\n",
    "# we reuse the list of the previous task ...\n",
    "print(f'The list at this point is as follows: {dl_list}')\n",
    "\n",
    "print('Searching the list;')\n",
    "for key in (1, 2, 3, 4, 5, 6, 7, 8, 9, 'x', None):\n",
    "    # search for the node with this key ...\n",
    "    print(f'...looking for key: {key}...', end=' ')\n",
    "    node = dl_list.search(key)\n",
    "    if node is None:\n",
    "        print(f'not on the list.')\n",
    "    else:\n",
    "        print(f'found. Check: {node.get_data()}')\n",
    "\n",
    "print('done')"
   ]
  },
  {
   "cell_type": "code",
   "execution_count": null,
   "metadata": {
    "deletable": false,
    "editable": false,
    "nbgrader": {
     "checksum": "cc727fc3ef3f130417849000d187d432",
     "grade": true,
     "grade_id": "at_1_9_0",
     "locked": true,
     "points": 4,
     "schema_version": 1,
     "solution": false
    }
   },
   "outputs": [],
   "source": []
  },
  {
   "cell_type": "code",
   "execution_count": null,
   "metadata": {
    "deletable": false,
    "editable": false,
    "nbgrader": {
     "checksum": "aa1299b9d7142ed7a77d7b6829cc0a95",
     "grade": true,
     "grade_id": "at_1_9_1",
     "locked": true,
     "points": 4,
     "schema_version": 1,
     "solution": false
    }
   },
   "outputs": [],
   "source": []
  },
  {
   "cell_type": "markdown",
   "metadata": {},
   "source": [
    "#### Task 1.10\n",
    "Implement `DoublyLinkedList.remove(self, node)`: given a node, remove it from the list."
   ]
  },
  {
   "cell_type": "code",
   "execution_count": 13,
   "metadata": {
    "deletable": false,
    "nbgrader": {
     "checksum": "fe8e8a2ecdc6e39b6717b2986a751625",
     "grade": false,
     "grade_id": "q_1_10_0",
     "locked": false,
     "schema_version": 1,
     "solution": true
    }
   },
   "outputs": [
    {
     "name": "stdout",
     "output_type": "stream",
     "text": [
      "The list at this point is as follows: H-5-7-3-4-2-8-9-6-T\n",
      "Empty-ing the list;\n",
      "...removing node with key: 0... node not on the list.\n",
      "...removing node with key: 1... node not on the list.\n",
      "...removing node with key: 2... node found ... removed. ...new list: H-5-7-3-4-8-9-6-T\n",
      "...removing node with key: 3... node found ... removed. ...new list: H-5-7-4-8-9-6-T\n",
      "...removing node with key: 4... node found ... removed. ...new list: H-5-7-8-9-6-T\n",
      "...removing node with key: 5... node found ... removed. ...new list: H-7-8-9-6-T\n",
      "...removing node with key: 6... node found ... removed. ...new list: H-7-8-9-T\n",
      "...removing node with key: 7... node found ... removed. ...new list: H-8-9-T\n",
      "...removing node with key: 8... node found ... removed. ...new list: H-9-T\n",
      "...removing node with key: 9... node found ... removed. ...new list: H--T\n",
      "...removing node with key: 10... node not on the list.\n",
      "done. List is really empty? True\n"
     ]
    }
   ],
   "source": [
    "# Task 1.10 code cell\n",
    "\n",
    "# helper function that gives us a new list \n",
    "# before every run of this cell ...\n",
    "def create_list_to_remove():\n",
    "    \"\"\" return a list: H-5-7-3-4-2-8-9-6-T \"\"\"\n",
    "    _dll = DoublyLinkedList()\n",
    "    for d in [5, 7, 3, 4, 2, 8, 9, 6]:\n",
    "        _dll.add_last(Node(d))\n",
    "    return _dll\n",
    "\n",
    "dll_to_remove = create_list_to_remove()\n",
    "print(f'The list at this point is as follows: {dll_to_remove}')\n",
    "\n",
    "print('Empty-ing the list;')\n",
    "for key in (0, 1, 2, 3, 4, 5, 6, 7, 8, 9, 10):\n",
    "    # search for the key in the list ...\n",
    "    # YOUR CODE HERE\n",
    "    node = dll_to_remove.search(key)\n",
    "    print(f'...removing node with key: {key}...', end=' ')\n",
    "    if node is None:\n",
    "        print(f'node not on the list.')\n",
    "    else:\n",
    "        print(f'node found ...', end=' ')\n",
    "        # remove it ...\n",
    "        dll_to_remove.remove(node)\n",
    "        print('removed.', end=' ')\n",
    "        print(f'...new list: {dll_to_remove}')\n",
    "\n",
    "print(f'done. List is really empty? {dll_to_remove.is_empty()}')"
   ]
  },
  {
   "cell_type": "code",
   "execution_count": null,
   "metadata": {
    "deletable": false,
    "editable": false,
    "nbgrader": {
     "checksum": "96fbb065ee7f292ee90423d5bc268ab7",
     "grade": true,
     "grade_id": "at_1_10_0",
     "locked": true,
     "points": 4,
     "schema_version": 1,
     "solution": false
    }
   },
   "outputs": [],
   "source": []
  },
  {
   "cell_type": "markdown",
   "metadata": {},
   "source": [
    "#### Task 1.11\n",
    "We are going to find the smallest value in the list. To that end, implement method `DoublyLinkedList.smallest()`. Iterate over the doubly linked list and keep track of the node with the smallest value. Print the result using the below code."
   ]
  },
  {
   "cell_type": "code",
   "execution_count": 14,
   "metadata": {
    "deletable": false,
    "nbgrader": {
     "checksum": "3763c3a73dfebb64a052d059bf67c59d",
     "grade": false,
     "grade_id": "q_1_11_0",
     "locked": false,
     "schema_version": 1,
     "solution": true
    }
   },
   "outputs": [
    {
     "name": "stdout",
     "output_type": "stream",
     "text": [
      "The list at this point is as follows: H-5-7-3-4-2-8-9-6-T\n",
      "The smallest *value* element in the list H-5-7-3-4-2-8-9-6-T = 2\n"
     ]
    }
   ],
   "source": [
    "# Task 1.11 code cell\n",
    "\n",
    "# we continue using the `dl_list` we created in the beginning \n",
    "# (if you ruined it, rerun all the above cells).\n",
    "\n",
    "print(f'The list at this point is as follows: {dl_list}')  # check it\n",
    "print(f'The smallest *value* element in the list {dl_list} = { dl_list.smallest()}')\n"
   ]
  },
  {
   "cell_type": "code",
   "execution_count": null,
   "metadata": {
    "deletable": false,
    "editable": false,
    "nbgrader": {
     "checksum": "ef5222a6f3757fa4c3db62ddb48170c1",
     "grade": true,
     "grade_id": "at_1_11_0",
     "locked": true,
     "points": 1,
     "schema_version": 1,
     "solution": false
    }
   },
   "outputs": [],
   "source": []
  },
  {
   "cell_type": "code",
   "execution_count": null,
   "metadata": {
    "deletable": false,
    "editable": false,
    "nbgrader": {
     "checksum": "2ba082aaefc8aeadb79a7c31b70eda84",
     "grade": true,
     "grade_id": "at_1_11_1",
     "locked": true,
     "points": 1,
     "schema_version": 1,
     "solution": false
    }
   },
   "outputs": [],
   "source": []
  },
  {
   "cell_type": "code",
   "execution_count": null,
   "metadata": {
    "deletable": false,
    "editable": false,
    "nbgrader": {
     "checksum": "b41c47af11b56aedbdb76abba72eee8e",
     "grade": true,
     "grade_id": "at_1_11_2",
     "locked": true,
     "points": 1,
     "schema_version": 1,
     "solution": false
    }
   },
   "outputs": [],
   "source": []
  },
  {
   "cell_type": "code",
   "execution_count": null,
   "metadata": {
    "deletable": false,
    "editable": false,
    "nbgrader": {
     "checksum": "3ba8bc54708969af3ad977f9dd79eb69",
     "grade": true,
     "grade_id": "at_1_11_3",
     "locked": true,
     "points": 1,
     "schema_version": 1,
     "solution": false
    }
   },
   "outputs": [],
   "source": []
  },
  {
   "cell_type": "markdown",
   "metadata": {},
   "source": [
    "#### Task 1.12\n",
    "We are going to *traverse* the list, and have a visitor function operate on each node we come along (the *traverse-visitor pattern*). Implement `DoublyLinkedList.traverse(self, visitor)`. Using the below code, print each node first using iteration first, then do the same thing using `traverse()`. "
   ]
  },
  {
   "cell_type": "code",
   "execution_count": 15,
   "metadata": {
    "deletable": false,
    "nbgrader": {
     "checksum": "4a3b31c307e4779a5eb47505389558c3",
     "grade": false,
     "grade_id": "q_1_12_0",
     "locked": false,
     "schema_version": 1,
     "solution": true
    }
   },
   "outputs": [
    {
     "name": "stdout",
     "output_type": "stream",
     "text": [
      "(1) printing the list using iteration; 4 3 7 5 2 8 9 6 \n",
      "(2) printing the list using  traverse; 4 3 7 5 2 8 9 6 \n"
     ]
    }
   ],
   "source": [
    "# Task 1.12 code cell\n",
    "\n",
    "def printNode(node):\n",
    "    SPACE = ' '\n",
    "    print(f'{node.get_data()}', end=SPACE)\n",
    "\n",
    "def printList(L):\n",
    "    lst = ''\n",
    "    for item in L:\n",
    "        # print the node value ...\n",
    "        printNode(item)\n",
    "\n",
    "        # create a new empty doubly linked list ...\n",
    "        \n",
    "#fresh new list\n",
    "dl_list = DoublyLinkedList()\n",
    "nodes = [4, 3, 7, 5, 2, 8, 9, 6]\n",
    "for i in nodes:\n",
    "    dl_list.add_last(Node(i))\n",
    "    \n",
    "# complete the two belowe statements, so that they both print all values in the list ...\n",
    "print('(1) printing the list using iteration; ', end= ''); printList(dl_list) ; print(end='\\n')\n",
    "print('(2) printing the list using  traverse; ', end= ''); dl_list.traverse(printNode) ; print(end='\\n')"
   ]
  },
  {
   "cell_type": "code",
   "execution_count": null,
   "metadata": {
    "deletable": false,
    "editable": false,
    "nbgrader": {
     "checksum": "c6437c2c0252f0c98f33919fe7698c38",
     "grade": true,
     "grade_id": "at_1_12_1",
     "locked": true,
     "points": 4,
     "schema_version": 1,
     "solution": false
    }
   },
   "outputs": [],
   "source": []
  },
  {
   "cell_type": "markdown",
   "metadata": {},
   "source": [
    "## EXERCISE 2: Complete the implementation of `class Stack`"
   ]
  },
  {
   "cell_type": "code",
   "execution_count": 16,
   "metadata": {
    "deletable": false,
    "nbgrader": {
     "checksum": "76e2cfde12e10ec91b71696e972bb854",
     "grade": false,
     "grade_id": "q_2_0_0",
     "locked": false,
     "schema_version": 1,
     "solution": true
    }
   },
   "outputs": [],
   "source": [
    "class Stack:\n",
    "    \n",
    "    # do not change the __init__() of this class\n",
    "    def __init__(self, max_capacity=10):\n",
    "        self.__capacity  = max(max_capacity, 0)  # no negative capacities ...\n",
    "        self.__item_list = [None] * self.__capacity        \n",
    "        self.__bottom    = 0               # bottom points to stack bottom item\n",
    "        self.__top       = self.__bottom   # top points to next free slot\n",
    "        \n",
    "    def __str__(self):\n",
    "        \"\"\"return Stack as a string\"\"\"\n",
    "        _items = str(self.__item_list)\n",
    "        return _items + '({:d}/{:d})'.format(self.get_size(), self.get_capacity()) \n",
    "    \n",
    "    def get_capacity(self):\n",
    "        \"\"\"return the \"\"\"\n",
    "        return self.__capacity\n",
    "    \n",
    "    def get_size(self):\n",
    "        \"\"\"return the current stack size (nr of items on stack)\"\"\"\n",
    "        return self.__top - self.__bottom\n",
    "    \n",
    "    def is_empty(self):\n",
    "        \"\"\"return T|F stack is empty\"\"\"\n",
    "        return not bool(self.get_size())\n",
    "    \n",
    "    def is_full(self):\n",
    "        \"\"\"return T|F stack is full\"\"\"\n",
    "        return self.get_size() >= self.get_capacity()\n",
    "    \n",
    "    def peek(self, position):\n",
    "        \"\"\"return item at position without removing it\"\"\"\n",
    "        return self.__item_list[position]\n",
    "    \n",
    "    def push(self, item):\n",
    "        '''pushes item onto stack if the capacity allows it'''\n",
    "        if not self.is_full():\n",
    "            self.__item_list[self.__top] = item\n",
    "            self.__top += 1\n",
    "        else:\n",
    "            print(\"warning: stack is full\")\n",
    "    \n",
    "    def pop(self):\n",
    "        '''pops top item off stack if there is any'''\n",
    "        if not self.is_empty():\n",
    "            poppedItem = self.__item_list[self.__top-1]\n",
    "            self.__item_list[self.__top-1] = None\n",
    "            self.__top -= 1\n",
    "            return poppedItem\n",
    "        else:\n",
    "            print(\"warning: stack is empty\")\n"
   ]
  },
  {
   "cell_type": "code",
   "execution_count": null,
   "metadata": {
    "deletable": false,
    "editable": false,
    "nbgrader": {
     "checksum": "e4dff0d50f7994412fe83748cc05f865",
     "grade": true,
     "grade_id": "at_2_0_0",
     "locked": true,
     "points": 2,
     "schema_version": 1,
     "solution": false
    }
   },
   "outputs": [],
   "source": []
  },
  {
   "cell_type": "markdown",
   "metadata": {},
   "source": [
    "#### Task 2.1\n",
    "Complete and run the below test code to learn the construction of a `class Stack` object. "
   ]
  },
  {
   "cell_type": "code",
   "execution_count": 17,
   "metadata": {
    "deletable": false,
    "nbgrader": {
     "checksum": "6936598f9c8d7b0068b1b39986aa3898",
     "grade": false,
     "grade_id": "q_2_1_0",
     "locked": false,
     "schema_version": 1,
     "solution": true
    }
   },
   "outputs": [
    {
     "name": "stdout",
     "output_type": "stream",
     "text": [
      "stack nr 1: [None, None, None, None, None, None, None, None, None, None](0/10)\n",
      "stack nr 2: [None, None, None](0/3)\n",
      "stack nr 3: [](0/0)\n"
     ]
    }
   ],
   "source": [
    "# Task 2.1 code cell\n",
    "\n",
    "# turn `my_stack1` to `my_stack3` into stacks ...\n",
    "my_stack1 = my_stack2 = my_stack3 = None\n",
    "\n",
    "# ... with no max size specification ...\n",
    "my_stack1 = Stack()\n",
    "\n",
    "# ... with a positive max size ...\n",
    "my_stack2 = Stack(3)\n",
    "\n",
    "# ... with a negative max size ...\n",
    "my_stack3 = Stack(-100)\n",
    "\n",
    "for nr, stck in enumerate((my_stack1, my_stack2, my_stack3)):\n",
    "    print(f'stack nr {nr+1}: {stck}')"
   ]
  },
  {
   "cell_type": "code",
   "execution_count": null,
   "metadata": {
    "deletable": false,
    "editable": false,
    "nbgrader": {
     "checksum": "df5169e554e2533945c929bd8fb2be3f",
     "grade": true,
     "grade_id": "at_2_1_0",
     "locked": true,
     "points": 2,
     "schema_version": 1,
     "solution": false
    }
   },
   "outputs": [],
   "source": []
  },
  {
   "cell_type": "markdown",
   "metadata": {},
   "source": [
    "#### Task 2.2\n",
    "Implement `Stack.is_empty()`. Run the below test code to verify your code. "
   ]
  },
  {
   "cell_type": "code",
   "execution_count": 18,
   "metadata": {
    "deletable": false,
    "nbgrader": {
     "checksum": "2fd1da5cb6f65b14867a694c7095d819",
     "grade": false,
     "grade_id": "q_2_2_0",
     "locked": false,
     "schema_version": 1,
     "solution": true
    }
   },
   "outputs": [
    {
     "name": "stdout",
     "output_type": "stream",
     "text": [
      "stack nr 1: [None, None, None, None, None, None, None, None, None, None](0/10). Stack empty? True\n",
      "stack nr 2: [None, None, None](0/3). Stack empty? True\n",
      "stack nr 3: [](0/0). Stack empty? True\n"
     ]
    }
   ],
   "source": [
    "# Task 2.2 code cell\n",
    "\n",
    "# we use the above stacks to test\n",
    "\n",
    "for nr, stck in enumerate((my_stack1, my_stack2, my_stack3)):\n",
    "    print(f'stack nr {nr+1}: {stck}. Stack empty? {stck.is_empty()}')"
   ]
  },
  {
   "cell_type": "code",
   "execution_count": null,
   "metadata": {
    "deletable": false,
    "editable": false,
    "nbgrader": {
     "checksum": "7f8b391339de6159d30899d55fcb3ae3",
     "grade": true,
     "grade_id": "at_2_2_0",
     "locked": true,
     "points": 2,
     "schema_version": 1,
     "solution": false
    }
   },
   "outputs": [],
   "source": []
  },
  {
   "cell_type": "markdown",
   "metadata": {},
   "source": [
    "#### Task 2.3\n",
    "Implement `Stack.is_full()`. Run the below test code to verify your code. "
   ]
  },
  {
   "cell_type": "code",
   "execution_count": 19,
   "metadata": {
    "deletable": false,
    "nbgrader": {
     "checksum": "974190111c77166d15aa5a1653820e5f",
     "grade": false,
     "grade_id": "q_2_3_0",
     "locked": false,
     "schema_version": 1,
     "solution": true
    }
   },
   "outputs": [
    {
     "name": "stdout",
     "output_type": "stream",
     "text": [
      "stack nr 1: [None, None, None, None, None, None, None, None, None, None](0/10). Stack full? False\n",
      "stack nr 2: [None, None, None](0/3). Stack full? False\n",
      "stack nr 3: [](0/0). Stack full? True\n"
     ]
    }
   ],
   "source": [
    "# Task 2.3 code cell\n",
    "\n",
    "# again, we use the above stacks to test\n",
    "\n",
    "for nr, stck in enumerate((my_stack1, my_stack2, my_stack3)):\n",
    "    print(f'stack nr {nr+1}: {stck}. Stack full? {stck.is_full()}')"
   ]
  },
  {
   "cell_type": "code",
   "execution_count": null,
   "metadata": {
    "deletable": false,
    "editable": false,
    "nbgrader": {
     "checksum": "948ac54c2e9fb7b987360cd7ec328d67",
     "grade": true,
     "grade_id": "at_2_3_0",
     "locked": true,
     "points": 2,
     "schema_version": 1,
     "solution": false
    }
   },
   "outputs": [],
   "source": []
  },
  {
   "cell_type": "code",
   "execution_count": null,
   "metadata": {
    "deletable": false,
    "editable": false,
    "nbgrader": {
     "checksum": "a59db04a08515ce9814b31dd1e433d80",
     "grade": true,
     "grade_id": "at_2_3_1",
     "locked": true,
     "points": 2,
     "schema_version": 1,
     "solution": false
    }
   },
   "outputs": [],
   "source": []
  },
  {
   "cell_type": "markdown",
   "metadata": {},
   "source": [
    "#### Task 2.4\n",
    "Implement `Stack.push(self, item)`, pushing `item` on stack. Issue a warning `\"warning: stack is full\"`, if you discover that the stack is full, else push `item` on stack. Do not forget to keep your stack pointers consistent. Use the below code to test your code. "
   ]
  },
  {
   "cell_type": "code",
   "execution_count": 20,
   "metadata": {
    "deletable": false,
    "nbgrader": {
     "checksum": "8237364eb5f0700e3edb6570927852cb",
     "grade": false,
     "grade_id": "q_2_4_0",
     "locked": false,
     "schema_version": 1,
     "solution": true
    }
   },
   "outputs": [
    {
     "name": "stdout",
     "output_type": "stream",
     "text": [
      "my stack before pushing nodes on stack: [None, None, None, None, None, None, None, None](0/8)\n",
      "my stack after  pushing nodes on stack: ['one', 'two', 'three', 'four', 'five', 'six', 'seven', 'eight'](8/8)\n",
      "my stack should now be full: Is full? True\n",
      "warning: stack is full\n",
      "warning: stack is full\n",
      "my stack after pushing two more nodes: ['one', 'two', 'three', 'four', 'five', 'six', 'seven', 'eight'](8/8)\n",
      "my stack should now still be full: Is full? True\n"
     ]
    }
   ],
   "source": [
    "# Task 2.4 code cell\n",
    "\n",
    "max_size = 8\n",
    "my_stack = Stack(max_size)\n",
    "\n",
    "my_stack_items = ['one', 'two', 'three', 'four', 'five', 'six', 'seven' , 'eight']\n",
    "\n",
    "print(f'my stack before pushing nodes on stack: {my_stack}')\n",
    "\n",
    "# fill the stack with my_stack_items ...\n",
    "for x in my_stack_items:\n",
    "    my_stack.push(x)\n",
    "        \n",
    "print(f'my stack after  pushing nodes on stack: {my_stack}')\n",
    "print(f'my stack should now be full: Is full? {my_stack.is_full()}')\n",
    "\n",
    "# now try to add two more items (see for the warning) ...\n",
    "my_stack.push('nine')\n",
    "my_stack.push('ten')\n",
    "\n",
    "print(f'my stack after pushing two more nodes: {my_stack}')\n",
    "print(f'my stack should now still be full: Is full? {my_stack.is_full()}')\n"
   ]
  },
  {
   "cell_type": "code",
   "execution_count": null,
   "metadata": {
    "deletable": false,
    "editable": false,
    "nbgrader": {
     "checksum": "20f8fc8f21ae771a153a1bc4ca8a6714",
     "grade": true,
     "grade_id": "at_2_4_0",
     "locked": true,
     "points": 4,
     "schema_version": 1,
     "solution": false
    }
   },
   "outputs": [],
   "source": []
  },
  {
   "cell_type": "markdown",
   "metadata": {},
   "source": [
    "#### Task 2.5\n",
    "Implement `Stack.pop(self)`, popping an item from stack. Do not forget to keep your stack pointers consistent. Use the below code to test your code. "
   ]
  },
  {
   "cell_type": "code",
   "execution_count": 21,
   "metadata": {
    "deletable": false,
    "nbgrader": {
     "checksum": "d4ee7e6e2129e586453e8ae18887f30a",
     "grade": false,
     "grade_id": "q_2_5_0",
     "locked": false,
     "schema_version": 1,
     "solution": true
    }
   },
   "outputs": [
    {
     "name": "stdout",
     "output_type": "stream",
     "text": [
      "my stack before popping nodes from stack: ['one', 'two', 'three', 'four', 'five', 'six', 'seven', 'eight'](8/8)\n",
      "my stack should now be full: Is full? True\n",
      "...popping item: eight. New stack: ['one', 'two', 'three', 'four', 'five', 'six', 'seven', None](7/8)\n",
      "...popping item: seven. New stack: ['one', 'two', 'three', 'four', 'five', 'six', None, None](6/8)\n",
      "...popping item: six. New stack: ['one', 'two', 'three', 'four', 'five', None, None, None](5/8)\n",
      "...popping item: five. New stack: ['one', 'two', 'three', 'four', None, None, None, None](4/8)\n",
      "...popping item: four. New stack: ['one', 'two', 'three', None, None, None, None, None](3/8)\n",
      "...popping item: three. New stack: ['one', 'two', None, None, None, None, None, None](2/8)\n",
      "...popping item: two. New stack: ['one', None, None, None, None, None, None, None](1/8)\n",
      "...popping item: one. New stack: [None, None, None, None, None, None, None, None](0/8)\n",
      "my stack after  popping nodes from stack: [None, None, None, None, None, None, None, None](0/8)\n",
      "my stack should now be empty: Is empty? True\n"
     ]
    }
   ],
   "source": [
    "# Task 2.5 code cell\n",
    "\n",
    "# helper function that gives us a new stack \n",
    "# before every run of this cell ...\n",
    "def create_stack_to_empty():\n",
    "    \"\"\" return a stack: ['one', 'two', 'three', 'four', 'five', 'six', 'seven', 'eight'](8/8) \"\"\"\n",
    "    _items = ['one', 'two', 'three', 'four', 'five', 'six', 'seven', 'eight']\n",
    "    stck = Stack(len(_items))\n",
    "    for item in _items: stck.push(item)\n",
    "    return stck\n",
    "\n",
    "stack_to_empty = create_stack_to_empty()\n",
    "print(f'my stack before popping nodes from stack: {stack_to_empty}')\n",
    "print(f'my stack should now be full: Is full? {stack_to_empty.is_full()}')\n",
    "\n",
    "# empty the stack ...\n",
    "while not stack_to_empty.is_empty():\n",
    "    item = stack_to_empty.pop()\n",
    "    print(f'...popping item: {item}. New stack: {stack_to_empty}')\n",
    "        \n",
    "print(f'my stack after  popping nodes from stack: {stack_to_empty}')\n",
    "print(f'my stack should now be empty: Is empty? {stack_to_empty.is_empty()}')\n"
   ]
  },
  {
   "cell_type": "code",
   "execution_count": null,
   "metadata": {
    "deletable": false,
    "editable": false,
    "nbgrader": {
     "checksum": "76036fa9db9947567b66d2736d8f1bb2",
     "grade": true,
     "grade_id": "at_2_5_0",
     "locked": true,
     "points": 4,
     "schema_version": 1,
     "solution": false
    }
   },
   "outputs": [],
   "source": []
  },
  {
   "cell_type": "markdown",
   "metadata": {},
   "source": [
    "## EXERCISE 3: Use `class Stack` to sort a doubly linked list. "
   ]
  },
  {
   "cell_type": "markdown",
   "metadata": {
    "deletable": false,
    "editable": false,
    "nbgrader": {
     "checksum": "116c2e073c43d62994fb0b956578139e",
     "grade": false,
     "grade_id": "cell-7334ffecf454362c",
     "locked": true,
     "schema_version": 1,
     "solution": false
    }
   },
   "source": [
    "#### Task 3.1\n",
    "Use `DoublyLinkedList.smallest()` to select the Node with the smallest item on the list, push that Node on the stack and remove the node from the list, until the list is empty. Then create a new list, popping nodes from the stack and inserting every node at the head of the list.\n",
    "\n",
    "First do this:\n",
    "* create a new doubly linked list `my_dll`\n",
    "* add *nodes* to end of the list with values: `(1, 12, 6, 3, 7, 9, 4, 2, 11, 5)`\n",
    "* print the list to check"
   ]
  },
  {
   "cell_type": "code",
   "execution_count": 22,
   "metadata": {
    "deletable": false,
    "nbgrader": {
     "checksum": "f881ae4474cc15242a9a0b2c7b42bbe8",
     "grade": false,
     "grade_id": "q_3_1_0",
     "locked": false,
     "schema_version": 1,
     "solution": true
    }
   },
   "outputs": [
    {
     "name": "stdout",
     "output_type": "stream",
     "text": [
      "my dll list: H-1-12-6-3-7-9-4-2-11-5-T\n"
     ]
    }
   ],
   "source": [
    "# Task 3.1 code cell\n",
    "    \n",
    "# create a list ...\n",
    "my_dll = DoublyLinkedList()\n",
    "\n",
    "# add nodes with the specified values to the end of the list my_dll ... \n",
    "node_values = (1, 12, 6, 3, 7, 9, 4, 2, 11, 5)\n",
    "for x in node_values:\n",
    "    my_dll.add_last(Node(x))\n",
    "\n",
    "print(f'my dll list: {my_dll}')"
   ]
  },
  {
   "cell_type": "code",
   "execution_count": null,
   "metadata": {
    "deletable": false,
    "editable": false,
    "nbgrader": {
     "checksum": "f94e8b9249ddca69a2f7caf7133456ba",
     "grade": true,
     "grade_id": "at_3_1_0",
     "locked": true,
     "points": 4,
     "schema_version": 1,
     "solution": false
    }
   },
   "outputs": [],
   "source": []
  },
  {
   "cell_type": "markdown",
   "metadata": {},
   "source": [
    "#### Task 3.2\n",
    "Create a new empty Stack `my_stck`, with capacity equal to the length of the doubly linked list. Use the below skeleton."
   ]
  },
  {
   "cell_type": "code",
   "execution_count": 23,
   "metadata": {
    "deletable": false,
    "nbgrader": {
     "checksum": "bffb8337eb5b9b443230b7d1651237e3",
     "grade": false,
     "grade_id": "q_3_2_0",
     "locked": false,
     "schema_version": 1,
     "solution": true
    }
   },
   "outputs": [
    {
     "name": "stdout",
     "output_type": "stream",
     "text": [
      "my stack: [None, None, None, None, None, None, None, None, None, None](0/10)\n"
     ]
    }
   ],
   "source": [
    "# Task 3.2 code cell\n",
    "\n",
    "# create an empty Stack of size list ...\n",
    "my_stck = Stack(my_dll.get_size())\n",
    "\n",
    "print(f'my stack: {my_stck}')"
   ]
  },
  {
   "cell_type": "code",
   "execution_count": null,
   "metadata": {
    "deletable": false,
    "editable": false,
    "nbgrader": {
     "checksum": "25244341c9e497365bd29eb4954d75ee",
     "grade": true,
     "grade_id": "at_3_2_0",
     "locked": true,
     "points": 4,
     "schema_version": 1,
     "solution": false
    }
   },
   "outputs": [],
   "source": []
  },
  {
   "cell_type": "markdown",
   "metadata": {},
   "source": [
    "#### Task 3.3\n",
    "In a loop, remove the smallest *node* from the doubly linked list and push it on the stack. Use the below skeleton. \n",
    "In order to be able to check `my_stck`, we need do not want to pop the stack; we need a method to get the node that is stored at some arbitrary position in the stack. Add to `class Stack` and method `Stack.peek(self, position)` that return the stacked item *without removing* it from the stack. We use that to print the content of the stack, below."
   ]
  },
  {
   "cell_type": "code",
   "execution_count": 24,
   "metadata": {
    "deletable": false,
    "nbgrader": {
     "checksum": "bbc543cfa87511c049b10eae33cbb19c",
     "grade": false,
     "grade_id": "q_3_3_0",
     "locked": false,
     "schema_version": 1,
     "solution": true
    }
   },
   "outputs": [
    {
     "name": "stdout",
     "output_type": "stream",
     "text": [
      "The current stack content (top above);\n",
      "stack node: 12\n",
      "stack node: 11\n",
      "stack node: 9\n",
      "stack node: 7\n",
      "stack node: 6\n",
      "stack node: 5\n",
      "stack node: 4\n",
      "stack node: 3\n",
      "stack node: 2\n",
      "stack node: 1\n"
     ]
    }
   ],
   "source": [
    "# Task 3.3 code cell\n",
    "\n",
    "# while not my dll is empty, do ...\n",
    "\n",
    "while not my_dll.is_empty():\n",
    "    # find the smallest item item ...\n",
    "    smlNode = my_dll.smallest()\n",
    "    \n",
    "    # ... push on stack ...\n",
    "    my_stck.push(smlNode)\n",
    "    \n",
    "    # remove it from the list ...\n",
    "    my_dll.remove(smlNode)\n",
    "    \n",
    "    \n",
    "print('The current stack content (top above);')\n",
    "for slot in range(my_stck.get_size()-1, -1, -1):\n",
    "    node_on_stack = my_stck.peek(slot)\n",
    "    print(f'stack node: {node_on_stack.get_data()}')\n"
   ]
  },
  {
   "cell_type": "code",
   "execution_count": null,
   "metadata": {
    "deletable": false,
    "editable": false,
    "nbgrader": {
     "checksum": "b38befecc4df3d96006c2df126b450f4",
     "grade": true,
     "grade_id": "at_3_3_0",
     "locked": true,
     "points": 4,
     "schema_version": 1,
     "solution": false
    }
   },
   "outputs": [],
   "source": []
  },
  {
   "cell_type": "markdown",
   "metadata": {},
   "source": [
    "#### Task 3.4\n",
    "Create doubly linked list `my_sorted_list` and fill it by popping `my_stck`, inserting the popped items one-by-one. Print `my_sorted_list` and verify it is sorted."
   ]
  },
  {
   "cell_type": "code",
   "execution_count": 25,
   "metadata": {
    "deletable": false,
    "nbgrader": {
     "checksum": "8bfc58387e69b35d26b788d23c38aa34",
     "grade": false,
     "grade_id": "q_3_4_0",
     "locked": false,
     "schema_version": 1,
     "solution": true
    }
   },
   "outputs": [
    {
     "name": "stdout",
     "output_type": "stream",
     "text": [
      "sorted list: H-12-11-9-7-6-5-4-3-2-1-T\n"
     ]
    }
   ],
   "source": [
    "# Task 3.4 code cell\n",
    "\n",
    "my_sorted_list = DoublyLinkedList()\n",
    "\n",
    "while not my_stck.is_empty():\n",
    "    my_sorted_list.add_last(my_stck.pop())\n",
    "    \n",
    "print(f'sorted list: {my_sorted_list}')\n"
   ]
  },
  {
   "cell_type": "code",
   "execution_count": null,
   "metadata": {
    "deletable": false,
    "editable": false,
    "nbgrader": {
     "checksum": "cdd7df4d3c0521d4906b73cab9785fef",
     "grade": true,
     "grade_id": "at_3_4_0",
     "locked": true,
     "points": 4,
     "schema_version": 1,
     "solution": false
    }
   },
   "outputs": [],
   "source": []
  },
  {
   "cell_type": "markdown",
   "metadata": {},
   "source": [
    "#### Task 3.5\n",
    "Given this list, and without using another stack, implement a way to reverse-sort this list."
   ]
  },
  {
   "cell_type": "code",
   "execution_count": 26,
   "metadata": {
    "deletable": false,
    "nbgrader": {
     "checksum": "6e23023977253a962b3065f2b9bb4a61",
     "grade": false,
     "grade_id": "q_3_5_0",
     "locked": false,
     "schema_version": 1,
     "solution": true
    }
   },
   "outputs": [
    {
     "name": "stdout",
     "output_type": "stream",
     "text": [
      "reversed sorted: H-1-2-3-4-5-6-7-9-11-12-T\n"
     ]
    }
   ],
   "source": [
    "my_rev_sorted_list = DoublyLinkedList()\n",
    "\n",
    "\n",
    "while not my_sorted_list.is_empty():\n",
    "    # take the first node ...\n",
    "    curNode = my_sorted_list.get_first()\n",
    "    \n",
    "    # ... remove it from the old list ...\n",
    "    my_sorted_list.remove(curNode)\n",
    "    \n",
    "    # ... add it to the new list ...\n",
    "    my_rev_sorted_list.add_first(curNode)\n",
    "    \n",
    "print(f'reversed sorted: {my_rev_sorted_list}')\n",
    "    "
   ]
  },
  {
   "cell_type": "code",
   "execution_count": null,
   "metadata": {
    "deletable": false,
    "editable": false,
    "nbgrader": {
     "checksum": "0bb262e1672dd29163ec0a6053d561db",
     "grade": true,
     "grade_id": "at_3_5_0",
     "locked": true,
     "points": 4,
     "schema_version": 1,
     "solution": false
    }
   },
   "outputs": [],
   "source": []
  },
  {
   "cell_type": "markdown",
   "metadata": {
    "deletable": false,
    "editable": false,
    "nbgrader": {
     "checksum": "10de0797ff48a07a04498c16fd10544b",
     "grade": false,
     "grade_id": "cell-dcb9d6249976978c",
     "locked": true,
     "schema_version": 1,
     "solution": false
    }
   },
   "source": [
    "**Done**"
   ]
  }
 ],
 "metadata": {
  "kernelspec": {
   "display_name": "Python 3",
   "language": "python",
   "name": "python3"
  },
  "language_info": {
   "codemirror_mode": {
    "name": "ipython",
    "version": 3
   },
   "file_extension": ".py",
   "mimetype": "text/x-python",
   "name": "python",
   "nbconvert_exporter": "python",
   "pygments_lexer": "ipython3",
   "version": "3.6.1"
  },
  "latex_envs": {
   "LaTeX_envs_menu_present": true,
   "autoclose": false,
   "autocomplete": true,
   "bibliofile": "biblio.bib",
   "cite_by": "apalike",
   "current_citInitial": 1,
   "eqLabelWithNumbers": true,
   "eqNumInitial": 1,
   "hotkeys": {
    "equation": "Ctrl-E",
    "itemize": "Ctrl-I"
   },
   "labels_anchors": false,
   "latex_user_defs": false,
   "report_style_numbering": false,
   "user_envs_cfg": false
  }
 },
 "nbformat": 4,
 "nbformat_minor": 2
}
