{
 "cells": [
  {
   "cell_type": "code",
   "execution_count": 1,
   "metadata": {},
   "outputs": [
    {
     "data": {
      "text/html": [
       "\n",
       "<style>\n",
       "    /*TU color table */\n",
       "    :root {\n",
       "      --tu-black:        rgb(0,0,0);\n",
       "      --tu-white:        rgb(255,255,255);\n",
       "      --tu-cyan:         rgb(0,166,214);\n",
       "      --tu-green:        rgb(165,202,26);\n",
       "      --tu-yellow:       rgb(225,196,0);\n",
       "      --tu-orange:       rgb(230,70,22);\n",
       "      --tu-red:          rgb(225,26,26);\n",
       "      --tu-purple:       rgb(109,23,127);\n",
       "      --tu-slategreen:   rgb(107,134,137);\n",
       "      --tu-turqoise:     rgb(0,136,145);\n",
       "      --tu-darkblue:     rgb(29,28,115);\n",
       "      --tu-skyblue:      rgb(110,187,213);\n",
       "    }\n",
       "    h2, h3, h4 {\n",
       "        background-color: var(--tu-white);\n",
       "        color: var(--tu-cyan);\n",
       "    }\n",
       "    h1 {\n",
       "        background-color: var(--tu-cyan);\n",
       "        color: var(--tu-white);\n",
       "    }\n",
       "    em {\n",
       "        color: var(--tu-cyan);\n",
       "    }\n",
       "     \n",
       "    div.output_stdout {\n",
       "        background-color: var(--tu-green);\n",
       "        color: var(--tu-black);\n",
       "    }\n",
       "    div.output_stdout:before {\n",
       "        content: \"stdout output;\";\n",
       "    }\n",
       "    div.output_stderr {\n",
       "        background-color: var(--tu-yellow);\n",
       "        color: var(--tu-black);\n",
       "    }\n",
       "    div.output_stderr:before {\n",
       "        content: \"stderr output;\";\n",
       "    }\n",
       "</style>\n",
       "<script>\n",
       "    code_show=true; \n",
       "    IPython.OutputArea.prototype._should_scroll = function(lines) {\n",
       "        return false;\n",
       "    }\n",
       "    function code_toggle() {\n",
       "        if (code_show){\n",
       "            $('div.cell.code_cell.rendered.selected div.input').hide();\n",
       "        } else {\n",
       "            $('div.cell.code_cell.rendered.selected div.input').show();\n",
       "        }\n",
       "        code_show = !code_show\n",
       "    }     \n",
       "    $( document ).ready(code_toggle);\n",
       "</script>\n",
       "<a href=\"javascript:code_toggle()\"><h4>Notebook settings</h4></a>\n"
      ],
      "text/plain": [
       "<IPython.core.display.HTML object>"
      ]
     },
     "metadata": {},
     "output_type": "display_data"
    }
   ],
   "source": [
    "# @hidden_cell\n",
    "\"\"\" Bart Gerritsen, Oct 2018:\n",
    "\n",
    "Note: for safety and robustness, styles and script are contained inside\n",
    "      the Notebook rather than in external *.css and *.js files\n",
    "\"\"\"      \n",
    "from IPython.core.display import HTML\n",
    "from IPython.display import display\n",
    "tag = HTML('''\n",
    "<style>\n",
    "    /*TU color table */\n",
    "    :root {\n",
    "      --tu-black:        rgb(0,0,0);\n",
    "      --tu-white:        rgb(255,255,255);\n",
    "      --tu-cyan:         rgb(0,166,214);\n",
    "      --tu-green:        rgb(165,202,26);\n",
    "      --tu-yellow:       rgb(225,196,0);\n",
    "      --tu-orange:       rgb(230,70,22);\n",
    "      --tu-red:          rgb(225,26,26);\n",
    "      --tu-purple:       rgb(109,23,127);\n",
    "      --tu-slategreen:   rgb(107,134,137);\n",
    "      --tu-turqoise:     rgb(0,136,145);\n",
    "      --tu-darkblue:     rgb(29,28,115);\n",
    "      --tu-skyblue:      rgb(110,187,213);\n",
    "    }\n",
    "    h2, h3, h4 {\n",
    "        background-color: var(--tu-white);\n",
    "        color: var(--tu-cyan);\n",
    "    }\n",
    "    h1 {\n",
    "        background-color: var(--tu-cyan);\n",
    "        color: var(--tu-white);\n",
    "    }\n",
    "    em {\n",
    "        color: var(--tu-cyan);\n",
    "    }\n",
    "     \n",
    "    div.output_stdout {\n",
    "        background-color: var(--tu-green);\n",
    "        color: var(--tu-black);\n",
    "    }\n",
    "    div.output_stdout:before {\n",
    "        content: \"stdout output;\";\n",
    "    }\n",
    "    div.output_stderr {\n",
    "        background-color: var(--tu-yellow);\n",
    "        color: var(--tu-black);\n",
    "    }\n",
    "    div.output_stderr:before {\n",
    "        content: \"stderr output;\";\n",
    "    }\n",
    "</style>\n",
    "<script>\n",
    "    code_show=true; \n",
    "    IPython.OutputArea.prototype._should_scroll = function(lines) {\n",
    "        return false;\n",
    "    }\n",
    "    function code_toggle() {\n",
    "        if (code_show){\n",
    "            $('div.cell.code_cell.rendered.selected div.input').hide();\n",
    "        } else {\n",
    "            $('div.cell.code_cell.rendered.selected div.input').show();\n",
    "        }\n",
    "        code_show = !code_show\n",
    "    }     \n",
    "    $( document ).ready(code_toggle);\n",
    "</script>\n",
    "<a href=\"javascript:code_toggle()\"><h4>Notebook settings</h4></a>\n",
    "''')\n",
    "display(tag)"
   ]
  },
  {
   "cell_type": "markdown",
   "metadata": {},
   "source": [
    "<header>\n",
    "    <div style=\"overflow: auto;\">\n",
    "        <img src=\"./figures/TUDelft.jpg\" style=\"float: left;\" />\n",
    "        <img src=\"./figures/DUT_Flame.png\" style=\"float: right; width: 100px;\" />\n",
    "    </div>\n",
    "    <div style=\"text-align: center;\">\n",
    "        <h2>Sorting and Searching</h2>\n",
    "        <h6>&copy; 2018, 2019, Bart Gerritsen, TU Delft. Creative Commons</h6>\n",
    "    </div>\n",
    "    <br>\n",
    "    <br>\n",
    "</header>"
   ]
  },
  {
   "cell_type": "markdown",
   "metadata": {
    "deletable": false,
    "editable": false,
    "nbgrader": {
     "checksum": "c7397eba7f200c395f0eb3c26d9ed85c",
     "grade": false,
     "grade_id": "ro_0_0_0",
     "locked": true,
     "schema_version": 1,
     "solution": false
    }
   },
   "source": [
    "#### Introduction <a class=\"anchor\" id=\"introduction\"/>\n",
    "\n",
    "Below, you find Assignment A4, a 2-student team assignment, for which the team has exactly 1 week. For this assignment, 80 points can be scored altogether, assigning you a grade 8. During the assessment of your work, all team members should be able to explain and demo the work handed in, and answer background questions. During the assessment, you can raise your grade to a 10. On the other hand, assessors may lower the grade or even disqualify your work, in case your understanding of your own work appears poor or insufficient. In case of fraud, assessors will report this to the course responsible, without assigning a grade at all.\n",
    "\n",
    "Do not Run-all |>|> , as there are some long tasks in this Notebook. Start at the top and run cell-by-cell, advancing downwards.\n",
    "\n",
    "NOTE: this Assignment differs from earlier ones in that it contains skeletons for `unittest` code YOU can use to test your code YOURSELF. Changing `class NodeTests(unittest.TestCase)` or `class SLLTests(unittest.TestCase)` by you does in no way affect the auto-grading in this notebook. Use them freely, modify tests, add tests, etc. as you see fit. Please be aware that *YOUR test code is only for your convenience*; the *auto-grading tests* (and they only) determine your grade "
   ]
  },
  {
   "cell_type": "markdown",
   "metadata": {
    "deletable": false,
    "editable": false,
    "nbgrader": {
     "checksum": "e83db2e086c815712ebc5013453e8367",
     "grade": false,
     "grade_id": "q_1_1_0",
     "locked": true,
     "schema_version": 1,
     "solution": false
    }
   },
   "source": [
    "# Exercise 1: SinglyLinkedList sorting and searching\n",
    "\n",
    "## class Node\n",
    "\n",
    "#### Task 1.1: implement the comperators `__eq__()` and `__lt__()` to make `class Node` instances orderable.\n",
    "To enable `class Node` instances to rank themselves amongst other instances of the same class, we need to make the comperator operators, such as `==` and `<` working. These operators, in turn, rely on the comperator functions `__eq__()` and `__lt__()`, resp. Make `class Node` instances order-able, by implementing `__eq__()` and `__lt__()` \n",
    "\n",
    "Use `class NodeTests(unittest.TestCase)` to test your `class Node` code\n"
   ]
  },
  {
   "cell_type": "code",
   "execution_count": 2,
   "metadata": {
    "deletable": false,
    "nbgrader": {
     "checksum": "8aaf13a647cd4b5bcdda7cb545150a5f",
     "grade": false,
     "grade_id": "aa_1_1_0",
     "locked": false,
     "schema_version": 1,
     "solution": true
    }
   },
   "outputs": [],
   "source": [
    "# Task 1.1 code cell\n",
    "\n",
    "class Node:\n",
    "\n",
    "    def __init__(self, item):\n",
    "        \"\"\"A Node has an item and possibly a node it points to.\"\"\"\n",
    "        self.__item = item\n",
    "        self.__next = None\n",
    "\n",
    "    def get_next(self):\n",
    "        return self.__next\n",
    "\n",
    "    def set_next(self, node):\n",
    "        self.__next = node\n",
    "\n",
    "    def get_item(self):\n",
    "        return self.__item\n",
    "\n",
    "    def __str__(self):\n",
    "        return \"Node(\" + str(self.__item) + \")\"\n",
    "\n",
    "    def __lt__(self, other):\n",
    "        \"\"\"return T|F self < other\"\"\"\n",
    "        return self.get_item()<other.get_item()\n",
    "\n",
    "    def __eq__(self, other):\n",
    "        \"\"\"return T|F self == other\"\"\"\n",
    "        return self.get_item()==other.get_item()\n",
    "        \n",
    "    # the other comperators can be implemented  \n",
    "    # with logical expressions using the ones  \n",
    "    # you implemented ...\n",
    "\n",
    "    def __le__(self, other):\n",
    "        return self == other or self < other\n",
    "\n",
    "    def __ge__(self, other):\n",
    "        return not (self < other)\n",
    "\n",
    "    def __gt__(self, other):\n",
    "        return not( self == other or self < other )\n",
    "    "
   ]
  },
  {
   "cell_type": "code",
   "execution_count": null,
   "metadata": {
    "deletable": false,
    "editable": false,
    "nbgrader": {
     "checksum": "ccb09697605fa928a00efe5d066f6a44",
     "grade": true,
     "grade_id": "at_1_1_0",
     "locked": true,
     "points": 6,
     "schema_version": 1,
     "solution": false
    }
   },
   "outputs": [],
   "source": []
  },
  {
   "cell_type": "code",
   "execution_count": 3,
   "metadata": {},
   "outputs": [
    {
     "name": "stderr",
     "output_type": "stream",
     "text": [
      "test_node_ordering_asc (__main__.NodeTests)\n",
      "test ordering of asc keys based on Node comparetors ... ok\n",
      "test_node_ordering_int (__main__.NodeTests)\n",
      "test ordering of int keys based on Node comperators ... "
     ]
    },
    {
     "name": "stdout",
     "output_type": "stream",
     "text": [
      "my ascii list, ordered: Node(a), Node(d), Node(f), Node(f), Node(h), Node(r), Node(z)\n"
     ]
    },
    {
     "name": "stderr",
     "output_type": "stream",
     "text": [
      "ok\n",
      "\n",
      "----------------------------------------------------------------------\n",
      "Ran 2 tests in 0.005s\n",
      "\n",
      "OK\n"
     ]
    }
   ],
   "source": [
    "# THIS IS YOUR TASK 1.1 TEST CODE, YOU CAN USE AND MODIFY TO TEST YOUR CODE \n",
    "\n",
    "# CHAINGING THIS TEST CODE HAS NO IMPACT ON THE GRADING\n",
    "# -----------------------------------------------------\n",
    "\n",
    "import unittest\n",
    "\n",
    "class NodeTests(unittest.TestCase):\n",
    "    \n",
    "    def setUp(self):\n",
    "        \"\"\"setup test fixtures\"\"\"\n",
    "        self.my_lows = [Node('a'), Node('h'), Node('f'), Node('z'), Node('d'), Node('f'), Node('r')]\n",
    "        self.my_caps = [Node('A'), Node('Z'), Node('M'), Node('H')]\n",
    "        \n",
    "    def test_node_ordering_int(self):\n",
    "        \"\"\"test ordering of int keys based on Node comperators\"\"\"\n",
    "\n",
    "        self.assertTrue( Node(2) >  Node(1) )\n",
    "        self.assertTrue( Node(5) == Node(4+1) )\n",
    "        self.assertTrue( Node(-1)<  Node(0) )\n",
    "        \n",
    "    def test_node_ordering_asc(self):\n",
    "        \"\"\"test ordering of asc keys based on Node comparetors\"\"\"\n",
    "        lows_lst = ', '.join( [str(node) for node in sorted(self.my_lows)] )\n",
    "        \n",
    "        # print my list in the usual manner ...\n",
    "        print(f'my ascii list, ordered: {lows_lst}')\n",
    "        \n",
    "        self.assertTrue( min(self.my_lows) <= max(self.my_lows) )\n",
    "        self.assertTrue( min(self.my_caps) <= max(self.my_caps) )\n",
    "        self.assertTrue( max(self.my_caps) >  min(self.my_caps) )\n",
    "        self.assertTrue( not (min(self.my_caps) >  max(self.my_caps)) )\n",
    "        \n",
    "    def tearDown(self):\n",
    "        pass\n",
    "        \n",
    "def run_MyNodeTestCases():\n",
    "    my_Node_suite = unittest.TestLoader().loadTestsFromTestCase(NodeTests)\n",
    "    # set the verbosity parameter to 0..2 for less or more output ...\n",
    "    unittest.TextTestRunner(verbosity=2).run(my_Node_suite)\n",
    "    \n",
    "run_MyNodeTestCases()"
   ]
  },
  {
   "cell_type": "markdown",
   "metadata": {
    "deletable": false,
    "editable": false,
    "nbgrader": {
     "checksum": "86dcf7d24a4d17c4c68c1e285c0a9bb8",
     "grade": false,
     "grade_id": "q_1_2_0",
     "locked": true,
     "schema_version": 1,
     "solution": false
    }
   },
   "source": [
    "#### Task 1.2: implement basic class methods of `class SinglyLinkedList`\n",
    "Using the below skeleton for `class SinglyLinkedList`, implement method `empty()`, `size()` and `add(self, node)`, in which `node` is the new `class Node` instance to insert into the list, at the end of the list. Use `class SLLTests(unittest.TestCase)` to test your code"
   ]
  },
  {
   "cell_type": "code",
   "execution_count": 4,
   "metadata": {
    "deletable": false,
    "nbgrader": {
     "checksum": "6b1585b408f9879a4bc2e20c77c2accc",
     "grade": false,
     "grade_id": "aa_1_2_0",
     "locked": false,
     "schema_version": 1,
     "solution": true
    }
   },
   "outputs": [],
   "source": [
    "# Task 1.2 code cell\n",
    "\n",
    "class SinglyLinkedList:\n",
    "\n",
    "    def __init__(self):\n",
    "        self.__head = None\n",
    "        self.__tail = None\n",
    "        self.__size = 0\n",
    "        \n",
    "    def __str__(self):\n",
    "        res = \"SLL: \"\n",
    "        for i in self:\n",
    "            res += \"\" + str(i.get_item()) + \" -> \"\n",
    "        res += \"None\"\n",
    "        return res\n",
    "    \n",
    "    def __iter__(self):\n",
    "        \"\"\"Standard python iterator method\"\"\"\n",
    "        self.__current = self.__head\n",
    "        return self\n",
    "\n",
    "    def __next__(self):\n",
    "        \"\"\"Standard python iterator method\"\"\"\n",
    "        if self.__current is None:\n",
    "            raise StopIteration()\n",
    "        result = self.__current\n",
    "        self.__current = self.__current.get_next()\n",
    "        return result    \n",
    "        \n",
    "    def size(self):\n",
    "        \"\"\"Return the size of the list\"\"\"\n",
    "        return self.__size\n",
    "\n",
    "    def empty(self):\n",
    "        \"\"\"Return true if the list is empty\"\"\"\n",
    "        return not self.size()\n",
    "\n",
    "    def get_head(self):\n",
    "        return self.__head\n",
    "    \n",
    "    def get_tail(self):\n",
    "        return self.__tail\n",
    "\n",
    "    def add(self, node):\n",
    "        \"\"\"Appends an item to the end of the list and increments the size.\"\"\"\n",
    "        if self.size() == 0:\n",
    "            #list is empty\n",
    "            self.__head = node\n",
    "        elif self.size() == 1:\n",
    "            #list only has one node\n",
    "            self.__head.set_next(node)\n",
    "        else:\n",
    "            #new node becomes new tail, and previous tail points to new tail\n",
    "            self.__tail.set_next(node) \n",
    "            \n",
    "        self.__tail = node\n",
    "        self.__size += 1 #size increment with 1"
   ]
  },
  {
   "cell_type": "code",
   "execution_count": null,
   "metadata": {
    "deletable": false,
    "editable": false,
    "nbgrader": {
     "checksum": "978c29cb906fa1511c9961d347482f6b",
     "grade": true,
     "grade_id": "at_1_2_0",
     "locked": true,
     "points": 6,
     "schema_version": 1,
     "solution": false
    }
   },
   "outputs": [],
   "source": []
  },
  {
   "cell_type": "code",
   "execution_count": 5,
   "metadata": {},
   "outputs": [
    {
     "name": "stderr",
     "output_type": "stream",
     "text": [
      "Running my test suite for Task 1.2;\n",
      "... my test method: test_empty_sll (__main__.SLLTests)\n",
      "... my test method: test_adding_nodes_to_sll (__main__.SLLTests)\n",
      "..\n",
      "----------------------------------------------------------------------\n",
      "Ran 2 tests in 0.001s\n",
      "\n",
      "OK\n"
     ]
    }
   ],
   "source": [
    "# THIS IS YOUR TASK 1.2 TEST CODE, YOU CAN USE AND MODIFY TO TEST YOUR CODE \n",
    "\n",
    "# CHANGING THIS TEST CODE HAS NO IMPACT ON THE GRADING\n",
    "# ----------------------------------------------------\n",
    "\n",
    "import unittest, sys, string\n",
    "\n",
    "class SLLTests(unittest.TestCase):\n",
    "    \n",
    "    def setUp(self):\n",
    "        \"\"\"setup test fixtures\"\"\"\n",
    "        self.sll = SinglyLinkedList()\n",
    "        self.sll_filled = SinglyLinkedList()\n",
    "        for key in range(1,10+1):\n",
    "            self.sll_filled.add(Node(key))\n",
    "        \n",
    "    def test_empty_sll(self):\n",
    "        \"\"\"test creating and empty sll\"\"\"\n",
    "        self.assertEqual( self.sll.size(), 0)\n",
    "        self.assertTrue( self.sll.empty() )\n",
    "        \n",
    "    def test_adding_nodes_to_sll(self):\n",
    "        \"\"\"test adding node to list\"\"\"\n",
    "        test_sll = SinglyLinkedList()\n",
    "        self.assertTrue( test_sll.empty() and test_sll.size() == 0 )\n",
    "        ## add nodes \n",
    "        my_nodes_to_add = ( Node(1), Node(2), Node(3) )\n",
    "        for k, node in enumerate( my_nodes_to_add ):\n",
    "            test_sll.add(node)\n",
    "            self.assertTrue( test_sll.size() == k+1 )\n",
    "        self.assertTrue( not test_sll.empty() )\n",
    "        self.assertTrue( test_sll.size() == len(my_nodes_to_add) )\n",
    "        \n",
    "    def tearDown(self):\n",
    "        pass\n",
    "        \n",
    "def compile_MySLLTestCases():\n",
    "    # compose the suite ...\n",
    "    sll_suite = unittest.TestSuite()\n",
    "    sll_suite.addTest(SLLTests('test_empty_sll'))\n",
    "    sll_suite.addTest(SLLTests('test_adding_nodes_to_sll'))\n",
    "    return sll_suite\n",
    "\n",
    "def run_MySLLTestCases(suite, verbosity=2):\n",
    "    print(f'Running my test suite for Task 1.2;', file=sys.stderr)\n",
    "    for t in suite:\n",
    "        print(f'... my test method: {t}', file=sys.stderr)\n",
    "    # set the verbosity parameter to 0..2 for less or more output ...\n",
    "    unittest.TextTestRunner(verbosity=verbosity).run(suite)\n",
    "    \n",
    "sll_suite_Task_1_2 = compile_MySLLTestCases()\n",
    "run_MySLLTestCases(sll_suite_Task_1_2, verbosity=1)"
   ]
  },
  {
   "cell_type": "markdown",
   "metadata": {
    "deletable": false,
    "editable": false,
    "nbgrader": {
     "checksum": "3546e5c2b11a4eb894695d08f7fa37d3",
     "grade": false,
     "grade_id": "q_1_3_0",
     "locked": true,
     "schema_version": 1,
     "solution": false
    }
   },
   "source": [
    "#### Task 1.3:  implement method  `SinglyLinkedList.add_after(self, existing, node)`\n",
    "Implement method `add_after(self, existing, node)`, in which `existing` is an existing node, and `node` is the new `class Node` instance that is to be inserted immediate after `existing` in the list. If the list is empty, `existing` cannot be a valid node on the list; in that case, you raise an `Exception`, as in the skeleton. Don't forget to increment the size of your list"
   ]
  },
  {
   "cell_type": "code",
   "execution_count": 6,
   "metadata": {
    "deletable": false,
    "nbgrader": {
     "checksum": "8fed063b83d85411d9c3b5d0ca5ed147",
     "grade": false,
     "grade_id": "aa_1_3_0",
     "locked": false,
     "schema_version": 1,
     "solution": true
    }
   },
   "outputs": [],
   "source": [
    "# Task 1.3 code cell\n",
    "\n",
    "class SinglyLinkedList(SinglyLinkedList):\n",
    "\n",
    "    def add_after(self, existing, node):\n",
    "        \"\"\"Appends an item after an existing node.\"\"\"\n",
    "        if self.empty():\n",
    "            raise Exception\n",
    "        else:\n",
    "            nextNode = existing.get_next()\n",
    "            existing.set_next(node)\n",
    "            node.set_next(nextNode)"
   ]
  },
  {
   "cell_type": "code",
   "execution_count": null,
   "metadata": {
    "deletable": false,
    "editable": false,
    "nbgrader": {
     "checksum": "e32e5cbd9aecf615cf071bf40326b39d",
     "grade": true,
     "grade_id": "at_1_3_0",
     "locked": true,
     "points": 8,
     "schema_version": 1,
     "solution": false
    }
   },
   "outputs": [],
   "source": []
  },
  {
   "cell_type": "code",
   "execution_count": 7,
   "metadata": {},
   "outputs": [
    {
     "name": "stderr",
     "output_type": "stream",
     "text": [
      "Running my test suite for Task 1.3;\n",
      "... my test method: test_add_after (__main__.SLLTests)\n",
      "... my test method: test_2 (__main__.SLLTests)\n",
      "..\n",
      "----------------------------------------------------------------------\n",
      "Ran 2 tests in 0.002s\n",
      "\n",
      "OK\n"
     ]
    }
   ],
   "source": [
    "# your test Task 1.3 code below ...\n",
    "\n",
    "class SLLTests(SLLTests):\n",
    "    \n",
    "    def test_add_after(self):\n",
    "        \"\"\"test addding a node after a given node\"\"\"\n",
    "        \n",
    "        # get my test sll made in setUp ...\n",
    "        my_sll = self.sll\n",
    "        \n",
    "        # fill it with a few nodes ...\n",
    "        my_sll.add(Node(1))\n",
    "        my_sll.add(Node(2))\n",
    "        # this is what the list should look like now ... (check) ...\n",
    "        self.assertEqual(str(my_sll), \"SLL: 1 -> 2 -> None\")\n",
    "        \n",
    "        # now test add after ...\n",
    "        my_sll.add_after(my_sll.get_head(), Node(1.5))\n",
    "        # this is what the list should look like after adding a node after the head ...\n",
    "        self.assertEqual(str(my_sll), \"SLL: 1 -> 1.5 -> 2 -> None\")\n",
    "        \n",
    "        # add a node at the tail ...\n",
    "        my_sll.add_after(my_sll.get_tail(), Node(9))\n",
    "        # this is what the list should look like after adding a node after the tail ...\n",
    "        self.assertEqual(str(my_sll), \"SLL: 1 -> 1.5 -> 2 -> 9 -> None\")\n",
    "        \n",
    "        # add test cases if you want (or a 2nd test below)\n",
    "    \n",
    "    \n",
    "    # use the below skeleton for a new test you want to add to this\n",
    "    # test suite ...\n",
    "    \n",
    "    def test_2(self):\n",
    "        \"\"\"test if .... \"\"\"\n",
    "        pass\n",
    "\n",
    "    \n",
    "def compile_MySLLTestCases():\n",
    "    # compose the suite ...\n",
    "    sll_suite = unittest.TestSuite()\n",
    "    sll_suite.addTest(SLLTests('test_add_after'))\n",
    "    sll_suite.addTest(SLLTests('test_2'))\n",
    "    return sll_suite\n",
    "\n",
    "def run_MySLLTestCases(suite, verbosity=2):\n",
    "    print(f'Running my test suite for Task 1.3;', file=sys.stderr)\n",
    "    for t in suite:\n",
    "        print(f'... my test method: {t}', file=sys.stderr)\n",
    "    # set the verbosity parameter to 0..2 for less or more output ...\n",
    "    unittest.TextTestRunner(verbosity=verbosity).run(suite)\n",
    "    \n",
    "sll_suite_Task_1_3 = compile_MySLLTestCases()\n",
    "run_MySLLTestCases(sll_suite_Task_1_3, verbosity=1)"
   ]
  },
  {
   "cell_type": "markdown",
   "metadata": {
    "deletable": false,
    "editable": false,
    "nbgrader": {
     "checksum": "22b4c027a7ba82df8505c5ea6b4cb78c",
     "grade": false,
     "grade_id": "q_1_4_0",
     "locked": true,
     "schema_version": 1,
     "solution": false
    }
   },
   "source": [
    "#### Task 1.4 implement an iterator\n",
    "Implement a standard Python operator for `class SinglyLinkedList`, using the standard Python protocol.\n",
    "\n",
    "*DO THIS*\n",
    "\n",
    "1. finalize the `__iter__(self)` function, which initializes the iterator, by *pointing at the first item*. \n",
    "   See the instruction in the code skeleton below\n",
    "2. finalize the `__next__(self)` function that, when called:\n",
    " * *first saves the item* `self.__current item` currently points to, and then:\n",
    " * *increments* `self.__current`, making it already pointing the the next item in the list, so as to prepare\n",
    "   itself for the next call, and finally:\n",
    " * *returns* the saved item that is to be returned in response to *this* call\n",
    " \n",
    "In the top of `__next__()`, you *always* check if we are not yet already at the *end of the list*. If that is the case, you:\n",
    "\n",
    "1. `raise StopIteration()` to cancel operation of the iterator\n",
    "2. when doing this, `__next__()` will stop working "
   ]
  },
  {
   "cell_type": "code",
   "execution_count": 8,
   "metadata": {
    "deletable": false,
    "nbgrader": {
     "checksum": "b3edb6cc7933d93af610be9bb6ee2e82",
     "grade": false,
     "grade_id": "aa_1_4_0",
     "locked": false,
     "schema_version": 1,
     "solution": true
    }
   },
   "outputs": [],
   "source": [
    "# Task 1.4 code cell\n",
    "\n",
    "class SinglyLinkedList(SinglyLinkedList): #WHY ARE WE OVERWRITING GOOD CODE???\n",
    "    \n",
    "    def __iter__(self):\n",
    "        \"\"\"Standard python iterator method\"\"\"\n",
    "        # create:  `self.__current`   and make it point \n",
    "        # to the head of the list, in other words: to\n",
    "        # the first item in the list ...\n",
    "        self.__current = self.get_head()\n",
    "        return self\n",
    "\n",
    "\n",
    "    def __next__(self):\n",
    "        \"\"\"Standard python iterator method\"\"\"\n",
    "        if self.__current is None:\n",
    "            # If `self.__current`  points to the end of\n",
    "            # the list, then `raise StopIteration()`, \n",
    "            raise StopIteration()\n",
    "        else:\n",
    "            #create:  `result`  and assign it the item that `self.__current` points to currently\n",
    "            result = self.__current\n",
    "            # - before returning, advance  `self._current` to the next item in the list\n",
    "            self.__current = self.__current.get_next()\n",
    "            # - return `result`\n",
    "        return result"
   ]
  },
  {
   "cell_type": "code",
   "execution_count": null,
   "metadata": {
    "deletable": false,
    "editable": false,
    "nbgrader": {
     "checksum": "2e26087b5599f6f2a65b6b6803827d64",
     "grade": true,
     "grade_id": "at_1_4_0",
     "locked": true,
     "points": 8,
     "schema_version": 1,
     "solution": false
    }
   },
   "outputs": [],
   "source": []
  },
  {
   "cell_type": "code",
   "execution_count": 9,
   "metadata": {},
   "outputs": [
    {
     "name": "stderr",
     "output_type": "stream",
     "text": [
      "Running my test suite for Task 1.4;\n",
      "... my test method: test_iterator (__main__.SLLTests)\n",
      ".\n",
      "----------------------------------------------------------------------\n",
      "Ran 1 test in 0.001s\n",
      "\n",
      "OK\n"
     ]
    }
   ],
   "source": [
    "# test your Task 1.4 implementation below ...\n",
    "\n",
    "class SLLTests(SLLTests):\n",
    "    \n",
    "    def test_iterator(self):\n",
    "        \"\"\"test iterating a list using the iterator implemented\"\"\"\n",
    "        \n",
    "        # get my filled test sll made in setUp ... \n",
    "        # nodes have int in [1,10] as a key ...\n",
    "        my_sll = self.sll_filled\n",
    "        \n",
    "        # walk the list using the iterator ...\n",
    "        m = Node(0)\n",
    "        for n in my_sll:\n",
    "            self.assertTrue( n.get_item() in range(1,10+1) )\n",
    "            # check if nodes have increasing item key ...\n",
    "            # ... compare the nodes ...\n",
    "            self.assertTrue( n > m )\n",
    "            m = n\n",
    "            \n",
    "def compile_MySLLTestCases():\n",
    "    # compose the suite ...\n",
    "    sll_suite = unittest.TestSuite()\n",
    "    sll_suite.addTest(SLLTests('test_iterator'))\n",
    "    return sll_suite\n",
    "\n",
    "def run_MySLLTestCases(suite, verbosity=2):\n",
    "    print(f'Running my test suite for Task 1.4;', file=sys.stderr)\n",
    "    for t in suite:\n",
    "        print(f'... my test method: {t}', file=sys.stderr)\n",
    "    # set the verbosity parameter to 0..2 for less or more output ...\n",
    "    unittest.TextTestRunner(verbosity=verbosity).run(suite)\n",
    "    \n",
    "sll_suite_Task_1_4 = compile_MySLLTestCases()\n",
    "run_MySLLTestCases(sll_suite_Task_1_4, verbosity=1)"
   ]
  },
  {
   "cell_type": "markdown",
   "metadata": {
    "deletable": false,
    "editable": false,
    "nbgrader": {
     "checksum": "52a04a379a229339b08092b226a5e1c3",
     "grade": false,
     "grade_id": "q_1_5_0",
     "locked": true,
     "schema_version": 1,
     "solution": false
    }
   },
   "source": [
    "#### Task 1.5: implement `SinglyLinkedList.search(self, key)`\n",
    "Implement search function `SinglyLinkedList.search(self, key)` which, given a key (item data value), returns the node that contains that key, or `None` if no item in the list contains `key`"
   ]
  },
  {
   "cell_type": "code",
   "execution_count": 10,
   "metadata": {
    "deletable": false,
    "nbgrader": {
     "checksum": "9cdcdb04737135843e0d7ed78d88e275",
     "grade": false,
     "grade_id": "aa_1_5_0",
     "locked": false,
     "schema_version": 1,
     "solution": true
    }
   },
   "outputs": [],
   "source": [
    "# Task 1.5 code cell\n",
    "\n",
    "class SinglyLinkedList(SinglyLinkedList):\n",
    "    \n",
    "    def search(self, key):\n",
    "        \"\"\"return node containing key, or None if not found\"\"\"\n",
    "        for node in [x for x in iter(self)]:\n",
    "            if key == node.get_item():\n",
    "                return node\n",
    "        return None"
   ]
  },
  {
   "cell_type": "code",
   "execution_count": null,
   "metadata": {
    "deletable": false,
    "editable": false,
    "nbgrader": {
     "checksum": "12f181d67583c4e8d38d3d1a53d16488",
     "grade": true,
     "grade_id": "at_1_5_0",
     "locked": true,
     "points": 8,
     "schema_version": 1,
     "solution": false
    }
   },
   "outputs": [],
   "source": []
  },
  {
   "cell_type": "code",
   "execution_count": 11,
   "metadata": {},
   "outputs": [
    {
     "name": "stderr",
     "output_type": "stream",
     "text": [
      "Running my test suite for Task 1.5;\n",
      "... my test method: test_search_list (__main__.SLLTests)\n",
      ".\n",
      "----------------------------------------------------------------------\n",
      "Ran 1 test in 0.001s\n",
      "\n",
      "OK\n"
     ]
    }
   ],
   "source": [
    "# test your Task 1.5 code below ...\n",
    "\n",
    "class SLLTests(SLLTests):\n",
    "    \n",
    "    def test_search_list(self):\n",
    "        \"\"\"test searching for keys in the sll\"\"\"\n",
    "        \n",
    "        # nodes have int in [1,5] as a key ...\n",
    "        sll = self.sll_filled\n",
    "            \n",
    "        # merge the lists ...\n",
    "        # ... making a list this way requires the \n",
    "        #     iterator to function ...\n",
    "        val_lst  = [n.get_item() for n in sll]\n",
    "        srch_lst = [k for k in range(15)]\n",
    "\n",
    "        for key in srch_lst:\n",
    "            target = sll.search(key)\n",
    "            if key in val_lst:\n",
    "                self.assertTrue(target.get_item() == key)\n",
    "            else:\n",
    "                self.assertIsNone( target )\n",
    "        \n",
    "def compile_MySLLTestCases():\n",
    "    # compose the suite ...\n",
    "    sll_suite = unittest.TestSuite()\n",
    "    sll_suite.addTest(SLLTests('test_search_list'))\n",
    "    return sll_suite\n",
    "\n",
    "def run_MySLLTestCases(suite, verbosity=2):\n",
    "    print(f'Running my test suite for Task 1.5;', file=sys.stderr)\n",
    "    for t in suite:\n",
    "        print(f'... my test method: {t}', file=sys.stderr)\n",
    "    # set the verbosity parameter to 0..2 for less or more output ...\n",
    "    unittest.TextTestRunner(verbosity=verbosity).run(suite)\n",
    "    \n",
    "sll_suite_Task_1_5 = compile_MySLLTestCases()\n",
    "run_MySLLTestCases(sll_suite_Task_1_5, verbosity=1)\n"
   ]
  },
  {
   "cell_type": "markdown",
   "metadata": {
    "deletable": false,
    "editable": false,
    "nbgrader": {
     "checksum": "a52978085d28997e74ebb677cca6cdd7",
     "grade": false,
     "grade_id": "q_1_6_0",
     "locked": true,
     "schema_version": 1,
     "solution": false
    }
   },
   "source": [
    "#### Task 1.6: implement list getting the k-th node\n",
    "Implement a `get()` function member to returning the k-th node in the list. Protect the function from index errors. In case k cannot be a correct index, your function should raise an `IndexError`, else it returns the node at the k-th position in the list"
   ]
  },
  {
   "cell_type": "code",
   "execution_count": 12,
   "metadata": {
    "deletable": false,
    "nbgrader": {
     "checksum": "5e06caae129980515e1fbf39aed99433",
     "grade": false,
     "grade_id": "aa_1_6_0",
     "locked": false,
     "schema_version": 1,
     "solution": true
    }
   },
   "outputs": [],
   "source": [
    "# Task1.6 code cell\n",
    "\n",
    "class SinglyLinkedList(SinglyLinkedList):\n",
    "\n",
    "    def get(self, k):\n",
    "        \"\"\"return the k-th node from the list. raise IndexError if k not on list\"\"\"\n",
    "        if self.size() < k:\n",
    "            raise IndexError\n",
    "        for index, node in enumerate(self):\n",
    "            if index==k:\n",
    "                return node"
   ]
  },
  {
   "cell_type": "code",
   "execution_count": null,
   "metadata": {
    "deletable": false,
    "editable": false,
    "nbgrader": {
     "checksum": "f00992198d5b816a5286efb7530f3e00",
     "grade": true,
     "grade_id": "at_1_6_0",
     "locked": true,
     "points": 8,
     "schema_version": 1,
     "solution": false
    }
   },
   "outputs": [],
   "source": []
  },
  {
   "cell_type": "code",
   "execution_count": 13,
   "metadata": {},
   "outputs": [
    {
     "name": "stderr",
     "output_type": "stream",
     "text": [
      "Running my test suite for Task 1.6;\n",
      "... my test method: test_get_node_at_index_k (__main__.SLLTests)\n",
      ".\n",
      "----------------------------------------------------------------------\n",
      "Ran 1 test in 0.002s\n",
      "\n",
      "OK\n"
     ]
    }
   ],
   "source": [
    "# test your Task 1.6 code in here ...\n",
    "\n",
    "class SLLTests(SLLTests):\n",
    "    \n",
    "    def test_get_node_at_index_k(self):\n",
    "        \"\"\"test get the node at index k\"\"\"\n",
    "        \n",
    "        # nodes have int in [1,5] as a key ...\n",
    "        sll = self.sll_filled\n",
    "        \n",
    "        for k in range(sll.size()):\n",
    "            self.assertTrue( sll.get(k).get_item() == k+1 )\n",
    "        \n",
    "        # make sure an index that is out of range\n",
    "        # issues an IndexError ...\n",
    "        with self.assertRaises(IndexError):\n",
    "            sll.get(sll.size()+100)\n",
    "        \n",
    "        \n",
    "def compile_MySLLTestCases():\n",
    "    # compose the suite ...\n",
    "    sll_suite = unittest.TestSuite()\n",
    "    sll_suite.addTest(SLLTests('test_get_node_at_index_k'))\n",
    "    return sll_suite\n",
    "\n",
    "def run_MySLLTestCases(suite, verbosity=2):\n",
    "    print(f'Running my test suite for Task 1.6;', file=sys.stderr)\n",
    "    for t in suite:\n",
    "        print(f'... my test method: {t}', file=sys.stderr)\n",
    "    # set the verbosity parameter to 0..2 for less or more output ...\n",
    "    unittest.TextTestRunner(verbosity=verbosity).run(suite)\n",
    "    \n",
    "sll_suite_Task_1_6 = compile_MySLLTestCases()\n",
    "run_MySLLTestCases(sll_suite_Task_1_6, verbosity=1)\n"
   ]
  },
  {
   "cell_type": "markdown",
   "metadata": {
    "deletable": false,
    "editable": false,
    "nbgrader": {
     "checksum": "4000b472b35186560e399013694bfa78",
     "grade": false,
     "grade_id": "q_1_7_0",
     "locked": true,
     "schema_version": 1,
     "solution": false
    }
   },
   "source": [
    "#### Task 1.7: implement list concatenation\n",
    "In preparation of *divide_and_conquer* types of sorting the list, we are going to implement the concatenation of two already sorted smaller lists. Finish the below function and implement a test to verify its correctness below. Consider also one or both of the lists being empty. Do not forget to also set the size of the concatenated list"
   ]
  },
  {
   "cell_type": "code",
   "execution_count": 14,
   "metadata": {
    "deletable": false,
    "nbgrader": {
     "checksum": "bac75afb1ee6a7c80b5585d956c26ea9",
     "grade": false,
     "grade_id": "aa_1_7_0",
     "locked": false,
     "schema_version": 1,
     "solution": true
    }
   },
   "outputs": [],
   "source": [
    "# Task 1.7 code cell\n",
    "from copy import deepcopy\n",
    "\n",
    "class SinglyLinkedList(SinglyLinkedList):\n",
    "    \n",
    "    def concat(self, other_lst):\n",
    "        \"\"\"Concatenate other_lst to this list\"\"\"\n",
    "        if self is None or other_lst is None:\n",
    "            return\n",
    "        if not self.empty() and not other_lst.empty():    \n",
    "            self.get_tail().set_next(other_lst.get_head())\n",
    "            self.__tail = other_lst.get_tail()\n",
    "            self.__size = self.size()+other_lst.size()\n",
    "        if self.empty():\n",
    "            self.__dict__.update(deepcopy(other_lst).__dict__)\n",
    "            "
   ]
  },
  {
   "cell_type": "code",
   "execution_count": null,
   "metadata": {
    "deletable": false,
    "editable": false,
    "nbgrader": {
     "checksum": "a62325a650bb545092cf7d64c42b30b3",
     "grade": true,
     "grade_id": "at_1_7_0",
     "locked": true,
     "points": 12,
     "schema_version": 1,
     "solution": false
    }
   },
   "outputs": [],
   "source": []
  },
  {
   "cell_type": "code",
   "execution_count": 15,
   "metadata": {},
   "outputs": [
    {
     "name": "stderr",
     "output_type": "stream",
     "text": [
      "Running my test suite for Task 1.7;\n",
      "... my test method: test_concat_two_filled_lists (__main__.SLLTests)\n",
      "... my test method: test_concat_filled_and_empty_list (__main__.SLLTests)\n",
      "... my test method: test_concat_empty_and_filled_list (__main__.SLLTests)\n",
      "...\n",
      "----------------------------------------------------------------------\n",
      "Ran 3 tests in 0.004s\n",
      "\n",
      "OK\n"
     ]
    }
   ],
   "source": [
    "# test your Task 1.7 code below ...\n",
    "\n",
    "class SLLTests(SLLTests):\n",
    "    \n",
    "    def test_concat_two_filled_lists(self):\n",
    "        '''test concat of two non-empty lists'''\n",
    "        \n",
    "        this_sll  = SinglyLinkedList()\n",
    "        other_sll = SinglyLinkedList()\n",
    "        \n",
    "        for i in range(3):\n",
    "            this_sll.add(Node(i))\n",
    "            \n",
    "        for i in range(3, 6):\n",
    "            other_sll.add(Node(i))\n",
    "            \n",
    "        expected_size = this_sll.size() + other_sll.size()\n",
    "        \n",
    "        this_sll.concat(other_sll)\n",
    "\n",
    "        self.assertEqual(this_sll.size(), expected_size)\n",
    "        self.assertEqual(str(this_sll), \"SLL: 0 -> 1 -> 2 -> 3 -> 4 -> 5 -> None\")\n",
    "        self.assertEqual(this_sll.get_tail(), this_sll.get(this_sll.size() - 1))\n",
    "        self.assertEqual(this_sll.get_tail(), other_sll.get_tail())\n",
    "        \n",
    "    def test_concat_filled_and_empty_list(self):\n",
    "        '''test concat of empty and non-empty lists'''\n",
    "        \n",
    "        this_sll  = SinglyLinkedList()\n",
    "        other_sll = SinglyLinkedList()\n",
    "        \n",
    "        for i in range(3):\n",
    "            this_sll.add(Node(i))\n",
    "            \n",
    "        expected_size = this_sll.size() + other_sll.size()\n",
    "        this_sll.concat(other_sll)\n",
    "\n",
    "        \n",
    "        self.assertEqual(this_sll.size(), expected_size)\n",
    "        self.assertEqual(str(this_sll), \"SLL: 0 -> 1 -> 2 -> None\")\n",
    "        self.assertEqual(this_sll.get_tail(), this_sll.get(this_sll.size() - 1))\n",
    "        \n",
    "    def test_concat_empty_and_filled_list(self):\n",
    "        '''test concat of empty and non-empty lists'''\n",
    "        \n",
    "        this_sll  = SinglyLinkedList()\n",
    "        other_sll = SinglyLinkedList()\n",
    "        \n",
    "        for i in range(3):\n",
    "            other_sll.add(Node(i))\n",
    "            \n",
    "        expected_size = this_sll.size() + other_sll.size()\n",
    "\n",
    "        this_sll.concat(other_sll)\n",
    "\n",
    "        self.assertEqual(this_sll.size(), expected_size)\n",
    "        self.assertEqual(str(this_sll), \"SLL: 0 -> 1 -> 2 -> None\")\n",
    "        self.assertEqual(other_sll.get_tail(), this_sll.get(this_sll.size() - 1))\n",
    "    \n",
    "    \n",
    "    \n",
    "    # should we also test the concat of 2 empty lists ???\n",
    "    \n",
    "        \n",
    "        \n",
    "def compile_MySLLTestCases():\n",
    "    # compose the suite ...\n",
    "    sll_suite = unittest.TestSuite()\n",
    "    sll_suite.addTest(SLLTests('test_concat_two_filled_lists'))\n",
    "    sll_suite.addTest(SLLTests('test_concat_filled_and_empty_list'))\n",
    "    sll_suite.addTest(SLLTests('test_concat_empty_and_filled_list'))\n",
    "    return sll_suite\n",
    "\n",
    "def run_MySLLTestCases(suite, verbosity=2):\n",
    "    print(f'Running my test suite for Task 1.7;', file=sys.stderr)\n",
    "    for t in suite:\n",
    "        print(f'... my test method: {t}', file=sys.stderr)\n",
    "    # set the verbosity parameter to 0..2 for less or more output ...\n",
    "    unittest.TextTestRunner(verbosity=verbosity).run(suite)\n",
    "    \n",
    "sll_suite_Task_1_7 = compile_MySLLTestCases()\n",
    "run_MySLLTestCases(sll_suite_Task_1_7, verbosity=1)\n"
   ]
  },
  {
   "cell_type": "markdown",
   "metadata": {
    "deletable": false,
    "editable": false,
    "nbgrader": {
     "checksum": "4f8473746ae4f0e54c76f0aef1742412",
     "grade": false,
     "grade_id": "q_1_8_0",
     "locked": true,
     "schema_version": 1,
     "solution": false
    }
   },
   "source": [
    "#### Task 1.8: implement QuickSort\n",
    "Implement a quick sort below, ordering the nodes in the linked list using the Quick Sort algorithm in $\\mathcal{O}(n \\cdot log~n)$ time. For convenience you may assume here that your linked list is not empty at the start of the sort"
   ]
  },
  {
   "cell_type": "code",
   "execution_count": 72,
   "metadata": {
    "deletable": false,
    "nbgrader": {
     "checksum": "c58df14ff9a21388b685972fc0841421",
     "grade": false,
     "grade_id": "aa_1_8_0",
     "locked": false,
     "schema_version": 1,
     "solution": true
    }
   },
   "outputs": [],
   "source": [
    "# Task 1.8 code cell\n",
    "\n",
    "class SinglyLinkedList(SinglyLinkedList):\n",
    "    \n",
    "    @staticmethod\n",
    "    def concatSLL(leftList, rightList):\n",
    "        \"\"\"Return concatenation of leftList and rightList without altering either one of them\"\"\"\n",
    "        cL = deepcopy(leftList)\n",
    "        cR = deepcopy(rightList)\n",
    "        \n",
    "        if not isinstance(cL,SinglyLinkedList) or not isinstance(cL,SinglyLinkedList):\n",
    "            raise TypeError(\"Both inputs should be instances of SinglyLinkedList\")\n",
    "        \n",
    "        #lists are either both not empty, the left is empty or the right is empty (or both but then we return an empty SLL)\n",
    "        if not cL.empty() and not cR.empty():    \n",
    "            cL.get_tail().set_next(cR.get_head())\n",
    "            cL.__tail = cR.get_tail()\n",
    "            cL.__size = cL.size()+cR.size()\n",
    "            return cL\n",
    "        elif cL.empty():\n",
    "            return cR\n",
    "        elif cR.empty():\n",
    "            return cL\n",
    "            \n",
    "    def quick_sort(self):\n",
    "        \"\"\"return a quick-sorted copy of a non-empty list\"\"\"\n",
    "        if self.size() <= 1:\n",
    "            return deepcopy(self)\n",
    "        elif self.size() == 2:\n",
    "            duo = [self.get_head().get_item(),self.get_tail().get_item()] \n",
    "            #return sorted sll of two\n",
    "            sll = SinglyLinkedList()\n",
    "            sll.add(Node(min(duo)))\n",
    "            sll.add(Node(max(duo)))\n",
    "            return sll\n",
    "        else: #quicksort (recursively)\n",
    "            #initialising left and right lists from pivots\n",
    "            left = SinglyLinkedList()\n",
    "            right = SinglyLinkedList()\n",
    "            \n",
    "            #pivot\n",
    "            pivot = self.get_tail().get_item()\n",
    "            pivotSLL = SinglyLinkedList()\n",
    "            pivotSLL.add(Node(pivot))\n",
    "            \n",
    "            #comparing items to pivot in order to determine whether to go left or right...\n",
    "            for i, n in enumerate(self):\n",
    "                if n.get_item() < pivot:\n",
    "                    left.add(Node(n.get_item()))\n",
    "                elif n.get_item() > pivot:\n",
    "                    right.add(Node(n.get_item()))\n",
    "            \n",
    "            #returning sorted list, and pass down sorting of left and right lists further\n",
    "            return SinglyLinkedList.concatSLL(left.quick_sort(), SinglyLinkedList.concatSLL(pivotSLL,right.quick_sort()))\n",
    "        "
   ]
  },
  {
   "cell_type": "code",
   "execution_count": null,
   "metadata": {
    "deletable": false,
    "editable": false,
    "nbgrader": {
     "checksum": "0905c0ee22776f4a6daa5507d0d4d59b",
     "grade": true,
     "grade_id": "at_1_8_0",
     "locked": true,
     "points": 12,
     "schema_version": 1,
     "solution": false
    }
   },
   "outputs": [],
   "source": []
  },
  {
   "cell_type": "code",
   "execution_count": 73,
   "metadata": {},
   "outputs": [
    {
     "name": "stderr",
     "output_type": "stream",
     "text": [
      "Running my test suite for Task 1.8;\n",
      "... my test method: test_quick_sort_non_empty (__main__.SLLTests)\n",
      ".\n",
      "----------------------------------------------------------------------\n",
      "Ran 1 test in 0.005s\n",
      "\n",
      "OK\n"
     ]
    }
   ],
   "source": [
    "# test your Task 1.8 code in here ...\n",
    "\n",
    "class SLLTests(SLLTests):\n",
    "        \n",
    "    def test_quick_sort_non_empty(self):\n",
    "        '''test quick sort for various Node data types'''\n",
    "        values = [58, 26, 12, 35, 18, 16, 2, 86, 13, 48, 56, 37, 73, 53]\n",
    "        my_sll = SinglyLinkedList()\n",
    "        for value in values:\n",
    "            my_sll.add(Node(value))\n",
    "        \n",
    "        sorted_list = my_sll.quick_sort()\n",
    "        self.assertEqual(str(sorted_list), \\\n",
    "            'SLL: 2 -> 12 -> 13 -> 16 -> 18 -> 26 -> 35 -> 37 -> 48 -> 53 -> 56 -> 58 -> 73 -> 86 -> None')\n",
    "        \n",
    "        letters = SinglyLinkedList()\n",
    "        values = ['g', 'f', 'e', 'd', 'c', 'b', 'a']\n",
    "        for value in values:\n",
    "            letters.add(Node(value))\n",
    "        \n",
    "        sorted_list = letters.quick_sort()\n",
    "        self.assertEqual(str(sorted_list), 'SLL: a -> b -> c -> d -> e -> f -> g -> None')\n",
    "        \n",
    "        names = SinglyLinkedList()\n",
    "        values = ['Lars', 'Pete', 'Bird', 'Moon', 'Ella', 'Chuc', 'Anis', 'Oleg', 'Rick', 'Rolf']\n",
    "        for value in values:\n",
    "            names.add(Node(value))\n",
    "        \n",
    "        sorted_list = names.quick_sort()\n",
    "        self.assertEqual(str(sorted_list), \\\n",
    "            'SLL: Anis -> Bird -> Chuc -> Ella -> Lars -> Moon -> Oleg -> Pete -> Rick -> Rolf -> None')\n",
    "        \n",
    "        \n",
    "def compile_MySLLTestCases():\n",
    "    # compose the suite ...\n",
    "    sll_suite = unittest.TestSuite()\n",
    "    sll_suite.addTest(SLLTests('test_quick_sort_non_empty'))\n",
    "    return sll_suite\n",
    "\n",
    "def run_MySLLTestCases(suite, verbosity=2):\n",
    "    print(f'Running my test suite for Task 1.8;', file=sys.stderr)\n",
    "    for t in suite:\n",
    "        print(f'... my test method: {t}', file=sys.stderr)\n",
    "    # set the verbosity parameter to 0..2 for less or more output ...\n",
    "    unittest.TextTestRunner(verbosity=verbosity).run(suite)\n",
    "    \n",
    "sll_suite_Task_1_8 = compile_MySLLTestCases()\n",
    "run_MySLLTestCases(sll_suite_Task_1_8, verbosity=1)\n"
   ]
  },
  {
   "cell_type": "markdown",
   "metadata": {
    "deletable": false,
    "editable": false,
    "nbgrader": {
     "checksum": "93b91dc6fffd0f538312ed08a2b297ba",
     "grade": false,
     "grade_id": "q_1_9_0",
     "locked": true,
     "schema_version": 1,
     "solution": false
    }
   },
   "source": [
    "#### Task 1.9: implement Binary Search\n",
    "Finally, using the below code skeleton, implement a static method `SinglyLinkedList.binary_search(sll, item)` that uses binary search algorithm to find a key in $\\mathcal(O)log~n$ time. Return `None` if the key is not on the list."
   ]
  },
  {
   "cell_type": "markdown",
   "metadata": {},
   "source": [
    "[Not very useful](https://www.quora.com/Why-is-binary-search-not-possible-using-linked-list), is it? - Joost"
   ]
  },
  {
   "cell_type": "code",
   "execution_count": null,
   "metadata": {
    "deletable": false,
    "nbgrader": {
     "checksum": "945b08621b36532cd476b5d09f8d07ce",
     "grade": false,
     "grade_id": "aa_1_9_0",
     "locked": false,
     "schema_version": 1,
     "solution": true
    }
   },
   "outputs": [],
   "source": [
    "# Task 1.9 code cell \n",
    "\n",
    "class SinglyLinkedList(SinglyLinkedList):\n",
    "    \n",
    "    @staticmethod\n",
    "    def binary_search(sll, key):\n",
    "        \"\"\"return the node with key (None if not found), using binary search\"\"\"\n",
    "        # YOUR CODE HERE\n",
    "        raise NotImplementedError()"
   ]
  },
  {
   "cell_type": "code",
   "execution_count": null,
   "metadata": {
    "deletable": false,
    "editable": false,
    "nbgrader": {
     "checksum": "c954228f27c5bc7b1e67842e0aca53eb",
     "grade": true,
     "grade_id": "at_1_9_0",
     "locked": true,
     "points": 12,
     "schema_version": 1,
     "solution": false
    }
   },
   "outputs": [],
   "source": []
  },
  {
   "cell_type": "code",
   "execution_count": null,
   "metadata": {},
   "outputs": [],
   "source": [
    "# test your Task 1.9 code below ...\n",
    "\n",
    "class SLLTests(SLLTests):\n",
    "        \n",
    "    def test_binary_search(self):\n",
    "        '''test quick sort for various Node data types'''\n",
    "        values = [58, 26, 12, 35, 18, 16, 2, 86, 13, 48, 56, 37, 73, 53]\n",
    "        my_sll = SinglyLinkedList()\n",
    "        for value in values:\n",
    "            my_sll.add(Node(value))\n",
    "        \n",
    "        sorted_list = my_sll.quick_sort()\n",
    "        self.assertEqual(str(sorted_list), \\\n",
    "            'SLL: 2 -> 12 -> 13 -> 16 -> 18 -> 26 -> 35 -> 37 -> 48 -> 53 -> 56 -> 58 -> 73 -> 86 -> None')\n",
    "        \n",
    "        for key in (26, 86, 12, 2, 48):\n",
    "            target = SinglyLinkedList.binary_search(sorted_list, key)\n",
    "            self.assertEqual(target.get_item(), key)\n",
    "    \n",
    "    \n",
    "    # should we test lists with other types of keys (like names)??\n",
    "    \n",
    "        \n",
    "def compile_MySLLTestCases():\n",
    "    # compose the suite ...\n",
    "    sll_suite = unittest.TestSuite()\n",
    "    sll_suite.addTest(SLLTests('test_binary_search'))\n",
    "    return sll_suite\n",
    "\n",
    "def run_MySLLTestCases(suite, verbosity=2):\n",
    "    print(f'Running my test suite for Task 1.9;', file=sys.stderr)\n",
    "    for t in suite:\n",
    "        print(f'... my test method: {t}', file=sys.stderr)\n",
    "    # set the verbosity parameter to 0..2 for less or more output ...\n",
    "    unittest.TextTestRunner(verbosity=verbosity).run(suite)\n",
    "    \n",
    "sll_suite_Task_1_9 = compile_MySLLTestCases()\n",
    "run_MySLLTestCases(sll_suite_Task_1_9, verbosity=1)\n"
   ]
  },
  {
   "cell_type": "markdown",
   "metadata": {
    "deletable": false,
    "editable": false,
    "nbgrader": {
     "checksum": "41e5ac176a9df0341ecc26463cb9aa2d",
     "grade": false,
     "grade_id": "ro_10_0_0",
     "locked": true,
     "schema_version": 1,
     "solution": false
    }
   },
   "source": [
    "# Done"
   ]
  },
  {
   "cell_type": "code",
   "execution_count": null,
   "metadata": {},
   "outputs": [],
   "source": []
  },
  {
   "cell_type": "code",
   "execution_count": null,
   "metadata": {},
   "outputs": [],
   "source": []
  }
 ],
 "metadata": {
  "kernelspec": {
   "display_name": "Python 3",
   "language": "python",
   "name": "python3"
  },
  "language_info": {
   "codemirror_mode": {
    "name": "ipython",
    "version": 3
   },
   "file_extension": ".py",
   "mimetype": "text/x-python",
   "name": "python",
   "nbconvert_exporter": "python",
   "pygments_lexer": "ipython3",
   "version": "3.6.1"
  },
  "latex_envs": {
   "LaTeX_envs_menu_present": true,
   "autoclose": false,
   "autocomplete": true,
   "bibliofile": "biblio.bib",
   "cite_by": "apalike",
   "current_citInitial": 1,
   "eqLabelWithNumbers": true,
   "eqNumInitial": 1,
   "hotkeys": {
    "equation": "Ctrl-E",
    "itemize": "Ctrl-I"
   },
   "labels_anchors": false,
   "latex_user_defs": false,
   "report_style_numbering": false,
   "user_envs_cfg": false
  }
 },
 "nbformat": 4,
 "nbformat_minor": 2
}
