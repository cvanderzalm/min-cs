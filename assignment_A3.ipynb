{
 "cells": [
  {
   "cell_type": "code",
   "execution_count": 1,
   "metadata": {},
   "outputs": [
    {
     "data": {
      "text/html": [
       "\n",
       "<style>\n",
       "    /*TU color table */\n",
       "    :root {\n",
       "      --tu-black:        rgb(0,0,0);\n",
       "      --tu-white:        rgb(255,255,255);\n",
       "      --tu-cyan:         rgb(0,166,214);\n",
       "      --tu-green:        rgb(165,202,26);\n",
       "      --tu-yellow:       rgb(225,196,0);\n",
       "      --tu-orange:       rgb(230,70,22);\n",
       "      --tu-red:          rgb(225,26,26);\n",
       "      --tu-purple:       rgb(109,23,127);\n",
       "      --tu-slategreen:   rgb(107,134,137);\n",
       "      --tu-turqoise:     rgb(0,136,145);\n",
       "      --tu-darkblue:     rgb(29,28,115);\n",
       "      --tu-skyblue:      rgb(110,187,213);\n",
       "    }\n",
       "    h2, h3, h4 {\n",
       "        background-color: var(--tu-white);\n",
       "        color: var(--tu-cyan);\n",
       "    }\n",
       "    h1 {\n",
       "        background-color: var(--tu-cyan);\n",
       "        color: var(--tu-white);\n",
       "    }\n",
       "    em {\n",
       "        color: var(--tu-cyan);\n",
       "    }\n",
       "     \n",
       "    div.output_stdout {\n",
       "        background-color: var(--tu-green);\n",
       "        color: var(--tu-black);\n",
       "    }\n",
       "    div.output_stdout:before {\n",
       "        content: \"stdout output;\";\n",
       "    }\n",
       "    div.output_stderr {\n",
       "        background-color: var(--tu-yellow);\n",
       "        color: var(--tu-black);\n",
       "    }\n",
       "    div.output_stderr:before {\n",
       "        content: \"stderr output;\";\n",
       "    }\n",
       "</style>\n",
       "<script>\n",
       "    code_show=true; \n",
       "    IPython.OutputArea.prototype._should_scroll = function(lines) {\n",
       "        return false;\n",
       "    }\n",
       "    function code_toggle() {\n",
       "        if (code_show){\n",
       "            $('div.cell.code_cell.rendered.selected div.input').hide();\n",
       "        } else {\n",
       "            $('div.cell.code_cell.rendered.selected div.input').show();\n",
       "        }\n",
       "        code_show = !code_show\n",
       "    }     \n",
       "    $( document ).ready(code_toggle);\n",
       "</script>\n",
       "<a href=\"javascript:code_toggle()\"><h4>Notebook settings</h4></a>\n"
      ],
      "text/plain": [
       "<IPython.core.display.HTML object>"
      ]
     },
     "metadata": {},
     "output_type": "display_data"
    }
   ],
   "source": [
    "# @hidden_cell\n",
    "\"\"\" Bart Gerritsen, Oct 2018:\n",
    "\n",
    "Note: for safety and robustness, styles and script are contained inside\n",
    "      the Notebook rather than in external *.css and *.js files\n",
    "\"\"\"      \n",
    "from IPython.core.display import HTML\n",
    "from IPython.display import display\n",
    "tag = HTML('''\n",
    "<style>\n",
    "    /*TU color table */\n",
    "    :root {\n",
    "      --tu-black:        rgb(0,0,0);\n",
    "      --tu-white:        rgb(255,255,255);\n",
    "      --tu-cyan:         rgb(0,166,214);\n",
    "      --tu-green:        rgb(165,202,26);\n",
    "      --tu-yellow:       rgb(225,196,0);\n",
    "      --tu-orange:       rgb(230,70,22);\n",
    "      --tu-red:          rgb(225,26,26);\n",
    "      --tu-purple:       rgb(109,23,127);\n",
    "      --tu-slategreen:   rgb(107,134,137);\n",
    "      --tu-turqoise:     rgb(0,136,145);\n",
    "      --tu-darkblue:     rgb(29,28,115);\n",
    "      --tu-skyblue:      rgb(110,187,213);\n",
    "    }\n",
    "    h2, h3, h4 {\n",
    "        background-color: var(--tu-white);\n",
    "        color: var(--tu-cyan);\n",
    "    }\n",
    "    h1 {\n",
    "        background-color: var(--tu-cyan);\n",
    "        color: var(--tu-white);\n",
    "    }\n",
    "    em {\n",
    "        color: var(--tu-cyan);\n",
    "    }\n",
    "     \n",
    "    div.output_stdout {\n",
    "        background-color: var(--tu-green);\n",
    "        color: var(--tu-black);\n",
    "    }\n",
    "    div.output_stdout:before {\n",
    "        content: \"stdout output;\";\n",
    "    }\n",
    "    div.output_stderr {\n",
    "        background-color: var(--tu-yellow);\n",
    "        color: var(--tu-black);\n",
    "    }\n",
    "    div.output_stderr:before {\n",
    "        content: \"stderr output;\";\n",
    "    }\n",
    "</style>\n",
    "<script>\n",
    "    code_show=true; \n",
    "    IPython.OutputArea.prototype._should_scroll = function(lines) {\n",
    "        return false;\n",
    "    }\n",
    "    function code_toggle() {\n",
    "        if (code_show){\n",
    "            $('div.cell.code_cell.rendered.selected div.input').hide();\n",
    "        } else {\n",
    "            $('div.cell.code_cell.rendered.selected div.input').show();\n",
    "        }\n",
    "        code_show = !code_show\n",
    "    }     \n",
    "    $( document ).ready(code_toggle);\n",
    "</script>\n",
    "<a href=\"javascript:code_toggle()\"><h4>Notebook settings</h4></a>\n",
    "''')\n",
    "display(tag)"
   ]
  },
  {
   "cell_type": "markdown",
   "metadata": {},
   "source": [
    "<header>\n",
    "    <div style=\"overflow: auto;\">\n",
    "        <img src=\"./figures/TUDelft.jpg\" style=\"float: left;\" />\n",
    "        <img src=\"./figures/DUT_Flame.png\" style=\"float: right; width: 100px;\" />\n",
    "    </div>\n",
    "    <div style=\"text-align: center;\">\n",
    "        <h2>Graphs, connectedness, shortest path and spanning trees</h2>\n",
    "        <h6>&copy; 2018, 2019, Bart Gerritsen, TU Delft. Creative Commons</h6>\n",
    "    </div>\n",
    "    <br>\n",
    "    <br>\n",
    "</header>"
   ]
  },
  {
   "cell_type": "markdown",
   "metadata": {
    "deletable": false,
    "editable": false,
    "nbgrader": {
     "checksum": "6e8c5d1b55971656227f7e98f40fc88e",
     "grade": false,
     "grade_id": "ro_0_0_0",
     "locked": true,
     "schema_version": 1,
     "solution": false
    }
   },
   "source": [
    "# Introduction <a class=\"anchor\" id=\"introduction\"/>\n",
    "\n",
    "Below, you find Assignment A3, a 2-student team assignment, for which the team has exactly 2 weeks. For this assignment, 80 points can be score altogether, assigning you a grade 8. During the assessment of you work, all team members should be able to explain, demo the work handed in, and answer background questions. During the assessment, you can raise your grade to a 10. On the other hand, assessors may lower the grade or even disqualify your work, in case your understanding of your own work appears poor or insufficient. In case of fraud, assessors will report this to the course responsible, without assigning a grade at all.\n",
    "\n",
    "Do not Run-all |>|> , as there are some long tasks in this Notebook. Start at the top and run cell-by-cell, advancing downwards.\n",
    "\n",
    "Note: this Notebook requires also `module PlotGraph`."
   ]
  },
  {
   "cell_type": "markdown",
   "metadata": {
    "deletable": false,
    "editable": false,
    "nbgrader": {
     "checksum": "7d0064c288a7cbd6ed3f5a8416f04018",
     "grade": false,
     "grade_id": "q_1_0_0",
     "locked": true,
     "schema_version": 1,
     "solution": false
    }
   },
   "source": [
    "# Exercise 1: Undirected Graph\n",
    "\n",
    "## class Graph<a class=\"anchor\" id=\"class_graph\"/>\n",
    "The `class Graph` we will be using in this assignments, implements both undirected and directed graphs (a.k.a. digraphs). To make a graph a digraph, set the `directed` flag to `True`. Furthermore, the `Graph` class splits off node geometry from node adjacency information."
   ]
  },
  {
   "cell_type": "code",
   "execution_count": null,
   "metadata": {
    "deletable": false,
    "nbgrader": {
     "checksum": "152fa27f0ce4a19c7f9c5565e0b0b959",
     "grade": false,
     "grade_id": "aa_1_0_0",
     "locked": false,
     "schema_version": 1,
     "solution": true
    }
   },
   "outputs": [],
   "source": [
    "class Graph:\n",
    "    \"\"\"implements a two dictionary-based (directed) graph of nodes and edges\"\"\"\n",
    "    \n",
    "    def __init__(self, vtx_dict={}, adj_dict = {}, directed=False):\n",
    "        '''construct a graph from the dictionaries for geometry and topology'''\n",
    "        self.vtx_dict = vtx_dict # contain node positions, colors\n",
    "        self.adj_dict = adj_dict # contains weighted edge info only\n",
    "        self.directed = directed # flag if digraph\n",
    "\n",
    "    def __str__(self):\n",
    "        '''return a string representation of self'''\n",
    "        connected, M = self.get_matrix()\n",
    "        S = '\\n'.join([''.join(['{:4}'.format(item) for item in row]) for row in M])\n",
    "        cat_string = '' + ('Connected' if connected else 'unconnected') + ' ' + \\\n",
    "                          ('digraph' if self.directed else 'undirected graph')\n",
    "        return \"\\n\"+S+\"\\n\" + cat_string\n",
    "    \n",
    "    def get_matrix(self):\n",
    "        '''return adjacency matrix with connected T|F'''\n",
    "        def _connected(mat):\n",
    "            '''return T|F graph in matrix connected'''\n",
    "            if mat is None:\n",
    "                _conn = False\n",
    "            else:\n",
    "                # YOUR CODE HERE\n",
    "                raise NotImplementedError()\n",
    "            return _conn\n",
    "        # derive the adjacency matrix\n",
    "        mat = [[self.get_edge_weight(i,j) \\\n",
    "                for j in self.nodes()] for i in self.nodes()]\n",
    "        connected = _connected(mat)\n",
    "        return connected, mat\n",
    "    \n",
    "    def nodes(self):\n",
    "        '''return all nodes in the vtx dict'''\n",
    "        return list(self.vtx_dict.keys())\n",
    "\n",
    "    def edges(self, node):\n",
    "        '''return list of neighbors connected to node'''\n",
    "        # YOUR CODE HERE\n",
    "        raise NotImplementedError()\n",
    "        \n",
    "    def all_edges(self):\n",
    "        '''return a list of all unique edges'''\n",
    "        all_edges = set()\n",
    "        for edge_from in self.nodes():\n",
    "            for edge_to in self.edges(edge_from):\n",
    "                # add a tuple (edge_from, edge_to, weight) to the all edges set \n",
    "                all_edges.add((edge_from, edge_to, self.adj_dict[edge_from][edge_to]))\n",
    "        return list(all_edges)\n",
    "    \n",
    "    def get_edge_weight(self, node_a, node_b):\n",
    "        '''return the weight of edge node_a to _idB'''\n",
    "        return self.adj_dict.get(node_a).get(node_b, 0)\n",
    "    \n",
    "    def add_node(self, node_id, geom_props={}):\n",
    "        '''add a new node with given id to the graph'''\n",
    "        self.vtx_dict[node_id] = geom_props\n",
    "        self.adj_dict[node_id] = {}\n",
    "        return self\n",
    "    \n",
    "    def add_edge(self, node_a, node_b, weight = 1):\n",
    "        '''insert a new weighted edge node A to B'''\n",
    "        def _create_edge(node_a, node_b, weight = 1):\n",
    "            '''insert edge A to B, weight w in node dict A'''\n",
    "            node_a_connections = self.adj_dict[node_a]\n",
    "            node_a_connections.update({node_b:weight})\n",
    "            self.adj_dict.update({node_a:node_a_connections})\n",
    "        _create_edge(node_a, node_b, weight)\n",
    "        # depending on graph being directed or not, we also create ...\n",
    "        # YOUR CODE HERE\n",
    "        raise NotImplementedError()\n",
    "    \n",
    "    def remove_node(self, node_id):\n",
    "        '''remove node with given id and all its adjacent edges'''\n",
    "        connections = self.adj_dict[node_id]\n",
    "        for node_adj in set(connections):\n",
    "            del self.adj_dict[node_id][node_adj]\n",
    "            del self.adj_dict[node_adj][node_id]\n",
    "        del self.vtx_dict[node_id]\n",
    "        \n",
    "    def remove_edge(self, node_a, node_b):\n",
    "        '''del edge from node_a onto node_b from node A dict'''\n",
    "        del self.adj_dict[node_a][node_b]\n",
    "        # depending on graph being directed or not, we also del ...\n",
    "        # YOUR CODE HERE\n",
    "        raise NotImplementedError()\n",
    "        "
   ]
  },
  {
   "cell_type": "code",
   "execution_count": null,
   "metadata": {
    "deletable": false,
    "editable": false,
    "nbgrader": {
     "checksum": "32df4cc023866de6f189f5221788e198",
     "grade": true,
     "grade_id": "at_1_0_0",
     "locked": true,
     "points": 4,
     "schema_version": 1,
     "solution": false
    }
   },
   "outputs": [],
   "source": []
  },
  {
   "cell_type": "markdown",
   "metadata": {
    "deletable": false,
    "editable": false,
    "nbgrader": {
     "checksum": "f63b029aaf326cdda4f2fc2e9b5baa74",
     "grade": false,
     "grade_id": "q_1_1_0",
     "locked": true,
     "schema_version": 1,
     "solution": false
    }
   },
   "source": [
    "#### Task 1.1: create an undirected graph\n",
    "Complete the below dictionaries by adding nodes `'v6'` with position `x=2.5` and `y=0.5` and color red, and `'v7'` with position `x=3.5` and `y=0.5` with color pink. Then, add edges `'v6' to 'v0'` with weight `2`, to `'v2'` with weight `3`, to `'v6' to 'v4'` with weight `2`, and finally to `'v5'` with weight `1`. For `'v7'` add an edge `'v7' to 'v0'` with weight `1`. Does the order of nodes within an edge matter?"
   ]
  },
  {
   "cell_type": "code",
   "execution_count": null,
   "metadata": {
    "deletable": false,
    "nbgrader": {
     "checksum": "851d733d24cc91f7624905fce30ca1fa",
     "grade": false,
     "grade_id": "aa_1_1_0",
     "locked": false,
     "schema_version": 1,
     "solution": true
    }
   },
   "outputs": [],
   "source": [
    "# Task 1.1 code cell \n",
    "\n",
    "def make_graph():\n",
    "    ''' return the graph as in the above diagram'''\n",
    "\n",
    "    # geometry and appearance ...\n",
    "    vtx_dict = {\n",
    "        'v0': {'pos': [1.5,2.0], 'color': 'cyan'},\n",
    "        'v1': {'pos': [2.3,0.5], 'color': 'orange'},\n",
    "        'v2': {'pos': [3.0,1.5], 'color': 'orange'},\n",
    "        'v3': {'pos': [4.0,2.0], 'color': 'grey'},\n",
    "        'v4': {'pos': [2.5,3.0], 'color': 'orange'},\n",
    "        'v5': {'pos': [2.0,4.0], 'color': 'blue'},\n",
    "        # YOUR CODE HERE\n",
    "        raise NotImplementedError()\n",
    "    }\n",
    "\n",
    "    adj_dict = {\n",
    "        'v0': {'v1':2, 'v2':1, 'v6':2, 'v7':1},\n",
    "        'v1': {'v0':2},\n",
    "        'v2': {'v0':1, 'v3':1, 'v4':2, 'v6':3},\n",
    "        'v3': {'v2':1, 'v4':1},\n",
    "        'v4': {'v2':2, 'v3':1, 'v6':1},\n",
    "        'v5': {'v6':1},\n",
    "        # YOUR CODE HERE\n",
    "        raise NotImplementedError()\n",
    "    }\n",
    "    \n",
    "    # create `graph` from the dictionaries ...\n",
    "    # YOUR CODE HERE\n",
    "    raise NotImplementedError()\n",
    "\n",
    "    return graph\n",
    "\n",
    "def test_create_graph():\n",
    "    '''test creating a undirected graph'''\n",
    "    graph = make_graph()\n",
    "\n",
    "    # get all nodes and all edges of one of the nodes ...\n",
    "    nodes_in_graph = graph.nodes()\n",
    "    edges_node_v4  = graph.edges('v4')\n",
    "    all_edges      = graph.all_edges()\n",
    "\n",
    "    print(f'all the nodes in  graph: {str(nodes_in_graph):s}')\n",
    "    print(f'v4 has edges connecting: {str(edges_node_v4):s}')\n",
    "    print(f'all edges in the graph : {str(all_edges):s}')\n",
    "    \n",
    "test_create_graph()\n"
   ]
  },
  {
   "cell_type": "code",
   "execution_count": null,
   "metadata": {
    "deletable": false,
    "editable": false,
    "nbgrader": {
     "checksum": "42f903ae4ca60b180fa48e0ed24ebc62",
     "grade": true,
     "grade_id": "at_1_1_0",
     "locked": true,
     "points": 3,
     "schema_version": 1,
     "solution": false
    }
   },
   "outputs": [],
   "source": []
  },
  {
   "cell_type": "code",
   "execution_count": null,
   "metadata": {
    "deletable": false,
    "editable": false,
    "nbgrader": {
     "checksum": "3fd2de79db3b214f16165eb62fa676b7",
     "grade": true,
     "grade_id": "at_1_1_1",
     "locked": true,
     "points": 3,
     "schema_version": 1,
     "solution": false
    }
   },
   "outputs": [],
   "source": []
  },
  {
   "cell_type": "markdown",
   "metadata": {
    "deletable": false,
    "editable": false,
    "nbgrader": {
     "checksum": "85fc73cc70f59e7376fadae0880fa004",
     "grade": false,
     "grade_id": "q_1_2_0",
     "locked": true,
     "schema_version": 1,
     "solution": false
    }
   },
   "source": [
    "#### Task 1.2: plot the graph\n",
    "Plot the graph created using the below code"
   ]
  },
  {
   "cell_type": "code",
   "execution_count": null,
   "metadata": {
    "deletable": false,
    "nbgrader": {
     "checksum": "36d786c15481cc71db0378b0a13667c6",
     "grade": false,
     "grade_id": "aa_1_2_0",
     "locked": false,
     "schema_version": 1,
     "solution": true
    }
   },
   "outputs": [],
   "source": [
    "# if not working OK on your computer, change `qt` into `inline`\n",
    "%matplotlib inline\n",
    "\n",
    "# import module to plot graph ...\n",
    "from PlotGraph import plot_graph\n",
    "\n",
    "# also want a plot?\n",
    "DO_PLOT = True\n",
    "\n",
    "# make a graph using function `make_graph()` and plot it ...\n",
    "# YOUR CODE HERE\n",
    "raise NotImplementedError()\n",
    "\n",
    "# get edges for each source node and test if valid node ...\n",
    "for src_node in my_graph.adj_dict.keys():\n",
    "    edg_list = my_graph.edges( src_node )\n",
    "    for dest_node in edg_list:\n",
    "        assert dest_node in my_graph.adj_dict[src_node], 'edge (source-dest) not found in adj. dictionary'\n",
    "\n",
    "plot_graph(my_graph, 'my undirected Graph', DO_PLOT)"
   ]
  },
  {
   "cell_type": "code",
   "execution_count": null,
   "metadata": {
    "deletable": false,
    "editable": false,
    "nbgrader": {
     "checksum": "0c9a4e7f75d63f5220620f72eda8f862",
     "grade": true,
     "grade_id": "at_1_2_0",
     "locked": true,
     "points": 2,
     "schema_version": 1,
     "solution": false
    }
   },
   "outputs": [],
   "source": []
  },
  {
   "cell_type": "markdown",
   "metadata": {
    "deletable": false,
    "editable": false,
    "nbgrader": {
     "checksum": "4370c5a070767d0c223cae4b1202c27f",
     "grade": false,
     "grade_id": "q_1_3_0",
     "locked": true,
     "schema_version": 1,
     "solution": false
    }
   },
   "source": [
    "#### Task 1.3: add and remove nodes and edges\n",
    "Complete member function `Graph.add_edge()` and `Graph.remove_edge()`.  Run the below test program to verify your code. Next, finalize member functions  `Graph.add_node()`, function `Graph.remove_node()`. \n",
    "\n",
    "In the below code, ad or remove:\n",
    "\n",
    "* `add_edge('v1', 'v2', weight=2)`\n",
    "* `add_node('v8', {'pos': [1.4, 0.8], 'color': 'purple'})`\n",
    "* `add_edge('v8', 'v7', 3)`\n",
    "* `add_edge('v8', 'v1', 1)`\n",
    "* `remove_edge('v1', 'v2')`\n",
    "* `remove_node('v8')`\n",
    "\n",
    "Inspect the graph graphically in the plot created (make sure to inspect the right plot!)"
   ]
  },
  {
   "cell_type": "code",
   "execution_count": null,
   "metadata": {
    "deletable": false,
    "nbgrader": {
     "checksum": "aaee4cebae8acf72886447b22d0b2de9",
     "grade": false,
     "grade_id": "aa_1_3_0",
     "locked": false,
     "schema_version": 1,
     "solution": true
    }
   },
   "outputs": [],
   "source": [
    "# Task 1.3 code cell\n",
    "\n",
    "DO_PLOT = True\n",
    "\n",
    "def test_add_remove_nodes_edges():\n",
    "    '''test adding and removing nodes and edges'''\n",
    "    my_graph = make_graph()\n",
    "    \n",
    "    # add edge ('v1', 'v2', weight=2) ...\n",
    "    # YOUR CODE HERE\n",
    "    raise NotImplementedError()\n",
    "    # ... plot graph for inspection ...\n",
    "    plot_graph(my_graph, 'my undirected Graph with edge v1-v2 added', DO_PLOT)\n",
    "    \n",
    "    # add node ('v8', {'pos': [1.4, 0.8], 'color': 'purple'}) ...\n",
    "    # YOUR CODE HERE\n",
    "    raise NotImplementedError()\n",
    "    \n",
    "    # ... add edges ('v8', 'v7', 3) and ('v8', 'v1', 1)...\n",
    "    # YOUR CODE HERE\n",
    "    raise NotImplementedError()\n",
    "        \n",
    "    # ... plot the graph for inspection ...\n",
    "    plot_graph(my_graph, 'my undirected Graph with edge v1-v2 added, plus v8 added', DO_PLOT)\n",
    "    \n",
    "    # ... remove edge ('v1', 'v2') ...\n",
    "    # YOUR CODE HERE\n",
    "    raise NotImplementedError()\n",
    "        \n",
    "    # ... plot the graph for inspection ...\n",
    "    plot_graph(my_graph, 'my augmented undirected Graph with v8, v1-v2 removed', DO_PLOT)\n",
    "    \n",
    "    # ... remove node ('v8') ... (with all edge connected to it) ...\n",
    "    # YOUR CODE HERE\n",
    "    raise NotImplementedError()\n",
    "    \n",
    "    # ... plot the graph for inspection ...\n",
    "    plot_graph(my_graph, 'my original undirected Graph after removal of v8', DO_PLOT)\n",
    "\n",
    "test_add_remove_nodes_edges()"
   ]
  },
  {
   "cell_type": "code",
   "execution_count": null,
   "metadata": {
    "deletable": false,
    "editable": false,
    "nbgrader": {
     "checksum": "f48d012964f9e4137391875bb5899b09",
     "grade": true,
     "grade_id": "at_1_3_0",
     "locked": true,
     "points": 2,
     "schema_version": 1,
     "solution": false
    }
   },
   "outputs": [],
   "source": []
  },
  {
   "cell_type": "code",
   "execution_count": null,
   "metadata": {
    "deletable": false,
    "editable": false,
    "nbgrader": {
     "checksum": "a5cb2ed584a3e105cef03c6796c84482",
     "grade": true,
     "grade_id": "at_1_3_1",
     "locked": true,
     "points": 2,
     "schema_version": 1,
     "solution": false
    }
   },
   "outputs": [],
   "source": []
  },
  {
   "cell_type": "markdown",
   "metadata": {
    "deletable": false,
    "editable": false,
    "nbgrader": {
     "checksum": "8c87e4f367b724024c3fdd953bec831e",
     "grade": false,
     "grade_id": "q_1_4_1_0",
     "locked": true,
     "schema_version": 1,
     "solution": false
    }
   },
   "source": [
    "#### Task 1.4.1 connected adjacency matrix\n",
    "Finalize the inner function `_connected()` in `Graph.get_matrix()` function, that computes the graph's connectedness based on the adjacency matrix. Use the below test code to verify your results. Observe that the below test code prints the graph's matrix using `Graph.__str__()`, which prints a connected|unconnected flag below the matrix"
   ]
  },
  {
   "cell_type": "code",
   "execution_count": null,
   "metadata": {
    "deletable": false,
    "nbgrader": {
     "checksum": "55597a4a6156cec5344a26c487991d88",
     "grade": false,
     "grade_id": "aa_1_4_1_0",
     "locked": false,
     "schema_version": 1,
     "solution": true
    }
   },
   "outputs": [],
   "source": [
    "# Task 1.4.1 code cell\n",
    "def test_is_connected_matrix():\n",
    "    print('Test if graph is connected, by matrix analysis')\n",
    "\n",
    "    # make a new graph ...\n",
    "    my_graph = make_graph()\n",
    "    \n",
    "    # check the diagram: clearly connected ... let's check ...\n",
    "    connected0, matrix = my_graph.get_matrix()\n",
    "    print(f'graph adjacency matrix (connected (0): {connected0}); {str(my_graph):s}\\n')\n",
    "    assert connected0 == True, 'graph was unexpectedly found unconnected'\n",
    "    \n",
    "    # ... now remove edge v0-v6 ...\n",
    "    my_graph.remove_edge('v0', 'v6')\n",
    "    connected1, matrix = my_graph.get_matrix()\n",
    "    print(f'graph adjacency matrix (connected (1): {connected1}); {str(my_graph):s}\\n')\n",
    "    # ... graph should remain connected .... let's check ...\n",
    "    assert connected1 == True, 'graph unexpectedly found unconnected, after removing v0-v6'\n",
    "    \n",
    "    # ... now also remove v5-v6 ... \n",
    "    my_graph.remove_edge('v5', 'v6')\n",
    "    connected2, matrix = my_graph.get_matrix()\n",
    "    print(f'graph adjacency matrix (connected (2): {connected2}); {str(my_graph):s}\\n')\n",
    "    # assert the result to be correct, like above ...\n",
    "    # YOUR CODE HERE\n",
    "    raise NotImplementedError()\n",
    "    \n",
    "    # ... remove node v5 ...\n",
    "    my_graph.remove_node('v5')\n",
    "    connected3, matrix = my_graph.get_matrix()\n",
    "    print(f'graph adjacency matrix (connected (3): {connected3}); {str(my_graph):s}\\n')\n",
    "    # YOUR CODE HERE\n",
    "    raise NotImplementedError()\n",
    "    \n",
    "    # ... when arriving here ...\n",
    "    print('tests completed succesfully')\n",
    "    \n",
    "## run the test ...  \n",
    "test_is_connected_matrix()"
   ]
  },
  {
   "cell_type": "code",
   "execution_count": null,
   "metadata": {
    "deletable": false,
    "editable": false,
    "nbgrader": {
     "checksum": "f524448de168740845d773571d9a15f6",
     "grade": true,
     "grade_id": "at_1_4_1_0",
     "locked": true,
     "points": 2,
     "schema_version": 1,
     "solution": false
    }
   },
   "outputs": [],
   "source": []
  },
  {
   "cell_type": "code",
   "execution_count": null,
   "metadata": {
    "deletable": false,
    "editable": false,
    "nbgrader": {
     "checksum": "3401cd8ee5a7a3aeee63c5fe43d22e14",
     "grade": true,
     "grade_id": "at_1_4_1_1",
     "locked": true,
     "points": 2,
     "schema_version": 1,
     "solution": false
    }
   },
   "outputs": [],
   "source": []
  },
  {
   "cell_type": "markdown",
   "metadata": {
    "deletable": false,
    "editable": false,
    "nbgrader": {
     "checksum": "33aee04200c2f4bd82f461c708f81942",
     "grade": false,
     "grade_id": "q_1_4_2_0",
     "locked": true,
     "schema_version": 1,
     "solution": false
    }
   },
   "source": [
    "#### Task 1.4.2 connectedness form graph traversal\n",
    "Next, finalize the below static Boolean method function `Graph.connected()` to compute the graph being connected or not, by traversing it. Use the below test code to verify your implementation. Compare the results with the results in the previous test based on the adjacency matrix"
   ]
  },
  {
   "cell_type": "code",
   "execution_count": null,
   "metadata": {
    "deletable": false,
    "nbgrader": {
     "checksum": "7a0782e9de458e4c28e9e8a9c325eb7d",
     "grade": false,
     "grade_id": "aa_1_4_2_0",
     "locked": false,
     "schema_version": 1,
     "solution": true
    }
   },
   "outputs": [],
   "source": [
    "# Task 1.4.2 code cell\n",
    "\n",
    "class Graph(Graph):\n",
    "    \n",
    "    @staticmethod\n",
    "    def connected(graph, visited=None, start=None):\n",
    "        '''returns T|F graph connected'''\n",
    "        nodes = graph.nodes()\n",
    "        if visited is None:\n",
    "            visited = set()\n",
    "        if start is None:\n",
    "            # choose a starting point\n",
    "            start = nodes[0]\n",
    "        visited.add(start)\n",
    "        # as long as not yet done ...\n",
    "        if len(visited) != len(nodes):\n",
    "            # find all nbors i can visit ...\n",
    "            # ... if not yet visited ...\n",
    "            # ... recursively visit them ...\n",
    "            # ... ... and return if connected ...\n",
    "            # YOUR CODE HERE\n",
    "            raise NotImplementedError()\n",
    "        else:\n",
    "            # could visit all nodes ...\n",
    "            return True\n",
    "        # by here, we could not reach at least one node ...\n",
    "        return False\n",
    "\n",
    "    \n",
    "# --- test your code below ----------------------------------------------------------------\n",
    "\n",
    "def test_connectedness():\n",
    "    '''test the connected static function member'''\n",
    "    # use make graph from the previous question ...\n",
    "    my_graph = make_graph()\n",
    "    \n",
    "    # check the diagram: clearly connected ... let's check ...\n",
    "    assert Graph.connected(my_graph) == True, 'graph was unexpectedly found unconnected'\n",
    "    \n",
    "    # ... now remove edge v0-v6 ...\n",
    "    my_graph.remove_edge('v0', 'v6')\n",
    "    # ... graph should remain connected .... let's check ...\n",
    "    assert Graph.connected(my_graph) == True, 'graph unexpectedly found unconnected, after removing v0-v6'\n",
    "    \n",
    "    # ... now also remove v5-v6 ... \n",
    "    my_graph.remove_edge('v5', 'v6')\n",
    "    # assert below if the result is correct, like above ...\n",
    "    # YOUR CODE HERE\n",
    "    raise NotImplementedError()\n",
    "    \n",
    "    # ... remove node v5 ...\n",
    "    my_graph.remove_node('v5')\n",
    "    # assert below if the result is correct, like above ...\n",
    "    # YOUR CODE HERE\n",
    "    raise NotImplementedError()\n",
    "    \n",
    "    # ... when arriving here ...\n",
    "    print('tests completed succesfully')\n",
    "    \n",
    "test_connectedness()"
   ]
  },
  {
   "cell_type": "code",
   "execution_count": null,
   "metadata": {
    "deletable": false,
    "editable": false,
    "nbgrader": {
     "checksum": "d70b66975e46253f2eaab19ddf05a7a5",
     "grade": true,
     "grade_id": "at_1_4_2_0",
     "locked": true,
     "points": 2,
     "schema_version": 1,
     "solution": false
    }
   },
   "outputs": [],
   "source": []
  },
  {
   "cell_type": "code",
   "execution_count": null,
   "metadata": {
    "deletable": false,
    "editable": false,
    "nbgrader": {
     "checksum": "92797f4969fc6e59f8136f1dae39dc64",
     "grade": true,
     "grade_id": "at_1_4_2_1",
     "locked": true,
     "points": 2,
     "schema_version": 1,
     "solution": false
    }
   },
   "outputs": [],
   "source": []
  },
  {
   "cell_type": "markdown",
   "metadata": {
    "deletable": false,
    "editable": false,
    "nbgrader": {
     "checksum": "249b0c3a0a79c8f4ae5ee3fb6447b5da",
     "grade": false,
     "grade_id": "q_1_5_0",
     "locked": true,
     "schema_version": 1,
     "solution": false
    }
   },
   "source": [
    "#### Task 1.5: breadth-first searching a path\n",
    "Using the BFS path traversal functions (see the slides), implement a breadth-first search for a path from a *start* node to a *target* node, in static method `Graph.breadth_first_search()` below. Test your implementation using the below function `test_path_breadth_first()`. Do not change function or variable names in the skeleton code"
   ]
  },
  {
   "cell_type": "code",
   "execution_count": null,
   "metadata": {
    "deletable": false,
    "nbgrader": {
     "checksum": "0e020be8fdf3adedc397ae593909914c",
     "grade": false,
     "grade_id": "aa_1_5_0",
     "locked": false,
     "schema_version": 1,
     "solution": true
    }
   },
   "outputs": [],
   "source": [
    "# Task 1.5 code cell\n",
    "\n",
    "class Graph(Graph):\n",
    "    \n",
    "    @staticmethod\n",
    "    def breadth_first(graph, start, target):\n",
    "        '''return path from source to target, using BFS, none if not on graph'''\n",
    "        \n",
    "        def _initialize_bfs(graph, start = None):\n",
    "            '''return initial node properties and queue for BFS search'''\n",
    "            search_node_props = {}\n",
    "            for node in graph.nodes():\n",
    "                search_node_props[node] = {\n",
    "                    \"color\": \"white\",\n",
    "                    \"distance\": float('inf'),\n",
    "                    \"parent\": None\n",
    "                }\n",
    "            # set the color of the start node to \"gray\" ...\n",
    "            # ... the distance to 0 and the parent to None ...\n",
    "            # YOUR CODE HERE\n",
    "            raise NotImplementedError()\n",
    "            \n",
    "            # create a Q (a list) containing just the start node ...\n",
    "            # YOUR CODE HERE\n",
    "            raise NotImplementedError()\n",
    "\n",
    "            return search_node_props, Q\n",
    "        \n",
    "        def bfs(graph, start):\n",
    "            '''return nodes in start-to-target path, using BFS search'''\n",
    "            nodes, queue = _initialize_bfs(graph, start)\n",
    "            while queue:\n",
    "                # get start node from queue ...\n",
    "                u = queue.pop(0)\n",
    "                # ... try to add nodes v to path so far, from u ...\n",
    "                for v in graph.adj_dict.get(u).keys():\n",
    "                    if v not in ['pos']:\n",
    "                        if nodes[v][\"color\"] == \"white\":\n",
    "                            # ... update the properties ...\n",
    "                            nodes[v] = {\n",
    "                                \"color\":\"gray\",\n",
    "                                \"distance\": nodes[u][\"distance\"] + 1,\n",
    "                                \"parent\": u\n",
    "                            }\n",
    "                            # add it to the path so far ...\n",
    "                            queue.append(v)\n",
    "                # done with node u ... set its color \"black\" ...\n",
    "                # YOUR CODE HERE\n",
    "                raise NotImplementedError()\n",
    "                \n",
    "            return nodes\n",
    "\n",
    "        # bfs main part ...\n",
    "        nodes = bfs(graph, start)\n",
    "        current = target\n",
    "        path = []\n",
    "        # remember parent to be able to back-track ...\n",
    "        while nodes[current][\"parent\"]:\n",
    "            path.append(nodes[current][\"parent\"])\n",
    "            current = nodes[current][\"parent\"]\n",
    "        # rturn the path found ...\n",
    "        return path\n",
    "\n",
    "\n",
    "# --- TEST your code below ---------------------------------------------------------------------------------\n",
    "\n",
    "def test_path_breadth_first(start, target):\n",
    "    print('Test find path start-to-target breadth first')\n",
    "    \n",
    "    # make a new graph ...\n",
    "    my_graph = make_graph()\n",
    "\n",
    "    # find path start->target ...\n",
    "    # YOUR CODE HERE\n",
    "    raise NotImplementedError()\n",
    "    \n",
    "    # now print the entire path start->target...\n",
    "    path_as_string = ' -> '.join( list(reversed(path)) + list([ target ]) )\n",
    "    print(f'bfs path {start:s} --> {target:s} found: {path_as_string:s}')\n",
    "\n",
    "## run the test ...\n",
    "start, target =  ('v5', 'v1')\n",
    "test_path_breadth_first(start, target)"
   ]
  },
  {
   "cell_type": "code",
   "execution_count": null,
   "metadata": {
    "deletable": false,
    "editable": false,
    "nbgrader": {
     "checksum": "eec7e7512749f36c237b4751c47471cc",
     "grade": true,
     "grade_id": "at_1_5_0",
     "locked": true,
     "points": 1,
     "schema_version": 1,
     "solution": false
    }
   },
   "outputs": [],
   "source": []
  },
  {
   "cell_type": "code",
   "execution_count": null,
   "metadata": {
    "deletable": false,
    "editable": false,
    "nbgrader": {
     "checksum": "9cede9d8967ed2f0735f1f9490c054d6",
     "grade": true,
     "grade_id": "at_1_5_1",
     "locked": true,
     "points": 1,
     "schema_version": 1,
     "solution": false
    }
   },
   "outputs": [],
   "source": []
  },
  {
   "cell_type": "code",
   "execution_count": null,
   "metadata": {
    "deletable": false,
    "editable": false,
    "nbgrader": {
     "checksum": "4acb1795c414c88ef1f8d705e8c082df",
     "grade": true,
     "grade_id": "at_1_5_2",
     "locked": true,
     "points": 1,
     "schema_version": 1,
     "solution": false
    }
   },
   "outputs": [],
   "source": []
  },
  {
   "cell_type": "code",
   "execution_count": null,
   "metadata": {
    "deletable": false,
    "editable": false,
    "nbgrader": {
     "checksum": "58fafecfaee1306c235604b74ef58dc5",
     "grade": true,
     "grade_id": "at_1_5_3",
     "locked": true,
     "points": 1,
     "schema_version": 1,
     "solution": false
    }
   },
   "outputs": [],
   "source": []
  },
  {
   "cell_type": "markdown",
   "metadata": {
    "deletable": false,
    "editable": false,
    "nbgrader": {
     "checksum": "64c19b69795bb180298e16e964b1b2b4",
     "grade": false,
     "grade_id": "q_1_6_0",
     "locked": true,
     "schema_version": 1,
     "solution": false
    }
   },
   "source": [
    "#### Task 1.6: determine the minimum spanning tree using Kruskal\n",
    "In oder to implement Kruskal we need the following functionality:\n",
    "1. a list of nodes to be connected in a spanning tree\n",
    "2. a edge object and a priority queue to obtain the least-weight edges first\n",
    "3. a function to check if a cycle results when we insert a given edge\n",
    "4. a function to verify connectedness\n",
    "\n",
    "The functionality of 1. has already been implemented in the `class Graph`, as well as 4. Therefore, we will first do 2. and 3. and then implement the whole of Kruskal."
   ]
  },
  {
   "cell_type": "markdown",
   "metadata": {
    "deletable": false,
    "editable": false,
    "nbgrader": {
     "checksum": "cfb594afbd6ba4db172ed931ace83b65",
     "grade": false,
     "grade_id": "q_1_6_1_0",
     "locked": true,
     "schema_version": 1,
     "solution": false
    }
   },
   "source": [
    "#### Task 1.6.1 implement a class of edges that can be ordered by their weight\n",
    "Finalize the below `class EdgeTpl` we use to implement edge tuples like `('v0', 'v6', 2)` in a orderable way, so that the priority queue can keep them in heap-order, and pop them in increasing order of their weight. Key is to implement their comparison operators `EdgeTpl.__eq__()` and `EdgTpl.__lt__()`. After implementing these, Python is able to compute the result of operations like: `edge_tuple_1 == edge_tuple_2` and: `edge_tuple_1 < edge_tuple_2` for any pair of edge tuples `edge_tuple_1, edge_tuple_2`. We test them using Python's `sorted()` on a list, arguing that if that works, `EdgeTpl` objects can be ordered in the Priority Queue too"
   ]
  },
  {
   "cell_type": "code",
   "execution_count": null,
   "metadata": {
    "deletable": false,
    "nbgrader": {
     "checksum": "ccab3edfc19b45beb49077b7a0956b07",
     "grade": false,
     "grade_id": "aa_1_6_1_0",
     "locked": false,
     "schema_version": 1,
     "solution": true
    }
   },
   "outputs": [],
   "source": [
    "# Task 1.6.1 code cell\n",
    "\n",
    "class EdgeTpl(tuple):\n",
    "    \"\"\"implement a sortable edge tuple (id_a, id_b, weight)\"\"\"\n",
    "    \n",
    "    def __init__(self, edge_tuple):\n",
    "        super().__init__()\n",
    "        self.id_from, self.id_to, self.weight = edge_tuple\n",
    "        \n",
    "    def __str__(self):\n",
    "        return str((self.get_edge_id_from(), self.get_edge_id_to(), self.get_edge_weight()))\n",
    "    \n",
    "    def get_edge_id_from(self):\n",
    "        '''return the id of the edge's origin node'''\n",
    "        return self.id_from\n",
    "    \n",
    "    def get_edge_id_to(self):\n",
    "        '''return the id of the edge's destinaton node'''\n",
    "        return self.id_to\n",
    "    \n",
    "    def get_edge_weight(self):\n",
    "        '''return the edge weight'''\n",
    "        return self.weight\n",
    "\n",
    "    def __eq__(self, other):\n",
    "        '''return T|F self equal to other (true if equal weights)'''\n",
    "        # compute and specify the return of the __eq__() function member ...\n",
    "        # YOUR CODE HERE\n",
    "        raise NotImplementedError()\n",
    "    \n",
    "    def __lt__(self, other):\n",
    "        '''return T|F self < other (by weight)'''\n",
    "        # compute and specify the return of the __lt__() function member ...\n",
    "        # YOUR CODE HERE\n",
    "        raise NotImplementedError()\n",
    "    \n",
    "def test_EdgeTpl():\n",
    "    \"\"\"test class EdgeTpl\"\"\"\n",
    "    et_list = [\n",
    "        EdgeTpl( ('v1', 'v2', 7) ),\n",
    "        EdgeTpl( ('v2', 'v3', 2) ),\n",
    "        EdgeTpl( ('v3', 'v4', 1) ),\n",
    "        EdgeTpl( ('v4', 'v5', 6) ),\n",
    "        EdgeTpl( ('v5', 'v6', 3) ),\n",
    "        EdgeTpl( ('v6', 'v7', 3) ),\n",
    "        EdgeTpl( ('v7', 'v8', 0) ),\n",
    "        EdgeTpl( ('v8', 'v9', 2) )\n",
    "    ]\n",
    "    \n",
    "    # if this sort works, we can use expressions such as: \n",
    "    # EdgeTpl('v2', 'v4',3) < EdgeTpl('v4', 'v5',7) we not\n",
    "    # only use in the sort, but also need in the PriorityQueue ...\n",
    "    print(f'edge tuple list, in-order (sort key=weight);')\n",
    "    for et in sorted(et_list):\n",
    "        print(f'edge-tuple: {str(et):s}')\n",
    "\n",
    "test_EdgeTpl()"
   ]
  },
  {
   "cell_type": "code",
   "execution_count": null,
   "metadata": {
    "deletable": false,
    "editable": false,
    "nbgrader": {
     "checksum": "bcb2d535db5dba8c3551d7261fd0c076",
     "grade": true,
     "grade_id": "at_1_6_1_0",
     "locked": true,
     "points": 4,
     "schema_version": 1,
     "solution": false
    }
   },
   "outputs": [],
   "source": []
  },
  {
   "cell_type": "markdown",
   "metadata": {
    "deletable": false,
    "editable": false,
    "nbgrader": {
     "checksum": "5a8c628cdf8d82b49cba8363518740d2",
     "grade": false,
     "grade_id": "q_1_6_2_0",
     "locked": true,
     "schema_version": 1,
     "solution": false
    }
   },
   "source": [
    "#### Task 1.6.2 implement the Priority Queue\n",
    "Finalize the below class implementation of a priority queue that keeps weighted edges (`EdgeTpl` objects) in minimum-weight heap-order. To heapify, we import Python's `module heapq` and use that module's static methods `heapify()` and `heappop()` to implement and use the heap."
   ]
  },
  {
   "cell_type": "code",
   "execution_count": null,
   "metadata": {
    "deletable": false,
    "nbgrader": {
     "checksum": "980a10707060a0edf9d8fa7840f18558",
     "grade": false,
     "grade_id": "aa_1_6_2_0",
     "locked": false,
     "schema_version": 1,
     "solution": true
    }
   },
   "outputs": [],
   "source": [
    "import heapq\n",
    "\n",
    "class PrioQ(list):\n",
    "    \"\"\"implements a priority queue from a list\"\"\"\n",
    "    \n",
    "    def __init__(self, edge_tpl_list):\n",
    "        super().__init__(self)\n",
    "        self.extend(edge_tpl_list)\n",
    "        heapq.heapify( self )\n",
    "        \n",
    "    def __str__(self):\n",
    "        et_as_str = '\\n'.join([str(et) for et in self])\n",
    "        return '\\n' + et_as_str + '\\n'\n",
    "        \n",
    "    def empty(self):\n",
    "        ''' return T|F queue is empty'''\n",
    "        # YOUR CODE HERE\n",
    "        raise NotImplementedError()\n",
    "    \n",
    "    def dequeue(self):\n",
    "        '''return the next-in-order edge'''\n",
    "        edge_tpl = None\n",
    "        if not self.empty():\n",
    "            edge_tpl = heapq.heappop( self )\n",
    "        return edge_tpl\n",
    "            \n",
    "def test_PrioQ():\n",
    "    '''test PrioQ object'''\n",
    "    et_list = [\n",
    "        EdgeTpl( ('v1', 'v2', 7) ),\n",
    "        EdgeTpl( ('v2', 'v3', 2) ),\n",
    "        EdgeTpl( ('v3', 'v4', 1) ),\n",
    "        EdgeTpl( ('v4', 'v5', 6) ),\n",
    "        EdgeTpl( ('v5', 'v6', 3) ),\n",
    "        EdgeTpl( ('v6', 'v7', 3) ),\n",
    "        EdgeTpl( ('v7', 'v8', 0) ),\n",
    "        EdgeTpl( ('v8', 'v9', 2) )\n",
    "    ]\n",
    "    \n",
    "    # make PrioQ ...\n",
    "    # ... create a priority queue `pq` from the `et_list` ...\n",
    "    # YOUR CODE HERE\n",
    "    raise NotImplementedError()\n",
    "    \n",
    "    print(f'priority queue: {str(pq):s}')\n",
    "    \n",
    "    while not pq.empty():\n",
    "        print(f'next minimum weight in-order edge: {str(pq.dequeue()):s}')\n",
    "\n",
    "test_PrioQ()"
   ]
  },
  {
   "cell_type": "code",
   "execution_count": null,
   "metadata": {
    "deletable": false,
    "editable": false,
    "nbgrader": {
     "checksum": "62142490b38464ba6af12fc7218736e1",
     "grade": true,
     "grade_id": "at_1_6_2_0",
     "locked": true,
     "points": 4,
     "schema_version": 1,
     "solution": false
    }
   },
   "outputs": [],
   "source": []
  },
  {
   "cell_type": "markdown",
   "metadata": {
    "deletable": false,
    "editable": false,
    "nbgrader": {
     "checksum": "23cf45094be465ef09083122816d46c1",
     "grade": false,
     "grade_id": "q_1_6_3_0",
     "locked": true,
     "schema_version": 1,
     "solution": false
    }
   },
   "source": [
    "#### Task 1.6.3: test graph to contain a cycle\n",
    "A tree is a graph without any cycle. This also holds for a spanning tree. Finalize the below method `Graph.cyclic()` that examines the graph for being cyclic, i.e. containing one or more cycles."
   ]
  },
  {
   "cell_type": "code",
   "execution_count": null,
   "metadata": {
    "deletable": false,
    "nbgrader": {
     "checksum": "8de83ca5abfe3bc08269d4dda737685b",
     "grade": false,
     "grade_id": "aa_1_6_3_0",
     "locked": false,
     "schema_version": 1,
     "solution": true
    }
   },
   "outputs": [],
   "source": [
    "# Task 1.6.3 code cell\n",
    "\n",
    "class Graph(Graph):\n",
    "    \n",
    "    def cyclic(self):\n",
    "        '''return T|F graph contains cycle(s)'''\n",
    "        \n",
    "        def _contains_cycle(graph, queue, node, visited, parent):\n",
    "            '''return T|F cycle in sub-graph reacheable from node''' \n",
    "            # set current node visited  \n",
    "            visited.add(node)\n",
    "\n",
    "            #for all vertices adjacent to this node \n",
    "            for nbor in graph.adj_dict[node]: \n",
    "                # if not yet visited then check recursively for cycle ... \n",
    "                if nbor not in visited:\n",
    "                    # .. recursively check out the environment ...\n",
    "                    # ... with node as parent and nbor-not-visited as node ...\n",
    "                    if _contains_cycle(graph, queue, nbor, visited, node): \n",
    "                        # what to do if this evaluates to true?\n",
    "                        # YOUR CODE HERE\n",
    "                        raise NotImplementedError()\n",
    "                # if neighbor visited and not parent of current node: cycle!\n",
    "                elif parent != nbor: \n",
    "                    return True\n",
    "            # else no cycle\n",
    "            return False\n",
    "              \n",
    "        # set all vertices not visited\n",
    "        queue = self.nodes()\n",
    "        \n",
    "        # create an empty set `visited` in which we keep track \n",
    "        # of unique visited nodes ...\n",
    "        # YOUR CODE HERE\n",
    "        raise NotImplementedError()\n",
    "        \n",
    "        # detect cycle in different depth-first paths ... \n",
    "        for node in queue:\n",
    "            if not node in visited:\n",
    "                if _contains_cycle(self, queue, node, visited, None): \n",
    "                    return True\n",
    "        return False\n",
    "        \n",
    "# --- test your code below ----------------------------------------------------------------\n",
    "\n",
    "DO_PLOT = True\n",
    "\n",
    "def test_graph_cyclic():\n",
    "    '''test the connected static function member'''\n",
    "    # use make graph from the previous question ...\n",
    "    my_graph = make_graph()\n",
    "    \n",
    "    print('is my graph cyclic, i.e. does it contain any cycle?')\n",
    "    print(f'... initial graph ...  cyclic? {my_graph.cyclic()}')\n",
    "    \n",
    "    # remove v2-v4 ...\n",
    "    my_graph.remove_edge('v2', 'v4')\n",
    "    print(f'... removing v2-v4 ... cyclic? {my_graph.cyclic()}')\n",
    "    \n",
    "    # remove v2-v6 ...\n",
    "    my_graph.remove_edge('v2', 'v6')\n",
    "    print(f'... removing v2-v6 ... cyclic? {my_graph.cyclic()}')\n",
    "\n",
    "    # remove v4-v6 ...\n",
    "    my_graph.remove_edge('v4', 'v6')\n",
    "    print(f'... removing v4-v6 ... cyclic? {my_graph.cyclic()}')\n",
    "    \n",
    "    # ... plot the graph for inspection ...\n",
    "    plot_graph(my_graph, 'my Graph without cycles', DO_PLOT)\n",
    "    \n",
    "test_graph_cyclic()"
   ]
  },
  {
   "cell_type": "code",
   "execution_count": null,
   "metadata": {
    "deletable": false,
    "editable": false,
    "nbgrader": {
     "checksum": "b7fd04b465e223fb0bed53af7c801ea1",
     "grade": true,
     "grade_id": "at_1_6_3_0",
     "locked": true,
     "points": 2,
     "schema_version": 1,
     "solution": false
    }
   },
   "outputs": [],
   "source": []
  },
  {
   "cell_type": "code",
   "execution_count": null,
   "metadata": {
    "deletable": false,
    "editable": false,
    "nbgrader": {
     "checksum": "ad72747d67aede6f4430171dcc3cb1be",
     "grade": true,
     "grade_id": "at_1_6_3_1",
     "locked": true,
     "points": 2,
     "schema_version": 1,
     "solution": false
    }
   },
   "outputs": [],
   "source": []
  },
  {
   "cell_type": "markdown",
   "metadata": {
    "deletable": false,
    "editable": false,
    "nbgrader": {
     "checksum": "9df0a685ecadbf9ba67b4fd23f38ff59",
     "grade": false,
     "grade_id": "q_1_6_4_0",
     "locked": true,
     "schema_version": 1,
     "solution": false
    }
   },
   "source": [
    "#### Task 1.6.4 implement Kruskal\n",
    "finalize the below code skeleton `Graph.kruskal()` to implement the Kruskal algorithm for the minimum spanning tree. Verify your code using the below test code."
   ]
  },
  {
   "cell_type": "code",
   "execution_count": null,
   "metadata": {
    "deletable": false,
    "nbgrader": {
     "checksum": "6e60fe95e4e4a2a270d94c1261ff3995",
     "grade": false,
     "grade_id": "aa_1_6_4_0",
     "locked": false,
     "schema_version": 1,
     "solution": true
    }
   },
   "outputs": [],
   "source": [
    "#### Task 1.6.4; implement Kruskal\n",
    "\n",
    "class Graph(Graph):\n",
    "    \n",
    "    @staticmethod\n",
    "    def kruskal(graph):\n",
    "        '''return the minimum spanning tree version of this graph'''\n",
    "        \n",
    "        def _add_edge_without_cycle(graph, edge_to_insert):\n",
    "            '''add an edge if it would not create a cycle, return T|F added'''\n",
    "            added = True\n",
    "            # add it to see if it adds up to the MST ...\n",
    "            orig, dest, w = edge_to_insert\n",
    "            \n",
    "            # now add edge to the graph ...\n",
    "            # ... but only if not causing cyclicity ...\n",
    "            # ... HINT: add, then check for cyclicity, \n",
    "            #           if cyclic remove again ...\n",
    "            \n",
    "            # YOUR CODE HERE\n",
    "            raise NotImplementedError()\n",
    "            \n",
    "            return added\n",
    "    \n",
    "        # create the result graph with all the nodes to span ...\n",
    "        MST = Graph(directed=False)\n",
    "        # ... copy all nodal info but not the connections ...\n",
    "        for node, geom in graph.vtx_dict.items():\n",
    "            MST.add_node(node, geom)\n",
    "        \n",
    "        # create a priority queue of EdgeTpl ...\n",
    "        prio_queue = PrioQ( [EdgeTpl(edge) for edge in graph.all_edges()] )\n",
    "        \n",
    "        # now pop edges from the prioity queue ...\n",
    "        connected = False\n",
    "        while not (prio_queue.empty() or connected):\n",
    "            next_edge = prio_queue.dequeue()\n",
    "            # ... if not causing a cycle (tree!) ... add it to the MST ...\n",
    "            added = _add_edge_without_cycle(MST, next_edge)\n",
    "            # spanning tree done ? Cheaper: count edges ...\n",
    "            if Graph.connected(MST):\n",
    "                # we're done ...\n",
    "                connected = True\n",
    "                \n",
    "        # compute the MST weight from the adjacency matrix ...\n",
    "        # HINT: if undirected, weight is 2x specified in the dicts ...\n",
    "        # YOUR CODE HERE\n",
    "        raise NotImplementedError()\n",
    "        \n",
    "        return mst_weight, MST\n",
    "\n",
    "# --- test code -----------------------------------------------------\n",
    "\n",
    "DO_PLOT = True\n",
    "\n",
    "def test_kruskal_MST():\n",
    "    \n",
    "    print('Test minimum spanning tree using Kruskal')\n",
    "    \n",
    "    # make a new graph ...\n",
    "    my_graph = make_graph()\n",
    "    \n",
    "    # print the original graph ...\n",
    "    # ... plot the graph for inspection ...\n",
    "    plot_graph(my_graph, 'my Graph for Kruskal', DO_PLOT)\n",
    "    # ... print its matrix ...\n",
    "    print(f'full graph: {str(my_graph):s}')\n",
    "    \n",
    "    # ... find the MST plus its weight ...\n",
    "    # YOUR CODE HERE\n",
    "    raise NotImplementedError()\n",
    "    # ... plot the kruskal min spanning tree ...\n",
    "    title = f'Kruskal MST (weight: {mst_weight})'\n",
    "    plot_graph(mst_graph, title, DO_PLOT)\n",
    "    print(f'MST tree: {str(mst_graph):s}')\n",
    "\n",
    "## run the test ...\n",
    "test_kruskal_MST()  "
   ]
  },
  {
   "cell_type": "code",
   "execution_count": null,
   "metadata": {
    "deletable": false,
    "editable": false,
    "nbgrader": {
     "checksum": "e95593779d0572a526a347a80a0dd01d",
     "grade": true,
     "grade_id": "at_1_6_4_0",
     "locked": true,
     "points": 2,
     "schema_version": 1,
     "solution": false
    }
   },
   "outputs": [],
   "source": []
  },
  {
   "cell_type": "code",
   "execution_count": null,
   "metadata": {
    "deletable": false,
    "editable": false,
    "nbgrader": {
     "checksum": "30b996a9088b9e1bef633d554574c6b9",
     "grade": true,
     "grade_id": "at_1_6_4_1",
     "locked": true,
     "points": 2,
     "schema_version": 1,
     "solution": false
    }
   },
   "outputs": [],
   "source": []
  },
  {
   "cell_type": "markdown",
   "metadata": {
    "deletable": false,
    "editable": false,
    "nbgrader": {
     "checksum": "2061ff5ddbdf88d875519525224e60b2",
     "grade": false,
     "grade_id": "q_1_6_5_0",
     "locked": true,
     "schema_version": 1,
     "solution": false
    }
   },
   "source": [
    "#### Task 1.6.5: change the weight and check MST again\n",
    "Update the weight of edge `'v3'-'v4'` to `3` and run the same test again. What result would you expect? Verify this below."
   ]
  },
  {
   "cell_type": "code",
   "execution_count": null,
   "metadata": {
    "deletable": false,
    "nbgrader": {
     "checksum": "c88bf0ae1f90ce39c19b681446a8abb3",
     "grade": false,
     "grade_id": "aa_1_6_5_0",
     "locked": false,
     "schema_version": 1,
     "solution": true
    }
   },
   "outputs": [],
   "source": [
    "# Task 1.6.5 code cell\n",
    "\n",
    "edge_origin = 'v3'\n",
    "edge_destination = 'v4'\n",
    "edge_weight = 3\n",
    "\n",
    "def test_MST_with_modified_weights(orig, dest, new_weight):\n",
    "    '''test Kruskal with modified weights'''\n",
    "    \n",
    "    # start with a fresh graph (old settings will get lost!)\n",
    "    my_graph = make_graph()\n",
    "    \n",
    "    # update the weights using the above specified `edge_origin` etc. ...\n",
    "    my_graph.adj_dict[orig][dest] = new_weight\n",
    "    # what more to do for this undirected graph? \n",
    "    if not my_graph.directed:\n",
    "        # YOUR CODE HERE\n",
    "        raise NotImplementedError()\n",
    "    \n",
    "    # ... find the new MST ...\n",
    "    mst_weight, mst_graph = Graph.kruskal(my_graph)\n",
    "    # ... plot the kruskal min spanning tree ...\n",
    "    title = f'result of Kruskal MST with {edge_origin}-{edge_destination} set to {edge_weight} ' + \\\n",
    "        f'(weight={mst_weight})'\n",
    "    \n",
    "    plot_graph(mst_graph, title, DO_PLOT)\n",
    "    print(f'MST tree: {str(mst_graph):s}')\n",
    "\n",
    "test_MST_with_modified_weights(edge_origin, edge_destination, edge_weight)"
   ]
  },
  {
   "cell_type": "code",
   "execution_count": null,
   "metadata": {
    "deletable": false,
    "editable": false,
    "nbgrader": {
     "checksum": "d12ea6c49842d4dfcdbe7fbc59f4320e",
     "grade": true,
     "grade_id": "at_1_6_5_0",
     "locked": true,
     "points": 2,
     "schema_version": 1,
     "solution": false
    }
   },
   "outputs": [],
   "source": []
  },
  {
   "cell_type": "code",
   "execution_count": null,
   "metadata": {
    "deletable": false,
    "editable": false,
    "nbgrader": {
     "checksum": "b89a95aaa4c01ed43a5a41b61ae2b19a",
     "grade": true,
     "grade_id": "at_1_6_5_1",
     "locked": true,
     "points": 2,
     "schema_version": 1,
     "solution": false
    }
   },
   "outputs": [],
   "source": []
  },
  {
   "cell_type": "markdown",
   "metadata": {
    "deletable": false,
    "editable": false,
    "nbgrader": {
     "checksum": "dced79313b0f5235b5d37fe8b293b3cb",
     "grade": false,
     "grade_id": "q_2_1_0",
     "locked": true,
     "schema_version": 1,
     "solution": false
    }
   },
   "source": [
    "# Exercise 2: Directed Graph\n",
    "For this exercise, we use the same `class Graph`, but now we set `directed = True`. By here, you must have run the definition of `class Graph`\n",
    "\n",
    "#### Task 2.1: create a digraph\n",
    "Create a directed graph following the skeleton given below. Test the code using the below test function `test_create_digraph()` you will have to finish first"
   ]
  },
  {
   "cell_type": "code",
   "execution_count": null,
   "metadata": {
    "deletable": false,
    "nbgrader": {
     "checksum": "5ffcb15a8f6b04a3347ac3084022183a",
     "grade": false,
     "grade_id": "aa_2_1_0",
     "locked": false,
     "schema_version": 1,
     "solution": true
    }
   },
   "outputs": [],
   "source": [
    "# Task 2.1 code cell\n",
    "\n",
    "def make_digraph():\n",
    "    ''' return a digraph as specified'''\n",
    "\n",
    "    # geometry and appearance ...\n",
    "    vtx_dict = {\n",
    "        'v0': {'pos': [0.2,3.0], 'color': 'cyan'},\n",
    "        'v1': {'pos': [1.2,2.5], 'color': 'orange'},\n",
    "        'v2': {'pos': [2.7,3.6], 'color': 'orange'},\n",
    "        'v3': {'pos': [2.5,2.2], 'color': 'grey'},\n",
    "        'v4': {'pos': [1.1,1.2], 'color': 'orange'},\n",
    "        'v5': {'pos': [4.0,2.5], 'color': 'blue'},\n",
    "        'v6': {'pos': [4.5,1.6], 'color': 'red'},\n",
    "        'v7': {'pos': [5.0,3.5], 'color': 'pink'}\n",
    "    }\n",
    "\n",
    "    # graph topology ...\n",
    "    adj_dict = {\n",
    "      'v0': {'v1':4},\n",
    "      'v1': {'v2':2, 'v3':2},\n",
    "      'v2': {'v5':-2, 'v7':3},\n",
    "      'v3': {'v4':2, 'v5':3}, # can make this a negative cycle; set v3-v4->-2\n",
    "      'v4': {'v1':-1},\n",
    "      'v5': {'v6':4, 'v7':1},\n",
    "      'v6': {},\n",
    "      'v7': {'v6':1}\n",
    "    }\n",
    "\n",
    "    # create `digraph`, a directed graph ...\n",
    "    # YOUR CODE HERE\n",
    "    raise NotImplementedError()\n",
    "\n",
    "    return digraph\n",
    "\n",
    "\n",
    "def test_create_digraph():\n",
    "    '''test creating a undirected graph'''\n",
    "    digraph = make_digraph()\n",
    "\n",
    "    # get all nodes and all edges of one of the nodes ...\n",
    "    nodes_in_digraph = digraph.nodes()\n",
    "    edges_node_v4    = digraph.edges('v4')\n",
    "    all_edges        = digraph.all_edges()\n",
    "\n",
    "    print(f'all the nodes in digraph: {str(nodes_in_digraph):s}')\n",
    "    print(f'v4  has edges connecting: {str(edges_node_v4):s}')\n",
    "    print(f'all edges in the digraph: {str(all_edges):s}')\n",
    "    \n",
    "test_create_digraph()"
   ]
  },
  {
   "cell_type": "code",
   "execution_count": null,
   "metadata": {
    "deletable": false,
    "editable": false,
    "nbgrader": {
     "checksum": "d63b348f3d3e7e77828895955d5c9a24",
     "grade": true,
     "grade_id": "at_2_1_0",
     "locked": true,
     "points": 4,
     "schema_version": 1,
     "solution": false
    }
   },
   "outputs": [],
   "source": []
  },
  {
   "cell_type": "markdown",
   "metadata": {
    "deletable": false,
    "editable": false,
    "nbgrader": {
     "checksum": "ef46c7ca645eff76dc6230be7196df26",
     "grade": false,
     "grade_id": "q_2_2_0",
     "locked": true,
     "schema_version": 1,
     "solution": false
    }
   },
   "source": [
    "#### Task 2.2: print the adjacency matrix of the graph "
   ]
  },
  {
   "cell_type": "code",
   "execution_count": null,
   "metadata": {
    "deletable": false,
    "nbgrader": {
     "checksum": "3dcb5c580bffa9c4dc584c12eaaf8b21",
     "grade": false,
     "grade_id": "aa_2_2_0",
     "locked": false,
     "schema_version": 1,
     "solution": true
    }
   },
   "outputs": [],
   "source": [
    "def test_print_adjacency_matrix():\n",
    "    \n",
    "    print('directed graph adjacency matrix;')\n",
    "    \n",
    "    # implement code to print the adjacency matrix ...\n",
    "    # YOUR CODE HERE\n",
    "    raise NotImplementedError()\n",
    "    \n",
    "test_print_adjacency_matrix()"
   ]
  },
  {
   "cell_type": "code",
   "execution_count": null,
   "metadata": {
    "deletable": false,
    "editable": false,
    "nbgrader": {
     "checksum": "7f8b391339de6159d30899d55fcb3ae3",
     "grade": true,
     "grade_id": "at_2_2_0",
     "locked": true,
     "points": 2,
     "schema_version": 1,
     "solution": false
    }
   },
   "outputs": [],
   "source": []
  },
  {
   "cell_type": "code",
   "execution_count": null,
   "metadata": {
    "deletable": false,
    "editable": false,
    "nbgrader": {
     "checksum": "5d9c5fee7306b279cda93cfc6b90a452",
     "grade": true,
     "grade_id": "at_2_2_1",
     "locked": true,
     "points": 2,
     "schema_version": 1,
     "solution": false
    }
   },
   "outputs": [],
   "source": []
  },
  {
   "cell_type": "markdown",
   "metadata": {
    "deletable": false,
    "editable": false,
    "nbgrader": {
     "checksum": "d83765bd1e7f5038fdcc64b3d03ed7ed",
     "grade": false,
     "grade_id": "q_2_3_0",
     "locked": true,
     "schema_version": 1,
     "solution": false
    }
   },
   "source": [
    "#### Task 2.3: plot the directed graph \n",
    "Using the below code, plot the directed graph created"
   ]
  },
  {
   "cell_type": "code",
   "execution_count": null,
   "metadata": {
    "deletable": false,
    "nbgrader": {
     "checksum": "5bc054c83ff2691a4b5cfd8447b1555d",
     "grade": false,
     "grade_id": "aa_2_3_0",
     "locked": false,
     "schema_version": 1,
     "solution": true
    }
   },
   "outputs": [],
   "source": [
    "# Task 2.3 code cell\n",
    "\n",
    "%matplotlib inline\n",
    "\n",
    "from PlotGraph import plot_graph\n",
    "\n",
    "# also want a plot?\n",
    "DO_PLOT = True\n",
    "\n",
    "def test_plot_digraph():\n",
    "    '''test plotting the digraph'''\n",
    "    \n",
    "    # make a fresh `digraph` using function `make_digraph` and plot it ...\n",
    "    # YOUR CODE HERE\n",
    "    raise NotImplementedError()\n",
    "    \n",
    "test_plot_digraph()"
   ]
  },
  {
   "cell_type": "code",
   "execution_count": null,
   "metadata": {
    "deletable": false,
    "editable": false,
    "nbgrader": {
     "checksum": "bf37a40f7dbb3160988cc53c40d8f887",
     "grade": true,
     "grade_id": "at_2_3_0",
     "locked": true,
     "points": 4,
     "schema_version": 1,
     "solution": false
    }
   },
   "outputs": [],
   "source": []
  },
  {
   "cell_type": "markdown",
   "metadata": {
    "deletable": false,
    "editable": false,
    "nbgrader": {
     "checksum": "1f2c07bf55fa70e07f97c5fe301917eb",
     "grade": false,
     "grade_id": "q_2_4_0",
     "locked": true,
     "schema_version": 1,
     "solution": false
    }
   },
   "source": [
    "#### Task 2.4: Bellman-Ford single source all shortest path\n",
    "Finalize the below function method `Graph.bellman_ford()`. Verify your code using the below test code."
   ]
  },
  {
   "cell_type": "code",
   "execution_count": null,
   "metadata": {
    "deletable": false,
    "nbgrader": {
     "checksum": "135c110764e121ede60b2fa356faf814",
     "grade": false,
     "grade_id": "aa_2_4_0",
     "locked": false,
     "schema_version": 1,
     "solution": true
    }
   },
   "outputs": [],
   "source": [
    "# Task 2.4 code cell\n",
    "\n",
    "class Graph(Graph):\n",
    "    \n",
    "    def bellman_ford(self, src_node):\n",
    "        \"\"\"compute all shortest paths from source node in directed graph\"\"\"\n",
    "        \n",
    "        # step 1: initialize ...\n",
    "        nodes = self.nodes()\n",
    "        nr_nodes = len(nodes)\n",
    "        dist = {}\n",
    "        for node in nodes:\n",
    "            dist[node] = float(\"Inf\")\n",
    "        dist[src_node] = 0\n",
    "\n",
    "        # step 2: relaxation while cycling over increasing edge paths\n",
    "        for k in range(nr_nodes-1):\n",
    "            # if a shortest path turns out to exist using more edges,\n",
    "            # relax dist to node using this nr of edges ...\n",
    "            # (edges can be processed in any order)\n",
    "            for edge in self.all_edges():\n",
    "                edge_from, edge_to, edge_weight = edge\n",
    "                # relax edge, i.e., update with shorter path if possible ...\n",
    "                # YOUR CODE HERE\n",
    "                raise NotImplementedError()\n",
    "                    \n",
    "        # step 3: report if graph has negative weight cycle (true, if \n",
    "        #         even shortest path exists after this guaranteed min)\n",
    "        for k in range(nr_nodes-1):\n",
    "            # if a shortest path turns out to exist using more edges,\n",
    "            # relax dist to node using this nr of edges ...\n",
    "            for edge in self.all_edges():\n",
    "                edge_from, edge_to, edge_weight = edge\n",
    "                # if shorter path still possible, must be a negative cycle ...\n",
    "                # ... if so, set dist to destination node to `float(\"-Inf\")` ...\n",
    "                # YOUR CODE HERE\n",
    "                raise NotImplementedError()\n",
    "        return dist\n",
    "\n",
    "# --- Test code ------------------------------------------------------------------\n",
    "\n",
    "source = 'v0'\n",
    "\n",
    "def test_bellman_ford(src_node):\n",
    "    '''test the bellman-ford shortest paths'''\n",
    "    \n",
    "    # make a fresh graph ...\n",
    "    my_digraph = make_digraph()\n",
    "    \n",
    "    distances = my_digraph.bellman_ford(src_node)\n",
    "    print('\\nBellman - Ford all shortest paths;')\n",
    "    for node, dist in distances.items():\n",
    "        print(f'shortest distance from {src_node:s} to {node:s}: {dist:.0f}')\n",
    "    \n",
    "test_bellman_ford(source)"
   ]
  },
  {
   "cell_type": "code",
   "execution_count": null,
   "metadata": {
    "deletable": false,
    "editable": false,
    "nbgrader": {
     "checksum": "20f8fc8f21ae771a153a1bc4ca8a6714",
     "grade": true,
     "grade_id": "at_2_4_0",
     "locked": true,
     "points": 4,
     "schema_version": 1,
     "solution": false
    }
   },
   "outputs": [],
   "source": []
  },
  {
   "cell_type": "markdown",
   "metadata": {
    "deletable": false,
    "editable": false,
    "nbgrader": {
     "checksum": "ac143f3396e6c1f28a2995322656bb09",
     "grade": false,
     "grade_id": "q_2_5_0",
     "locked": true,
     "schema_version": 1,
     "solution": false
    }
   },
   "source": [
    "#### Task 2.5: check if graph has cycles\n",
    "Finalize the below code to report if `my_digraph` contains one or more cycle, so that the correct result is printed. Verify this using the above plot."
   ]
  },
  {
   "cell_type": "code",
   "execution_count": null,
   "metadata": {
    "deletable": false,
    "nbgrader": {
     "checksum": "e464959d065389720d48065c1baf5e44",
     "grade": false,
     "grade_id": "aa_2_5_0",
     "locked": false,
     "schema_version": 1,
     "solution": true
    }
   },
   "outputs": [],
   "source": [
    "# Task 2.5 code cell\n",
    "\n",
    "def test_for_cycle():\n",
    "    \n",
    "    my_digraph = make_digraph()\n",
    "\n",
    "    # assume no cycles ...\n",
    "    has_cycles = False\n",
    "    \n",
    "    # verify if has cycles ...\n",
    "    # YOUR CODE HERE\n",
    "    raise NotImplementedError()\n",
    "    \n",
    "    # print result\n",
    "    print(f'digraph has cycles? {has_cycles}')\n",
    "    \n",
    "    \n",
    "test_for_cycle()"
   ]
  },
  {
   "cell_type": "code",
   "execution_count": null,
   "metadata": {
    "deletable": false,
    "editable": false,
    "nbgrader": {
     "checksum": "76036fa9db9947567b66d2736d8f1bb2",
     "grade": true,
     "grade_id": "at_2_5_0",
     "locked": true,
     "points": 4,
     "schema_version": 1,
     "solution": false
    }
   },
   "outputs": [],
   "source": []
  },
  {
   "cell_type": "markdown",
   "metadata": {
    "deletable": false,
    "editable": false,
    "nbgrader": {
     "checksum": "e0f6f94d07695bfe286ace3f056ee922",
     "grade": false,
     "grade_id": "q_2_6_0",
     "locked": true,
     "schema_version": 1,
     "solution": false
    }
   },
   "source": [
    "#### Task 2.6: introduce a negative cycle in the graph\n",
    "Bellman-Ford can detect negative cycles; cycles that contribute to a negative growth of total path weight. Negative cycles are relevant for practical applications. When detected, Bellman-Ford sets the shortest path to "
   ]
  },
  {
   "cell_type": "code",
   "execution_count": null,
   "metadata": {
    "deletable": false,
    "nbgrader": {
     "checksum": "2e563066079e2c4f04db85f2b0f24c1e",
     "grade": false,
     "grade_id": "aa_2_6_0",
     "locked": false,
     "schema_version": 1,
     "solution": true
    }
   },
   "outputs": [],
   "source": [
    "# Task 2.6 code cell\n",
    "\n",
    "def test_negative_cycle(src_node, neg_edge):\n",
    "    '''test introduction of negative cycle'''\n",
    "    \n",
    "    # original graph\n",
    "    my_digraph = make_digraph()\n",
    "    \n",
    "    # stage 1 ... original graph ...\n",
    "    distances = my_digraph.bellman_ford(src_node)\n",
    "    print('\\nBellman - Ford, original graph;')\n",
    "    for node, dist in distances.items():\n",
    "        print(f'shortest distance from {src_node:s} to {node:s}: {dist:.0f}')\n",
    "    \n",
    "    # stage 2 ...\n",
    "    # ... now make a negative cycle with the below variables ...\n",
    "    # ... modify the weight with these values to create one ...\n",
    "    orig, dest, w = neg_edge\n",
    "    \n",
    "    # YOUR CODE HERE\n",
    "    raise NotImplementedError()\n",
    "    \n",
    "    distances = my_digraph.bellman_ford(src_node)\n",
    "    print('\\nBellman - Ford negative cycle;')\n",
    "    for node, dist in distances.items():\n",
    "        print(f'shortest distance from {src_node:s} to {node:s}: {dist:.0f}')\n",
    "    \n",
    "\n",
    "# specify a negative weight for edge 'v3'->'v4' ...\n",
    "neg_w_edge = ('v3', 'v4', -2)\n",
    "source     = 'v0'\n",
    "\n",
    "test_negative_cycle(source, neg_w_edge)"
   ]
  },
  {
   "cell_type": "code",
   "execution_count": null,
   "metadata": {
    "deletable": false,
    "editable": false,
    "nbgrader": {
     "checksum": "ae023c1f178717c0f6e83bb0ad832271",
     "grade": true,
     "grade_id": "at_2_6_0",
     "locked": true,
     "points": 4,
     "schema_version": 1,
     "solution": false
    }
   },
   "outputs": [],
   "source": []
  },
  {
   "cell_type": "markdown",
   "metadata": {
    "deletable": false,
    "editable": false,
    "nbgrader": {
     "checksum": "ee5da7739482861b2d8dc565c6eab61c",
     "grade": false,
     "grade_id": "q_2_7_0",
     "locked": true,
     "schema_version": 1,
     "solution": false
    }
   },
   "source": [
    "#### Task 2.7: repair the negative cycle with extra edge (1)\n",
    "We create the same negative cycle as in the previous task, but now add one extra edge `'v0' -> 'v'2'` with weight `1` to the graph, What will be the effect you think? Verify this using the below code."
   ]
  },
  {
   "cell_type": "code",
   "execution_count": null,
   "metadata": {
    "deletable": false,
    "nbgrader": {
     "checksum": "3c89102ac8812a7dc77d2b8a571d72b6",
     "grade": false,
     "grade_id": "aa_2_7_0",
     "locked": false,
     "schema_version": 1,
     "solution": true
    }
   },
   "outputs": [],
   "source": [
    "# Task 2.7 code cell\n",
    "\n",
    "def test_circumvent_cycle_1(src_node, neg_edge, xtra_edge):\n",
    "    '''test introduction of negative cycle'''\n",
    "    \n",
    "    # original graph\n",
    "    my_digraph = make_digraph()\n",
    "    \n",
    "    # stage 1 ...\n",
    "    distances = my_digraph.bellman_ford(src_node)\n",
    "    print('\\nBellman - Ford, original graph;')\n",
    "    for node, dist in distances.items():\n",
    "        print(f'shortest distance from {src_node:s} to {node:s}: {dist:.0f}')\n",
    "    \n",
    "    # stage 2 ...\n",
    "    # ... now make a negative cycle ...\n",
    "    orig, dest, w = neg_edge\n",
    "\n",
    "    # update the weight a specified ...\n",
    "    my_digraph.adj_dict[orig][dest] = w\n",
    "    \n",
    "    distances = my_digraph.bellman_ford(src_node)\n",
    "    print('\\nBellman - Ford negative cycle;')\n",
    "    for node, dist in distances.items():\n",
    "        print(f'shortest distance from {src_node:s} to {node:s}: {dist:.0f}')\n",
    "        \n",
    "    # stage 3 ...\n",
    "    # ... add the extra edge ...\n",
    "    orig, dest, w = xtra_edge\n",
    "    my_digraph.add_edge(orig, dest, w)\n",
    "    distances = my_digraph.bellman_ford(src_node)\n",
    "    print('\\nBellman - Ford edge v0->v2 (weight=1) added;')\n",
    "    for node, dist in distances.items():\n",
    "        print(f'shortest distance from {src_node:s} to {node:s}: {dist:.0f}')\n",
    "        \n",
    "    # plot it as a directed graph ...\n",
    "    plot_graph(my_digraph, 'my modified directed Graph (1)', DO_PLOT)\n",
    "\n",
    "# specify a negative weight for edge 'v3'->'v4' ...\n",
    "neg_w_edge  = ('v3', 'v4', -2)\n",
    "# ... add an extra edge `edge_to_add` to add to the digraph ...\n",
    "# YOUR CODE HERE\n",
    "raise NotImplementedError()\n",
    "source      = 'v0'\n",
    "\n",
    "test_circumvent_cycle_1(source, neg_w_edge, edge_to_add)"
   ]
  },
  {
   "cell_type": "code",
   "execution_count": null,
   "metadata": {
    "deletable": false,
    "editable": false,
    "nbgrader": {
     "checksum": "7cc4b5b2bce8c6bedad1d0bdd10b20ba",
     "grade": true,
     "grade_id": "at_2_7_0",
     "locked": true,
     "points": 4,
     "schema_version": 1,
     "solution": false
    }
   },
   "outputs": [],
   "source": []
  },
  {
   "cell_type": "markdown",
   "metadata": {
    "deletable": false,
    "editable": false,
    "nbgrader": {
     "checksum": "812f3044bcb7d48dfe1f78b09d3545c4",
     "grade": false,
     "grade_id": "q_2_8_0",
     "locked": true,
     "schema_version": 1,
     "solution": false
    }
   },
   "source": [
    "#### Task 2.8: repair the negative cycle with extra edge (2)\n",
    "We create the same negative cycle as in the previous task, and add one extra edge `'v0' -> 'v'2'` with weight `1` to the graph. In addition, we remove edge `('v1', 'v2')` and `('v5', 'v7')`. What will be the effect you think? Verify this using the below code. What if you set the weight in `'v0' -> 'v'2'` to `-2`? Can you explain?"
   ]
  },
  {
   "cell_type": "code",
   "execution_count": null,
   "metadata": {
    "deletable": false,
    "nbgrader": {
     "checksum": "6625404a120f756b6b14f8dfe017174c",
     "grade": false,
     "grade_id": "aa_2_8_0",
     "locked": false,
     "schema_version": 1,
     "solution": true
    }
   },
   "outputs": [],
   "source": [
    "# Task 2.8 code cell\n",
    "\n",
    "def test_circumvent_cycle_2(src_node, neg_edge, xtra_edge, out_edge_1, out_edge_2):\n",
    "    '''test introduction of negative cycle'''\n",
    "    \n",
    "    # original graph\n",
    "    my_digraph = make_digraph()\n",
    "    \n",
    "    # stage 1 ...\n",
    "    distances = my_digraph.bellman_ford(src_node)\n",
    "    print('\\nBellman - Ford, original graph;')\n",
    "    for node, dist in distances.items():\n",
    "        print(f'shortest distance from {src_node:s} to {node:s}: {dist:.0f}')\n",
    "    \n",
    "    # stage 2 ...\n",
    "    # ... now make a negative cycle ...\n",
    "    orig, dest, w = neg_edge\n",
    "\n",
    "    # update the weight a specified ...\n",
    "    my_digraph.adj_dict[orig][dest] = w\n",
    "    \n",
    "    distances = my_digraph.bellman_ford(src_node)\n",
    "    print('\\nBellman - Ford negative cycle;')\n",
    "    for node, dist in distances.items():\n",
    "        print(f'shortest distance from {src_node:s} to {node:s}: {dist:.0f}')\n",
    "        \n",
    "    # stage 3 ...\n",
    "    # ... add the extra edge ...\n",
    "    orig, dest, w = xtra_edge\n",
    "    my_digraph.add_edge(orig, dest, w)\n",
    "    # remove the two edges `out_edge_1`, `out_edge_2` (cancelling \n",
    "    # the path over the negative cycle) ...\n",
    "    # YOUR CODE HERE\n",
    "    raise NotImplementedError()\n",
    "    distances = my_digraph.bellman_ford(src_node)\n",
    "    print('\\nBellman - Ford edge v0->v2 (weight=1) added;')\n",
    "    for node, dist in distances.items():\n",
    "        print(f'shortest distance from {src_node:s} to {node:s}: {dist:.0f}')\n",
    "        \n",
    "    # plot it as a directed graph ...\n",
    "    plot_graph(my_digraph, 'my modified directed Graph (2)', DO_PLOT)\n",
    "\n",
    "# specify a negative weight for edge 'v3'->'v4' ...\n",
    "neg_w_edge  = ('v3', 'v4', -2)\n",
    "edge_to_add = ('v0', 'v2',  1)\n",
    "\n",
    "# specify two edges `edge_out_1` and `edge_out_2` \n",
    "# to remove from the digraph (see Task) ...\n",
    "# YOUR CODE HERE\n",
    "raise NotImplementedError()\n",
    "\n",
    "source      = 'v0'\n",
    "\n",
    "test_circumvent_cycle_2(source, neg_w_edge, edge_to_add, edge_out_1, edge_out_2)"
   ]
  },
  {
   "cell_type": "code",
   "execution_count": null,
   "metadata": {
    "deletable": false,
    "editable": false,
    "nbgrader": {
     "checksum": "27a26d587949fb4d18ddb8d7ccf9040f",
     "grade": true,
     "grade_id": "at_2_8_0",
     "locked": true,
     "points": 4,
     "schema_version": 1,
     "solution": false
    }
   },
   "outputs": [],
   "source": []
  },
  {
   "cell_type": "markdown",
   "metadata": {},
   "source": [
    "# Done"
   ]
  }
 ],
 "metadata": {
  "kernelspec": {
   "display_name": "Python 3",
   "language": "python",
   "name": "python3"
  },
  "language_info": {
   "codemirror_mode": {
    "name": "ipython",
    "version": 3
   },
   "file_extension": ".py",
   "mimetype": "text/x-python",
   "name": "python",
   "nbconvert_exporter": "python",
   "pygments_lexer": "ipython3",
   "version": "3.6.6"
  },
  "latex_envs": {
   "LaTeX_envs_menu_present": true,
   "autoclose": false,
   "autocomplete": true,
   "bibliofile": "biblio.bib",
   "cite_by": "apalike",
   "current_citInitial": 1,
   "eqLabelWithNumbers": true,
   "eqNumInitial": 1,
   "hotkeys": {
    "equation": "Ctrl-E",
    "itemize": "Ctrl-I"
   },
   "labels_anchors": false,
   "latex_user_defs": false,
   "report_style_numbering": false,
   "user_envs_cfg": false
  }
 },
 "nbformat": 4,
 "nbformat_minor": 2
}
