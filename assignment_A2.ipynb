{
 "cells": [
  {
   "cell_type": "code",
   "execution_count": 1,
   "metadata": {},
   "outputs": [
    {
     "data": {
      "text/html": [
       "\n",
       "<style>\n",
       "    /*TU color table */\n",
       "    :root {\n",
       "      --tu-black:        rgb(0,0,0);\n",
       "      --tu-white:        rgb(255,255,255);\n",
       "      --tu-cyan:         rgb(0,166,214);\n",
       "      --tu-green:        rgb(165,202,26);\n",
       "      --tu-yellow:       rgb(225,196,0);\n",
       "      --tu-orange:       rgb(230,70,22);\n",
       "      --tu-red:          rgb(225,26,26);\n",
       "      --tu-purple:       rgb(109,23,127);\n",
       "      --tu-slategreen:   rgb(107,134,137);\n",
       "      --tu-turqoise:     rgb(0,136,145);\n",
       "      --tu-darkblue:     rgb(29,28,115);\n",
       "      --tu-skyblue:      rgb(110,187,213);\n",
       "    }\n",
       "    h2, h3, h4 {\n",
       "        background-color: var(--tu-white);\n",
       "        color: var(--tu-cyan);\n",
       "    }\n",
       "    h1 {\n",
       "        background-color: var(--tu-cyan);\n",
       "        color: var(--tu-white);\n",
       "    }\n",
       "    em {\n",
       "        color: var(--tu-cyan);\n",
       "    }\n",
       "     \n",
       "    div.output_stdout {\n",
       "        background-color: var(--tu-green);\n",
       "        color: var(--tu-black);\n",
       "    }\n",
       "    div.output_stdout:before {\n",
       "        content: \"stdout output;\";\n",
       "    }\n",
       "    div.output_stderr {\n",
       "        background-color: var(--tu-yellow);\n",
       "        color: var(--tu-black);\n",
       "    }\n",
       "    div.output_stderr:before {\n",
       "        content: \"stderr output;\";\n",
       "    }\n",
       "</style>\n",
       "<script>\n",
       "    code_show=true; \n",
       "    IPython.OutputArea.prototype._should_scroll = function(lines) {\n",
       "        return false;\n",
       "    }\n",
       "    function code_toggle() {\n",
       "        if (code_show){\n",
       "            $('div.cell.code_cell.rendered.selected div.input').hide();\n",
       "        } else {\n",
       "            $('div.cell.code_cell.rendered.selected div.input').show();\n",
       "        }\n",
       "        code_show = !code_show\n",
       "    }     \n",
       "    $( document ).ready(code_toggle);\n",
       "</script>\n",
       "<a href=\"javascript:code_toggle()\"><h4>Notebook settings</h4></a>\n"
      ],
      "text/plain": [
       "<IPython.core.display.HTML object>"
      ]
     },
     "metadata": {},
     "output_type": "display_data"
    }
   ],
   "source": [
    "# @hidden_cell\n",
    "\"\"\" Bart Gerritsen, Oct 2018:\n",
    "\n",
    "Note: for safety and robustness, styles and script are contained inside\n",
    "      the Notebook rather than in external *.css and *.js files\n",
    "\"\"\"      \n",
    "from IPython.core.display import HTML\n",
    "from IPython.display import display\n",
    "tag = HTML('''\n",
    "<style>\n",
    "    /*TU color table */\n",
    "    :root {\n",
    "      --tu-black:        rgb(0,0,0);\n",
    "      --tu-white:        rgb(255,255,255);\n",
    "      --tu-cyan:         rgb(0,166,214);\n",
    "      --tu-green:        rgb(165,202,26);\n",
    "      --tu-yellow:       rgb(225,196,0);\n",
    "      --tu-orange:       rgb(230,70,22);\n",
    "      --tu-red:          rgb(225,26,26);\n",
    "      --tu-purple:       rgb(109,23,127);\n",
    "      --tu-slategreen:   rgb(107,134,137);\n",
    "      --tu-turqoise:     rgb(0,136,145);\n",
    "      --tu-darkblue:     rgb(29,28,115);\n",
    "      --tu-skyblue:      rgb(110,187,213);\n",
    "    }\n",
    "    h2, h3, h4 {\n",
    "        background-color: var(--tu-white);\n",
    "        color: var(--tu-cyan);\n",
    "    }\n",
    "    h1 {\n",
    "        background-color: var(--tu-cyan);\n",
    "        color: var(--tu-white);\n",
    "    }\n",
    "    em {\n",
    "        color: var(--tu-cyan);\n",
    "    }\n",
    "     \n",
    "    div.output_stdout {\n",
    "        background-color: var(--tu-green);\n",
    "        color: var(--tu-black);\n",
    "    }\n",
    "    div.output_stdout:before {\n",
    "        content: \"stdout output;\";\n",
    "    }\n",
    "    div.output_stderr {\n",
    "        background-color: var(--tu-yellow);\n",
    "        color: var(--tu-black);\n",
    "    }\n",
    "    div.output_stderr:before {\n",
    "        content: \"stderr output;\";\n",
    "    }\n",
    "</style>\n",
    "<script>\n",
    "    code_show=true; \n",
    "    IPython.OutputArea.prototype._should_scroll = function(lines) {\n",
    "        return false;\n",
    "    }\n",
    "    function code_toggle() {\n",
    "        if (code_show){\n",
    "            $('div.cell.code_cell.rendered.selected div.input').hide();\n",
    "        } else {\n",
    "            $('div.cell.code_cell.rendered.selected div.input').show();\n",
    "        }\n",
    "        code_show = !code_show\n",
    "    }     \n",
    "    $( document ).ready(code_toggle);\n",
    "</script>\n",
    "<a href=\"javascript:code_toggle()\"><h4>Notebook settings</h4></a>\n",
    "''')\n",
    "display(tag)"
   ]
  },
  {
   "cell_type": "markdown",
   "metadata": {
    "deletable": false,
    "editable": false,
    "nbgrader": {
     "checksum": "1cf7b55c7d8a73830f5cd3ea78c53998",
     "grade": false,
     "grade_id": "hdr_0_0_0",
     "locked": true,
     "schema_version": 1,
     "solution": false
    }
   },
   "source": [
    "<header>\n",
    "    <div style=\"overflow: auto;\">\n",
    "        <img src=\"./figures/TUDelft.jpg\" style=\"float: left;\" />\n",
    "        <img src=\"./figures/DUT_Flame.png\" style=\"float: right; width: 100px;\" />\n",
    "    </div>\n",
    "    <div style=\"text-align: center;\">\n",
    "        <h2>Assignment A2: Binary Search Tree, Heap and Priority Queue (Python3)</h2>\n",
    "        <h6>&copy; 2019, Bart Gerritsen, TU Delft.</h6>\n",
    "    </div>\n",
    "    <br>\n",
    "    <br>\n",
    "</header>"
   ]
  },
  {
   "cell_type": "markdown",
   "metadata": {
    "deletable": false,
    "editable": false,
    "nbgrader": {
     "checksum": "e1d5bc223ffb0b545a95a20552d2efdb",
     "grade": false,
     "grade_id": "instr_0_0_0",
     "locked": true,
     "schema_version": 1,
     "solution": false
    }
   },
   "source": [
    "# Introduction <a class=\"anchor\" id=\"introduction\"/>\n",
    "Below, you find **Assignment A2**, a 2-student team assignment, for which the team has exactly 2 weeks. For this assignment, 80 points can be scored altogether, assigning you a grade 8. During the assessment of you work, all team members should be able to explain, demo the work handed in, and answer background questions. During the assessment, you can raise your grade to a 10. On the other hand, assessors may lower the grade or even disqualify your work, in case your understanding of your own work appears poor or insufficient. In case of fraud, assessors will report this to the course responsible, without assinging a grade at all.    \n",
    "\n",
    "Do **not** Run-all ```|>|>``` , as there are some long tasks in this Notebook. Start at the top and run cell-by-cell, advancing downwards."
   ]
  },
  {
   "cell_type": "markdown",
   "metadata": {
    "deletable": false,
    "editable": false,
    "nbgrader": {
     "checksum": "4f8e3b6bbec675209e1d94149ae62c57",
     "grade": false,
     "grade_id": "instr_0_0_1",
     "locked": true,
     "schema_version": 1,
     "solution": false
    }
   },
   "source": [
    "## Overview of this assignment\n",
    "\n",
    "The purpose of this assignment is to make you familiar with implementing a data structure in Python in an object oriented way. During the lectures, you were presented pseudo code of different basic data structures. Now we expect you to implement one of these structures yourself.\n",
    "\n",
    "To make it clear what is needed, we will provide you with the following (skeletons of) classes: \n",
    "\n",
    "1. `class BSTNode` \n",
    "2. `class Heap`\n",
    "3. `class PriorityQueue`\n",
    "4. `class ServiceTicket`\n",
    "5. `class PriorityQueueWithHeap`\n",
    "\n",
    "These classes are just templates (skeletons), with incompletely implemented code, empty methods, etc. and your assignment is to come up with an implementation of these parts, so that the questions asked and the tasks assigned can be answered and demonstrated with running code."
   ]
  },
  {
   "cell_type": "markdown",
   "metadata": {
    "deletable": false,
    "editable": false,
    "nbgrader": {
     "checksum": "4ba018a9569ba1b131a62f09d4a8f009",
     "grade": false,
     "grade_id": "intro_1",
     "locked": true,
     "schema_version": 1,
     "solution": false
    }
   },
   "source": [
    "# Exercise 1: implement a Binary Search Tree\n",
    "An $N$-node binary search tree is a binary tree in which nodes are ordered, thus providing $\\mathcal{O}(log~N)$ time complexity searching on average. Below is a template to implement a binary search tree using `class BSTNode`. In `class BSTNode`, every instance has `left`, a `right`, and a `data` field. \n",
    "\n",
    "To make you assignment easier, we provide you with an support `class BSTPrinter`, that can print the structure or the nodes of a BST in text, like demonstrated below. What the printer will print is the left diagram; you read this diagram as if it were the right disagram, with lines and boxes. You can call the *BSTPrinter* whenever you want, providing it just with a BST and an optional header you want to see printed.\n",
    "\n",
    "On the other hand, you are expected to understand the concept of a static method (see [here](https://www.journaldev.com/18722/python-static-method) or [here](https://pythonbasics.org/static-method/)) before you start with this assignment.\n",
    "\n",
    "<img width=\"760\" src=\"./figures/bst_tree_print-int2.png\"/>"
   ]
  },
  {
   "cell_type": "code",
   "execution_count": 2,
   "metadata": {
    "deletable": false,
    "nbgrader": {
     "checksum": "d865c2975ecaa08627c2df141f4b9d1a",
     "grade": false,
     "grade_id": "q_1_0_1",
     "locked": false,
     "schema_version": 1,
     "solution": true
    }
   },
   "outputs": [],
   "source": [
    "class BSTNode:\n",
    "    \n",
    "    @staticmethod\n",
    "    def find(root, parent, key):\n",
    "        \"\"\"return node with key given and its parent, or None if not found\"\"\"\n",
    "        if str(root) == key:\n",
    "            return root, None\n",
    "        \n",
    "        if key < str(root):\n",
    "            if root.left == None:\n",
    "                return None, None\n",
    "            elif str(root.left) == key:\n",
    "                return root.left, root\n",
    "            else:\n",
    "                return BSTNode.find(root.left, root , key)\n",
    "        else:\n",
    "            if root.right == None:\n",
    "                return None, None\n",
    "            elif str(root.right) == key:\n",
    "                return root.right, root\n",
    "            else:\n",
    "                return BSTNode.find(root.right, root, key)\n",
    "    \n",
    "    @staticmethod\n",
    "    def height(tree):\n",
    "        if not tree.left == None and not tree.right == None:\n",
    "            return max(BSTNode.height(tree.left),BSTNode.height(tree.right)) + 1\n",
    "        if tree.left == None and not tree.right == None:\n",
    "            return BSTNode.height(tree.right)+1\n",
    "        if tree.right == None and not tree.left == None:\n",
    "            return BSTNode.height(tree.left)+1\n",
    "        return 1 #empty tree (only root), with height 1\n",
    "    \n",
    "    @staticmethod    \n",
    "    def print_BSTNode(BSTNode):\n",
    "        \"\"\"visitor function printing nodal data\"\"\"\n",
    "        print(f'{str(BSTNode):s}', end= ' ')\n",
    "\n",
    "    # --------------------------\n",
    "      \n",
    "    def __init__(self, data):\n",
    "        self.data = data\n",
    "        self.left = None\n",
    "        self.right = None\n",
    "\n",
    "    def __str__(self):\n",
    "        \"\"\"return nodal data\"\"\"\n",
    "        return self.data\n",
    "    \n",
    "    \n",
    "    def child_count(self):\n",
    "        \"\"\"return nr of chldren\"\"\"\n",
    "        count = 0\n",
    "        if self.left is not None:\n",
    "            count += 1\n",
    "        if self.right is not None:\n",
    "            count += 1\n",
    "        return count\n",
    " \n",
    "\n",
    "    def insert(self, data):\n",
    "        \"\"\"insert data in binary tree\"\"\"\n",
    "        if data < str(self):\n",
    "            if self.left == None:\n",
    "                self.left = BSTNode(data)\n",
    "            else:\n",
    "                self.left.insert(data)\n",
    "        else:\n",
    "            if self.right == None:\n",
    "                self.right = BSTNode(data)\n",
    "            else:\n",
    "                self.right.insert(data)\n",
    "            \n",
    "\n",
    "        \n",
    "    def delete(self, key):\n",
    "        \"\"\"delete BSTNode with key given. Return T|F succesfully deleted\"\"\"\n",
    "        \n",
    "        # aux functions for delete ...\n",
    "        def _delete_leaf(node, parent):\n",
    "            \"\"\"delete a leaf node with 0 children\"\"\"\n",
    "            if str(node) < str(parent):\n",
    "                parent.left = None\n",
    "                return True\n",
    "            elif str(node) > str(parent):\n",
    "                parent.right = None\n",
    "                return True\n",
    "            return False\n",
    "        \n",
    "        def _delete_one(node, parent):\n",
    "            \"\"\"delete a node with 1 child. Return T|F succesfully deleted\"\"\"\n",
    "            childNode = node.left if (node.right is None) else node.right\n",
    "            \n",
    "            if str(node) < str(parent):\n",
    "                parent.left = childNode\n",
    "                return True\n",
    "            elif str(node) > str(parent):\n",
    "                parent.right = childNode\n",
    "                return True\n",
    "            return False       \n",
    "        \n",
    "        def _delete_two(node, parent=None):\n",
    "            \"\"\"delete a node with two subtrees. Return T|F succesfully deleted\"\"\"\n",
    "            \n",
    "            def _find_successor(node, parent=None):\n",
    "                \"\"\"return successor and parent of successor\"\"\"\n",
    "                parent_succ, succ = node, node.right\n",
    "                while not succ.left is None:\n",
    "                    parent_succ, succ = succ, succ.left                \n",
    "                return succ, parent_succ\n",
    "                    \n",
    "            # we are always finding a successor ...\n",
    "            succ, parent_succ = _find_successor(node, parent)\n",
    "            \n",
    "            # now copy the data ... \n",
    "            copy = succ.data\n",
    "            \n",
    "            # delete the successor\n",
    "            parent_succ.delete(succ.data)\n",
    "            \n",
    "            # ...and put the copy in the void spot \n",
    "            node.data = copy\n",
    "            \n",
    "            return True\n",
    "            \n",
    "        \n",
    "        # delete main function ...\n",
    "        \n",
    "        # find it ...\n",
    "        node, parent = BSTNode.find(self, None, key)\n",
    "        \n",
    "        if node is not None:\n",
    "            nrChildren = node.child_count()\n",
    "            \n",
    "            if parent is not None:\n",
    "                # found it ... what type of BSTNode?\n",
    "\n",
    "                if nrChildren == 0:\n",
    "                    # ... it's a leaf BSTNode ...\n",
    "                    return _delete_leaf(node, parent)\n",
    "                elif nrChildren == 1:\n",
    "                    # it has a single child ...\n",
    "                    return _delete_one(node, parent)\n",
    "                else: # nrChildren == 2\n",
    "                    return _delete_two(node, parent) \n",
    "            \n",
    "            elif nrChildren == 2: #Deleting of root with 2 children\n",
    "                _delete_two(node)\n",
    "              \n",
    "        return False # Node is not in tree or Deletion of root doesn't make sense\n",
    "\n",
    "\n",
    "    def traverse_tree_pre_order(self, visitor):\n",
    "        \"\"\"traverse tree pre-order mode and fire visitor on BSTNode\"\"\"\n",
    "        visitor(self)\n",
    "        if not self.left is None:\n",
    "            self.left.traverse_tree_pre_order(visitor)\n",
    "        if not self.right is None:\n",
    "            self.right.traverse_tree_pre_order(visitor)\n",
    "        \n",
    "        \n",
    "    def traverse_tree_in_order(self, visitor):\n",
    "        \"\"\"traverse tree in-order mode and fire visitor on BSTNode\"\"\"\n",
    "        \n",
    "        # left tree first ...\n",
    "        if not self.left is  None:\n",
    "            self.left.traverse_tree_in_order(visitor)\n",
    "            \n",
    "        # ... process the BSTNode in-order ...\n",
    "        visitor(self)\n",
    "        \n",
    "        # ... right tree...\n",
    "        if not self.right is None:       \n",
    "            self.right.traverse_tree_in_order(visitor)\n",
    "\n",
    "\n",
    "    def traverse_tree_post_order(self, visitor):\n",
    "        \"\"\"traverese tree post-order mode and fire visitor on BSTNode\"\"\"\n",
    "        if not self.left is None:\n",
    "            self.left.traverse_tree_post_order(visitor)\n",
    "        if not self.right is None:\n",
    "            self.right.traverse_tree_post_order(visitor)\n",
    "        visitor(self)\n",
    "        \n",
    "        "
   ]
  },
  {
   "cell_type": "code",
   "execution_count": null,
   "metadata": {
    "deletable": false,
    "editable": false,
    "nbgrader": {
     "checksum": "63a4c4be040c716690fa450284756a7f",
     "grade": true,
     "grade_id": "at_1_0_1",
     "locked": true,
     "points": 2,
     "schema_version": 1,
     "solution": false
    }
   },
   "outputs": [],
   "source": []
  },
  {
   "cell_type": "markdown",
   "metadata": {
    "deletable": false,
    "editable": false,
    "nbgrader": {
     "checksum": "bfeb933839bfb375cf6c49be0cbb2516",
     "grade": false,
     "grade_id": "t_1_1",
     "locked": true,
     "schema_version": 1,
     "solution": false
    }
   },
   "source": [
    "#### Task 1-1\n",
    "\n",
    "Complete the implementation of ` def insert(self, data)` and run the below function `test_add_names()` to verify your insert. Check both the names, and their position in the tree, given the order of insertion. The above given diagram is showing the tree you should obtain."
   ]
  },
  {
   "cell_type": "code",
   "execution_count": 3,
   "metadata": {
    "deletable": false,
    "nbgrader": {
     "checksum": "e3ae7dd7e160ddf342a49c1abcc67591",
     "grade": false,
     "grade_id": "q_1_1_0",
     "locked": false,
     "schema_version": 1,
     "solution": true
    }
   },
   "outputs": [
    {
     "name": "stdout",
     "output_type": "stream",
     "text": [
      "--------------------------------------------------------------------------------\n",
      "Test whether all names correctly added to bst\n",
      "--------------------------------------------------------------------------------\n",
      "----------------------------------------\n",
      "list of tree nodes, in-order\n",
      "----------------------------------------\n",
      "Anna Bert Chuc Dora John Lars Leon Lisa Mary Maze Pete Rodd Sean Will Zack \n",
      "----------------------------------------\n",
      "bst tree structure after insertion names\n",
      "----------------------------------------\n",
      "            Zack\n",
      "                                    Will\n",
      "                              Sean\n",
      "                        Rodd\n",
      "                  Pete\n",
      "      Maze\n",
      "                        Mary\n",
      "                  Lisa\n",
      "            Leon\n",
      "Lars\n",
      "      John\n",
      "                  Dora\n",
      "            Chuc\n",
      "                  Bert\n",
      "                        Anna\n"
     ]
    }
   ],
   "source": [
    "# Task 1.1 code cell\n",
    "\n",
    "from BSTPrinter import *\n",
    "\n",
    "# Define some variables and methods for testing...\n",
    "ROOT  = 'Lars'  \n",
    "NAMES = [\n",
    "         'Maze', 'Leon', 'John', 'Zack', 'Chuc', 'Pete', 'Lisa', \\\n",
    "         'Mary', 'Rodd', 'Bert', 'Sean', 'Will', 'Dora', 'Anna'  \n",
    "        ]\n",
    "ALL_NAMES = NAMES + [ ROOT ]\n",
    "\n",
    "# factory function making a BST ...\n",
    "def make_bst():\n",
    "    # add the root name ...\n",
    "    a_bst = BSTNode( ROOT )\n",
    "    \n",
    "    # add all other names in addition to the root ...\n",
    "    \n",
    "    for name in NAMES:\n",
    "        a_bst.insert(name)\n",
    "    \n",
    "    return a_bst\n",
    "\n",
    "\n",
    "# Tests are down here...\n",
    "def test_add_names():\n",
    "    \n",
    "    BSTPrinter.get_instance().print_header('Test whether all names correctly added to bst')\n",
    "    bst = make_bst()\n",
    "\n",
    "    # print a list of nodes in-order ...\n",
    "    BSTPrinter.get_instance().print_BSTNodes_sorted(bst, 'list of tree nodes, in-order', True)\n",
    "    \n",
    "    # print the structure of the tree ...\n",
    "    BSTPrinter.get_instance().print_tree_structure(bst, 'bst tree structure after insertion names')\n",
    "\n",
    "    \n",
    "## run the test ...\n",
    "test_add_names()\n"
   ]
  },
  {
   "cell_type": "code",
   "execution_count": null,
   "metadata": {
    "deletable": false,
    "editable": false,
    "nbgrader": {
     "checksum": "0383976ba1e47e9f759d7bd7e600d76e",
     "grade": true,
     "grade_id": "at_1_1_0",
     "locked": true,
     "points": 2,
     "schema_version": 1,
     "solution": false
    }
   },
   "outputs": [],
   "source": []
  },
  {
   "cell_type": "code",
   "execution_count": null,
   "metadata": {
    "deletable": false,
    "editable": false,
    "nbgrader": {
     "checksum": "c1316e5fe29258ee2379e0019fd05885",
     "grade": true,
     "grade_id": "at_1_1_1",
     "locked": true,
     "points": 2,
     "schema_version": 1,
     "solution": false
    }
   },
   "outputs": [],
   "source": []
  },
  {
   "cell_type": "markdown",
   "metadata": {
    "deletable": false,
    "editable": false,
    "nbgrader": {
     "checksum": "1121e00bfe24ef8fc7474e569798c912",
     "grade": false,
     "grade_id": "t_1_2",
     "locked": true,
     "schema_version": 1,
     "solution": false
    }
   },
   "source": [
    "#### Task 1.2\n",
    "\n",
    "Finalize static function `BSTNode.find(bst, None, name)` and find back all names inserted using the below function."
   ]
  },
  {
   "cell_type": "code",
   "execution_count": 4,
   "metadata": {
    "deletable": false,
    "nbgrader": {
     "checksum": "6ed905f42100c7c25f565ab874f6babe",
     "grade": false,
     "grade_id": "q_1_2_0",
     "locked": false,
     "schema_version": 1,
     "solution": true
    }
   },
   "outputs": [
    {
     "name": "stdout",
     "output_type": "stream",
     "text": [
      "--------------------------------------------------------------------------------\n",
      "Test whether all names inserted can be found on bst\n",
      "--------------------------------------------------------------------------------\n",
      "Maze found: Maze (child of: Lars)\n",
      "Leon found: Leon (child of: Maze)\n",
      "John found: John (child of: Lars)\n",
      "Zack found: Zack (child of: Maze)\n",
      "Chuc found: Chuc (child of: John)\n",
      "Pete found: Pete (child of: Zack)\n",
      "Lisa found: Lisa (child of: Leon)\n",
      "Mary found: Mary (child of: Lisa)\n",
      "Rodd found: Rodd (child of: Pete)\n",
      "Bert found: Bert (child of: Chuc)\n",
      "Sean found: Sean (child of: Rodd)\n",
      "Will found: Will (child of: Sean)\n",
      "Dora found: Dora (child of: Chuc)\n",
      "Anna found: Anna (child of: Bert)\n",
      "Lars found: Lars (no parent)\n",
      "Jacques not on tree\n",
      "Kit not on tree\n"
     ]
    }
   ],
   "source": [
    "# Task 1.2 code cell\n",
    "\n",
    "def find_all_names(bst, namelist):\n",
    "    if bst is None:\n",
    "        return\n",
    "    for name in namelist:\n",
    "        \n",
    "        # find name in the bst and print the result ...\n",
    "        node, parent = BSTNode.find(bst, None, name)\n",
    "        \n",
    "        if node is None:\n",
    "            print('{:s} not on tree'. format(str(name)))\n",
    "        else:\n",
    "            print('{:s} found: {:s}'. \\\n",
    "                  format(str(name), str(node)), end='')\n",
    "            if parent is not None:\n",
    "                print(' (child of: {:s})'. format(str(parent)) )\n",
    "            else:\n",
    "                print(' (no parent)')\n",
    "\n",
    "\n",
    "# Tests are down here...\n",
    "def test_find_names():\n",
    "    BSTPrinter.get_instance().print_header('Test whether all names inserted can be found on bst')\n",
    "    \n",
    "    bst = make_bst()\n",
    "\n",
    "    # Create some names that are not in the tree\n",
    "    NOT_ON_TREE = ['Jacques', 'Kit']\n",
    "    TEST_LIST = ALL_NAMES + NOT_ON_TREE\n",
    "\n",
    "    # For all names, display whether they are in the tree\n",
    "    find_all_names(bst, TEST_LIST)\n",
    "\n",
    "    \n",
    "## run the test ...\n",
    "test_find_names()\n"
   ]
  },
  {
   "cell_type": "code",
   "execution_count": null,
   "metadata": {
    "deletable": false,
    "editable": false,
    "nbgrader": {
     "checksum": "264e7029ec57236346144af7bcf2419d",
     "grade": true,
     "grade_id": "at_1_2_0",
     "locked": true,
     "points": 4,
     "schema_version": 1,
     "solution": false
    }
   },
   "outputs": [],
   "source": []
  },
  {
   "cell_type": "markdown",
   "metadata": {
    "deletable": false,
    "editable": false,
    "nbgrader": {
     "checksum": "8fd5e36e234c23c1ce7c5304b1fe040e",
     "grade": false,
     "grade_id": "t_1_3",
     "locked": true,
     "schema_version": 1,
     "solution": false
    }
   },
   "source": [
    "#### Task 1.3\n",
    "\n",
    "Finalize the implementation of static function `height()` in `class BSTNode`. Run the test routine `test_height()` below, to test it."
   ]
  },
  {
   "cell_type": "code",
   "execution_count": 5,
   "metadata": {
    "deletable": false,
    "nbgrader": {
     "checksum": "5a1db2b4a1a6c515abfbd336b63777e6",
     "grade": false,
     "grade_id": "q_1_3_0",
     "locked": false,
     "schema_version": 1,
     "solution": true
    }
   },
   "outputs": [
    {
     "name": "stdout",
     "output_type": "stream",
     "text": [
      "--------------------------------------------------------------------------------\n",
      "Test height computation of bst\n",
      "--------------------------------------------------------------------------------\n",
      "Height must be 7, actual height: 7\n"
     ]
    }
   ],
   "source": [
    "# Task 1.3 code cell\n",
    "\n",
    "def test_height():\n",
    "    BSTPrinter.get_instance().print_header('Test height computation of bst')\n",
    "    bst = make_bst()\n",
    "    \n",
    "    bst_height = BSTNode.height(bst)\n",
    "    \n",
    "    print(\"Height must be 7, actual height: {:d}\".format(bst_height))\n",
    "    \n",
    "    \n",
    "#run the test ...\n",
    "test_height()"
   ]
  },
  {
   "cell_type": "code",
   "execution_count": null,
   "metadata": {
    "deletable": false,
    "editable": false,
    "nbgrader": {
     "checksum": "57b8d76254e280c842031e266620987a",
     "grade": true,
     "grade_id": "at_1_3_0",
     "locked": true,
     "points": 4,
     "schema_version": 1,
     "solution": false
    }
   },
   "outputs": [],
   "source": []
  },
  {
   "cell_type": "markdown",
   "metadata": {
    "deletable": false,
    "editable": false,
    "nbgrader": {
     "checksum": "1c7fb1a54462dc98897981cdb4b54b40",
     "grade": false,
     "grade_id": "t_1_4",
     "locked": true,
     "schema_version": 1,
     "solution": false
    }
   },
   "source": [
    "#### Task 1.4\n",
    "\n",
    "Delete nodes with no, one child or two children. We do this in two steps:\n",
    "\n",
    "* step 1: implement `_delete_leaf()` and `_delete_one()`, having zero and one child, resp. Test these first\n",
    "* step 2: implement `_delete_two()`, which is the most difficult one\n",
    "\n",
    "**Hints for this Exercise**\n",
    "\n",
    "* for an explanation of what `delete` does, consult the lecture slides\n",
    "* when studying the templates given, you will notice that we opted to find and promote a *successor* in the deletion of a 2-children-node (and not a predecessor). A predecessor-choice would have been proceeding along the same lines, however\n",
    "* further notice that after swapping tree nodes (successor --> node-to-delete), the *successor node* is itself being deleted by a call to `_delete_one(successor, parent_successor)`. You can argue that deleting a *successor node* can be atmost a 1-child-deletion\n",
    "* observe that the hierarchy of puter-and-inner functions is as follllows:\n",
    "\n",
    "```\n",
    "    def delete(self, key)\n",
    "        \"\"\"delete node with key given\"\"\"\n",
    "        \n",
    "        # aux functions for delete ...\n",
    "        def _delete_leaf(node, parent):\n",
    "            \"\"\"delete a leaf node; 0 children\"\"\"\n",
    "                 \n",
    "        def _delete_one(node, parent):\n",
    "            \"\"\"delete a node with 1 child\"\"\"\n",
    "\n",
    "        def _delete_two(node, parent):\n",
    "            \"\"\"delete a node with two subtrees\"\"\"\n",
    "            \n",
    "            def _find_successor(node, parent):\n",
    "                \"\"\"find successor and keep track of node and parent\"\"\"\n",
    "```\n",
    "\n",
    "* all the above functions return `True` if the node was found and deleted succesfully, and `False` otherwise, except function `_find_successor()`, which return the successor found and its parent.\n",
    "\n",
    "\n",
    "Step 1: delete nodes with no or one child. Finalize `_delete_leaf(node, parent)` and `_delete_one(node, parent)` in function `delete(self, key)`. Leave `_delete_two(node, parent)` arest for now. Run the below code and test the results. Check the printed tree diagram. Experiment with names you select, below."
   ]
  },
  {
   "cell_type": "code",
   "execution_count": 6,
   "metadata": {
    "deletable": false,
    "nbgrader": {
     "checksum": "eb328e303bb8a5d0e4564356c909e20d",
     "grade": false,
     "grade_id": "q_1_4_0",
     "locked": false,
     "schema_version": 1,
     "solution": true
    }
   },
   "outputs": [
    {
     "name": "stdout",
     "output_type": "stream",
     "text": [
      "--------------------------------------------------------------------------------\n",
      "Test deleting nodes with one or zero children\n",
      "--------------------------------------------------------------------------------\n",
      "Maze found: Maze (child of: Lars)\n",
      "Leon found: Leon (child of: Maze)\n",
      "John not on tree\n",
      "Zack found: Zack (child of: Maze)\n",
      "Chuc found: Chuc (child of: Lars)\n",
      "Pete found: Pete (child of: Zack)\n",
      "Lisa not on tree\n",
      "Mary found: Mary (child of: Leon)\n",
      "Rodd found: Rodd (child of: Pete)\n",
      "Bert found: Bert (child of: Chuc)\n",
      "Sean not on tree\n",
      "Will found: Will (child of: Rodd)\n",
      "Dora found: Dora (child of: Chuc)\n",
      "Anna not on tree\n",
      "Lars found: Lars (no parent)\n",
      "----------------------------------------\n",
      "bst after deletions one and zero children\n",
      "----------------------------------------\n",
      "            Zack\n",
      "                              Will\n",
      "                        Rodd\n",
      "                  Pete\n",
      "      Maze\n",
      "                  Mary\n",
      "            Leon\n",
      "Lars\n",
      "            Dora\n",
      "      Chuc\n",
      "            Bert\n"
     ]
    }
   ],
   "source": [
    "# Task 1.4 code cell\n",
    "\n",
    "def test_delete_names_01():\n",
    "    BSTPrinter.get_instance().print_header('Test deleting nodes with one or zero children')\n",
    "    bst = make_bst()\n",
    "\n",
    "    # delete a few ...\n",
    "    for name in ('Sean', 'Anna', 'John', 'Lisa'):\n",
    "        bst.delete(name)\n",
    "\n",
    "    # check the result ...\n",
    "    find_all_names(bst, ALL_NAMES)\n",
    "\n",
    "    # print all the nodes in order ...\n",
    "    BSTPrinter.get_instance().print_tree_structure(bst, 'bst after deletions one and zero children')\n",
    "\n",
    "# run the test  ...\n",
    "test_delete_names_01()"
   ]
  },
  {
   "cell_type": "code",
   "execution_count": null,
   "metadata": {
    "deletable": false,
    "editable": false,
    "nbgrader": {
     "checksum": "c8cc2dd40dba3a530f7556d849595c58",
     "grade": true,
     "grade_id": "at_1_4_0",
     "locked": true,
     "points": 4,
     "schema_version": 1,
     "solution": false
    }
   },
   "outputs": [],
   "source": []
  },
  {
   "cell_type": "markdown",
   "metadata": {
    "deletable": false,
    "editable": false,
    "nbgrader": {
     "checksum": "7e7300f8202b61a8d22ac8a28f280036",
     "grade": false,
     "grade_id": "t_1_5",
     "locked": true,
     "schema_version": 1,
     "solution": false
    }
   },
   "source": [
    "#### Task 1.5\n",
    "\n",
    "Step 2: delete nodes with two children. Finalize `_delete_two(node, parent)` and `_find_successor(node, parent)` in function `delete(self, key)`. Complete the call to this method for nodes with two children. Run the below code and test the results. Check the printed tree diagram. Experiment with names you select, below."
   ]
  },
  {
   "cell_type": "code",
   "execution_count": 7,
   "metadata": {
    "deletable": false,
    "nbgrader": {
     "checksum": "b9c223cc036dcb09c38efb2f2f73f18c",
     "grade": false,
     "grade_id": "q_1_5_0",
     "locked": false,
     "schema_version": 1,
     "solution": true
    }
   },
   "outputs": [
    {
     "name": "stdout",
     "output_type": "stream",
     "text": [
      "--------------------------------------------------------------------------------\n",
      "Test deleting nodes with two children\n",
      "--------------------------------------------------------------------------------\n",
      "Maze not on tree\n",
      "Leon found: Leon (no parent)\n",
      "John found: John (child of: Leon)\n",
      "Zack found: Zack (child of: Pete)\n",
      "Chuc not on tree\n",
      "Pete found: Pete (child of: Leon)\n",
      "Lisa found: Lisa (child of: Pete)\n",
      "Mary found: Mary (child of: Lisa)\n",
      "Rodd found: Rodd (child of: Zack)\n",
      "Bert found: Bert (child of: Dora)\n",
      "Sean found: Sean (child of: Rodd)\n",
      "Will found: Will (child of: Sean)\n",
      "Dora found: Dora (child of: John)\n",
      "Anna found: Anna (child of: Bert)\n",
      "Lars not on tree\n",
      "----------------------------------------\n",
      "bst after deletions two children nodes\n",
      "----------------------------------------\n",
      "            Zack\n",
      "                              Will\n",
      "                        Sean\n",
      "                  Rodd\n",
      "      Pete\n",
      "                  Mary\n",
      "            Lisa\n",
      "Leon\n",
      "      John\n",
      "            Dora\n",
      "                  Bert\n",
      "                        Anna\n"
     ]
    }
   ],
   "source": [
    "# Task 1.5 code cell\n",
    "\n",
    "def test_delete_names_02():\n",
    "    BSTPrinter.get_instance().print_header('Test deleting nodes with two children')\n",
    "    bst = make_bst()\n",
    "\n",
    "    # delete a few ...\n",
    "    for name in ('Lars', 'Maze', 'Chuc'):\n",
    "        bst.delete(name)\n",
    "\n",
    "    # check the result ...\n",
    "    find_all_names(bst, ALL_NAMES)\n",
    "\n",
    "    # print all the nodes in order ...\n",
    "    BSTPrinter.get_instance().print_tree_structure(bst, 'bst after deletions two children nodes')\n",
    "\n",
    "\n",
    "# run the test ...\n",
    "test_delete_names_02()"
   ]
  },
  {
   "cell_type": "code",
   "execution_count": null,
   "metadata": {
    "deletable": false,
    "editable": false,
    "nbgrader": {
     "checksum": "c7990497a52a3f75f358b5cc49574af0",
     "grade": true,
     "grade_id": "at_1_5_0",
     "locked": true,
     "points": 2,
     "schema_version": 1,
     "solution": false
    }
   },
   "outputs": [],
   "source": []
  },
  {
   "cell_type": "code",
   "execution_count": null,
   "metadata": {
    "deletable": false,
    "editable": false,
    "nbgrader": {
     "checksum": "f1e971f5ed1e70a11e8b788ab05b54a3",
     "grade": true,
     "grade_id": "at_1_5_1",
     "locked": true,
     "points": 2,
     "schema_version": 1,
     "solution": false
    }
   },
   "outputs": [],
   "source": []
  },
  {
   "cell_type": "code",
   "execution_count": null,
   "metadata": {
    "deletable": false,
    "editable": false,
    "nbgrader": {
     "checksum": "7fad572397042cacd189a01117712419",
     "grade": true,
     "grade_id": "at_1_5_2",
     "locked": true,
     "points": 2,
     "schema_version": 1,
     "solution": false
    }
   },
   "outputs": [],
   "source": []
  },
  {
   "cell_type": "markdown",
   "metadata": {
    "deletable": false,
    "editable": false,
    "nbgrader": {
     "checksum": "2d1d2d869e7631bd9e1e9e53ab9708da",
     "grade": false,
     "grade_id": "t_1_6",
     "locked": true,
     "schema_version": 1,
     "solution": false
    }
   },
   "source": [
    "#### Task 1.6\n",
    "\n",
    "Implement `traverse_tree_pre_order()` and `traverse_tree_post_order()` and run it below, with `BSTNode.print_BSTNode` as the visitor function. Check if the pre- and post-order produce the correct sequence of nodes."
   ]
  },
  {
   "cell_type": "code",
   "execution_count": 8,
   "metadata": {
    "deletable": false,
    "nbgrader": {
     "checksum": "8392850e8ad9c584c91fd20717952759",
     "grade": false,
     "grade_id": "q_1_6_0",
     "locked": false,
     "schema_version": 1,
     "solution": true
    }
   },
   "outputs": [
    {
     "name": "stdout",
     "output_type": "stream",
     "text": [
      "--------------------------------------------------------------------------------\n",
      "Test if tree traversed correctly, pre- and post-order\n",
      "--------------------------------------------------------------------------------\n",
      "tree nodes in pre-order traversal with visitor: BSTNode.print_BSTNode\n",
      "Lars John Chuc Bert Anna Dora Maze Leon Lisa Mary Zack Pete Rodd Sean Will \n",
      "tree nodes in post-order traversal with visitor: BSTNode.print_BSTNode\n",
      "Anna Bert Dora Chuc John Mary Lisa Leon Will Sean Rodd Pete Zack Maze Lars "
     ]
    }
   ],
   "source": [
    "# Task 1.6 code cell\n",
    "\n",
    "def test_traversers():\n",
    "    BSTPrinter.get_instance().print_header('Test if tree traversed correctly, pre- and post-order')\n",
    "    bst = make_bst()\n",
    "\n",
    "    # check the result ...\n",
    "    print('tree nodes in pre-order traversal with visitor: BSTNode.print_BSTNode')\n",
    "    bst.traverse_tree_pre_order(BSTNode.print_BSTNode)\n",
    "    \n",
    "    print('\\ntree nodes in post-order traversal with visitor: BSTNode.print_BSTNode')\n",
    "    bst.traverse_tree_post_order(BSTNode.print_BSTNode)\n",
    "    \n",
    "\n",
    "# run the test ...\n",
    "test_traversers()"
   ]
  },
  {
   "cell_type": "code",
   "execution_count": null,
   "metadata": {
    "deletable": false,
    "editable": false,
    "nbgrader": {
     "checksum": "48f43397ecfeb99728f935c86b4e1edc",
     "grade": true,
     "grade_id": "at_1_6_0",
     "locked": true,
     "points": 2,
     "schema_version": 1,
     "solution": false
    }
   },
   "outputs": [],
   "source": []
  },
  {
   "cell_type": "markdown",
   "metadata": {
    "deletable": false,
    "editable": false,
    "nbgrader": {
     "checksum": "6813a527462fd1806c2b711c717cb257",
     "grade": false,
     "grade_id": "intro_2",
     "locked": true,
     "schema_version": 1,
     "solution": false
    }
   },
   "source": [
    "# EXERCISE 2: implement a `Heap`\n",
    "A heap is an array-based data structure in which items are organized using a hierarchical model with a min-or-max parent-child relationship. This invariant relation is maintained while pushing new items on the heap, or popping items from the heap. This again implies that we can easily obtain the next-in-order item from a heap, no matter how its content changes. This makes a heap particularly apt for sorting, but also for dynamic applications, such as a priority-queue."
   ]
  },
  {
   "cell_type": "code",
   "execution_count": 119,
   "metadata": {
    "deletable": false,
    "nbgrader": {
     "checksum": "89841b67fc490c8d6a94567552af76da",
     "grade": false,
     "grade_id": "q_2_0_0",
     "locked": false,
     "schema_version": 1,
     "solution": true
    }
   },
   "outputs": [],
   "source": [
    "class Heap(list):\n",
    "    \"\"\"zero-indexed list-based min-or-max heap class\"\"\"\n",
    "    \n",
    "    # distinguish between ordering types ...\n",
    "    MIN_HEAP, MAX_HEAP = 0, 1\n",
    "\n",
    "    @staticmethod\n",
    "    def print_heap(a_heap, title=''):\n",
    "        '''print heap as a string'''\n",
    "        print('{:s} {:s}'.format(title, str(a_heap)))\n",
    "\n",
    "\n",
    "    def __init__(self, hp_type=MIN_HEAP, items=None):\n",
    "        '''init a heap as a list'''\n",
    "        super().__init__(self)\n",
    "        # register the heap ordering ...\n",
    "        self.type = hp_type\n",
    "        # if items given, preload on heap ...\n",
    "        if items:\n",
    "            self.extend(items)\n",
    "        # install heap on list ...\n",
    "        self.heapify()\n",
    "        \n",
    "    def __str__(self):\n",
    "        \"\"\"return list as string\"\"\"\n",
    "        _items = ', '.join([str(_item) for _item in self])\n",
    "        return _items\n",
    "\n",
    "    def empty(self):\n",
    "        \"\"\"return T|F heap empty\"\"\"\n",
    "        if self == None or self == []:\n",
    "            return True\n",
    "        return False\n",
    "    \n",
    "    def size(self):\n",
    "        '''return current heap size'''\n",
    "        if self.empty():\n",
    "            return 0\n",
    "        return len(self)\n",
    "\n",
    "    def push_heap(self, item):\n",
    "        ''' push new item on the heap'''\n",
    "        # append the item ...\n",
    "        \n",
    "        # YOUR CODE HERE\n",
    "        raise NotImplementedError()\n",
    "        \n",
    "        # bubble up ...\n",
    "        \n",
    "        # YOUR CODE HERE\n",
    "        raise NotImplementedError()\n",
    "\n",
    "    def pop_heap(self):\n",
    "        '''pop from the top of the heap'''\n",
    "        # pop heap top [0] and swap with last ...\n",
    "        item = self[0] \n",
    "        \n",
    "        # remove the double entry ...\n",
    "        self[0] = self[-1]              #assign last value as top of heap\n",
    "        self.pop(-1)                    #remove last item\n",
    "        \n",
    "        # bubble down ...\n",
    "        self._bubble_down(0)\n",
    "        \n",
    "        return item\n",
    "\n",
    "    def in_order(self, child, parent): #We should compare values!\n",
    "        '''return T|F parent and child are in heap-order'''\n",
    "        if parent is None or child is None:\n",
    "            return True\n",
    "        \n",
    "        #MIN_HEAP, MAX_HEAP = 0, 1\n",
    "        if self.type: #MAX_HEAP\n",
    "            return self[parent] >= self[child]\n",
    "        else: #MIN_HEAP\n",
    "            return self[parent] <= self[child] \n",
    "            \n",
    "\n",
    "    def _bubble_up(self, child):\n",
    "        '''swap last inserted element into correct position'''\n",
    "        # swap child-parent until parent in order ...\n",
    "        \n",
    "        # YOUR CODE HERE\n",
    "        raise NotImplementedError()\n",
    "    \n",
    "    def children(self,parent):\n",
    "        children = tuple()\n",
    "        \n",
    "        rchild = (parent+1)*2\n",
    "        lchild = rchild - 1\n",
    "        size = self.size()\n",
    "        \n",
    "        if rchild < size: #appending right child\n",
    "            children += (rchild,)\n",
    "        if lchild < size: #appending left child\n",
    "            children += (lchild,) \n",
    "        return children\n",
    "\n",
    "    def _bubble_down(self, parent):\n",
    "        '''swap parent downwards into correct position'''\n",
    "\n",
    "        def child_to_swap(lchild=None, rchild=None, size=self.size()):\n",
    "            '''return index of child to involve in swapping, None if no child'''\n",
    "            children = list(self.children(parent))\n",
    "            if len(children) == 0:   #parent has no children\n",
    "                return None\n",
    "            elif len(children) == 1: #parent only has one child\n",
    "                return children[0]\n",
    "            else:                    #parent has two children\n",
    "                lchild, rchild = children\n",
    "                lchildData, rchildData = self[lchild], self[rchild]\n",
    "             \n",
    "                #deciding the child wanted for bubbling, nota bene MIN_HEAP, MAX_HEAP = 0, 1\n",
    "                childData = max(rchildData,lchildData) if self.type else min(rchildData,lchildData)\n",
    "                return lchild if childData == lchildData else rchild\n",
    "\n",
    "        swp_ndx = child_to_swap(None, None, None) #determining child_to_swap (nota bene, you only need the parent for this)\n",
    "        \n",
    "        #determine whether or not to bubble down\n",
    "        if self.empty(): #not possible in empty heap ...\n",
    "            return\n",
    "        if self.in_order(swp_ndx, parent): #... and only necessary if order is faulty, and child_to_swap is not None\n",
    "            return\n",
    "        \n",
    "        #if so, swapping parent with the child_to_swap\n",
    "        parentData,childData = self[parent],self[swp_ndx]\n",
    "        self[parent], self[swp_ndx] = childData, parentData\n",
    "        \n",
    "        #check if the current position -is- correct, if not (recursively) correct for this by bubbling down further\n",
    "        #if there is -any- child that is not in order with new parent, swap parent down further\n",
    "        if any(not self.in_order(child, swp_ndx) for child in self.children(swp_ndx)): \n",
    "            self._bubble_down(swp_ndx)\n",
    "            return\n",
    "\n",
    "    def heapify(self):\n",
    "        '''install heap property on list'''\n",
    "        size = self.size()\n",
    "        # heap tree leaves have no children and \n",
    "        # already have heap property ...\n",
    "        # skip leaves ...\n",
    "        for ndx in range (size // 2, -1, -1):\n",
    "            self._bubble_down(ndx)\n",
    "        "
   ]
  },
  {
   "cell_type": "code",
   "execution_count": null,
   "metadata": {
    "deletable": false,
    "editable": false,
    "nbgrader": {
     "checksum": "e4dff0d50f7994412fe83748cc05f865",
     "grade": true,
     "grade_id": "at_2_0_0",
     "locked": true,
     "points": 2,
     "schema_version": 1,
     "solution": false
    }
   },
   "outputs": [],
   "source": []
  },
  {
   "cell_type": "markdown",
   "metadata": {
    "deletable": false,
    "editable": false,
    "nbgrader": {
     "checksum": "bb66bf4a92d52957e2907e6c2400d3d5",
     "grade": false,
     "grade_id": "t_2_1",
     "locked": true,
     "schema_version": 1,
     "solution": false
    }
   },
   "source": [
    "#### Task 2.1\n",
    "Complete function member `Heap.empty()` and `Heap.size()`, plus the below test code. Run it and verify the results.\n",
    "\n",
    "**Note**: until after Task 2.2, the ordering in the Heap may NOT be OK, but the count should."
   ]
  },
  {
   "cell_type": "code",
   "execution_count": 120,
   "metadata": {
    "deletable": false,
    "nbgrader": {
     "checksum": "2f627d5ba4e1f5d41bd2364df2deb0f9",
     "grade": false,
     "grade_id": "q_2_1_0",
     "locked": false,
     "schema_version": 1,
     "solution": true
    }
   },
   "outputs": [
    {
     "name": "stdout",
     "output_type": "stream",
     "text": [
      "test creation of min or max heaps, from item lists, different item types\n",
      "heap: 0, size= 0: [] Heap empty? True\n",
      "heap: 1, size= 0: [] Heap empty? True\n",
      "heap: 2, size=11: [10, 9, 8, 3, 7, 4, 2, 1, 0, 5, 6] Heap empty? False\n",
      "heap: 3, size=26: [a, b, c, f, g, d, e, k, j, q, i, h, m, l, v, t, p, o, w, z, x, y, s, u, r, n] Heap empty? False\n",
      "heap: 4, size= 9: [2.1, 2.1, 4.2, 2.2, 7.6, 5.0, 5.0, 5.0, 4.3] Heap empty? False\n",
      "heap: 5, size= 0: [] Heap empty? True\n"
     ]
    }
   ],
   "source": [
    "# Task 2.1 code cell\n",
    "\n",
    "print('test creation of min or max heaps, from item lists, different item types')\n",
    "\n",
    "def test_make_heap():\n",
    "    \"\"\"create suite of heaps, and print\"\"\"\n",
    "    none_list  = None\n",
    "    empty_list = []\n",
    "    int_list   = [10,7,2,3,9,4,8,1,0,5,6]\n",
    "    char_list  = ['p','a','h','k','q','r','l','f','o',\n",
    "                    'g','s','d','m','e','v','t','b','j','w',\n",
    "                                  'z','x','y','i','u','c','n']\n",
    "    dupl_list  = [5.0, 2.1, 5.0, 2.2, 7.6, 4.2, 2.1, 5.0, 4.3]\n",
    "    \n",
    "    # create heaps ...\n",
    "    none_heap      = Heap(hp_type=Heap.MAX_HEAP, items=none_list)\n",
    "    empty_heap     = Heap(hp_type=Heap.MIN_HEAP, items=empty_list)\n",
    "    int_max_heap   = Heap(hp_type=Heap.MAX_HEAP, items=int_list)\n",
    "    char_min_heap  = Heap(hp_type=Heap.MIN_HEAP, items=char_list)\n",
    "    \n",
    "    dupl_heap      = Heap(items=dupl_list) # default is: min heap\n",
    "    default_heap   = Heap()\n",
    "    \n",
    "    for k, hp in enumerate( (none_heap, empty_heap, int_max_heap, char_min_heap, dupl_heap, default_heap) ):\n",
    "        print(f'heap: {k:d}, size={hp.size():2d}: [{str(hp):s}] Heap empty? {str(hp.empty())}')\n",
    "\n",
    "test_make_heap()"
   ]
  },
  {
   "cell_type": "code",
   "execution_count": null,
   "metadata": {
    "deletable": false,
    "editable": false,
    "nbgrader": {
     "checksum": "cd640b415d572c3c2470bfbf45613418",
     "grade": true,
     "grade_id": "at_2_1_0",
     "locked": true,
     "points": 3,
     "schema_version": 1,
     "solution": false
    }
   },
   "outputs": [],
   "source": []
  },
  {
   "cell_type": "code",
   "execution_count": null,
   "metadata": {
    "deletable": false,
    "editable": false,
    "nbgrader": {
     "checksum": "eb39d907b60e2ab473ec43f03b3e94f6",
     "grade": true,
     "grade_id": "at_2_1_1",
     "locked": true,
     "points": 3,
     "schema_version": 1,
     "solution": false
    }
   },
   "outputs": [],
   "source": []
  },
  {
   "cell_type": "markdown",
   "metadata": {
    "deletable": false,
    "editable": false,
    "nbgrader": {
     "checksum": "46c04d610c47c2fef24ea7b904a1ae93",
     "grade": false,
     "grade_id": "t_2_2",
     "locked": true,
     "schema_version": 1,
     "solution": false
    }
   },
   "source": [
    "#### Task 2.2\n",
    "Implement `Heap.in_order(self, child, parent)` and run the below code to test"
   ]
  },
  {
   "cell_type": "code",
   "execution_count": 121,
   "metadata": {
    "deletable": false,
    "nbgrader": {
     "checksum": "52ea633c472086b9dd33e50e169d71e4",
     "grade": false,
     "grade_id": "q_2_2_0",
     "locked": false,
     "schema_version": 1,
     "solution": true
    }
   },
   "outputs": [
    {
     "name": "stdout",
     "output_type": "stream",
     "text": [
      "test order in heaps to be correct\n",
      " min heap: parent 4 <= 8, 7\n",
      " min heap: parent 1 <= 9, 5\n",
      " min heap: parent 2 <= 4, 3\n",
      " min heap: parent 0 <= 2, 1\n",
      "max heap: parent r >= f, f\n",
      "max heap: parent s >= h, f\n",
      "max heap: parent u >= s, r\n"
     ]
    }
   ],
   "source": [
    "# Task 2.2 code cell\n",
    "\n",
    "print('test order in heaps to be correct')\n",
    "def test_in_order(heap):\n",
    "    \"\"\"test if items in heap obey order\"\"\"\n",
    "    #  walk up the heap ...\n",
    "    for ndx in range (heap.size()-2, -1, -2):\n",
    "        parent = (ndx-1) // 2 #DOES NOT WORK PROPERLY??\n",
    "        \n",
    "        if heap.size()%2 == 1:\n",
    "            ndx += 1\n",
    "\n",
    "        if parent >= 0:\n",
    "            if heap.type == Heap.MIN_HEAP:\n",
    "                if heap[parent] <= heap[ndx] and heap[parent] <= heap[ndx-1]: # compare both children\n",
    "                    print(f' min heap: parent {heap[parent]} <= {heap[ndx-1]}, {heap[ndx]}')\n",
    "                else:\n",
    "                    print(f'min heap: ordering error: parent {heap[parent]}, children: {heap[ndx-1]}, {heap[ndx]}')\n",
    "            else:\n",
    "                #OWN CODE\n",
    "                if heap[parent] >= heap[ndx] and heap[parent] >= heap[ndx-1]:\n",
    "                    print(f'max heap: parent {heap[parent]} >= {heap[ndx-1]}, {heap[ndx]}')\n",
    "                else:\n",
    "                    print(f'max heap: ordering error: parent {heap[parent]}, children: {heap[ndx-1]}, {heap[ndx]}')\n",
    "\n",
    "int_min_heap = Heap(hp_type=Heap.MIN_HEAP, items=[9, 3, 5, 8, 2, 1, 0, 4, 7, 6])\n",
    "chr_max_heap = Heap(hp_type=Heap.MAX_HEAP, items=['f','u','r','d','s','f','f','h'])\n",
    "\n",
    "for hp in (int_min_heap, chr_max_heap):\n",
    "    test_in_order(hp)\n",
    "    \n",
    "# NOTE: parent with one child is not checked !"
   ]
  },
  {
   "cell_type": "code",
   "execution_count": null,
   "metadata": {
    "deletable": false,
    "editable": false,
    "nbgrader": {
     "checksum": "ade744a1a782e75f826a26596dd654e9",
     "grade": true,
     "grade_id": "at_2_2_0",
     "locked": true,
     "points": 3,
     "schema_version": 1,
     "solution": false
    }
   },
   "outputs": [],
   "source": []
  },
  {
   "cell_type": "markdown",
   "metadata": {
    "deletable": false,
    "editable": false,
    "nbgrader": {
     "checksum": "212b97d22a22bf9daf53deb52972fdae",
     "grade": false,
     "grade_id": "t_2_3",
     "locked": true,
     "schema_version": 1,
     "solution": false
    }
   },
   "source": [
    "#### Task 2.3\n",
    "Implement `Heap._bubble_down()`, bubbling down parents and children to restore the heap ordering. To test your implementation, change in `class Heap` above:\n",
    "\n",
    "```python\n",
    "    def heapify(self):\n",
    "        '''install heap property on list'''\n",
    "        size = self.size()\n",
    "        # heap tree leaves have no children and \n",
    "        # already have heap property ...\n",
    "        # skip leaves ...\n",
    "        for ndx in range (size // 2, -1, -1):\n",
    "            #self._bubble_down(ndx)\n",
    "            pass\n",
    "```\n",
    "\n",
    "to:\n",
    "\n",
    "```python\n",
    "    def heapify(self):\n",
    "        '''install heap property on list'''\n",
    "        size = self.size()\n",
    "        # heap tree leaves have no children and \n",
    "        # already have heap property ...\n",
    "        # skip leaves ...\n",
    "        for ndx in range (size // 2, -1, -1):\n",
    "            self._bubble_down(ndx)\n",
    "```\n",
    "\n",
    "first **RERUN the class code above**, then run the below test code. It should produce heaps with the correct ordering now. Verify this using the below code."
   ]
  },
  {
   "cell_type": "code",
   "execution_count": 122,
   "metadata": {
    "deletable": false,
    "nbgrader": {
     "checksum": "25e4eae8a3d87c0779980485af823aed",
     "grade": false,
     "grade_id": "q_2_3_0",
     "locked": false,
     "schema_version": 1,
     "solution": true
    },
    "scrolled": false
   },
   "outputs": [
    {
     "name": "stdout",
     "output_type": "stream",
     "text": [
      "test creation of min or max heaps,  different item types, with the correct heap ordering\n",
      "heap: 0, size= 0: []\n",
      "heap: 1, size= 0: []\n",
      "heap: 2, size=11: [10, 9, 8, 3, 7, 4, 2, 1, 0, 5, 6]\n",
      "heap: 3, size=26: [a, b, c, f, g, d, e, k, j, q, i, h, m, l, v, t, p, o, w, z, x, y, s, u, r, n]\n",
      "heap: 4, size= 9: [2.1, 2.1, 4.2, 2.2, 7.6, 5.0, 5.0, 5.0, 4.3]\n",
      "heap: 5, size= 0: []\n"
     ]
    }
   ],
   "source": [
    "# Task 2.3 code cell\n",
    "\n",
    "print('test creation of min or max heaps,  different item types, with the correct heap ordering')\n",
    "\n",
    "def test_create_heap_in_order():\n",
    "    \"\"\"create suite of heaps, and print\"\"\"\n",
    "    none_list  = None\n",
    "    empty_list = []\n",
    "    int_list   = [10,7,2,3,9,4,8,1,0,5,6]\n",
    "    char_list  = ['p','a','h','k','q','r','l','f','o','g','s','d','m','e','v','t','b','j','w','z','x','y','i','u','c','n']\n",
    "    dupl_list  = [5.0, 2.1, 5.0, 2.2, 7.6, 4.2, 2.1, 5.0, 4.3]\n",
    "    lists = [none_list, empty_list,int_list,char_list,dupl_list]\n",
    "    \n",
    "    # create heaps ...\n",
    "    none_heap      = Heap(hp_type=Heap.MAX_HEAP, items=none_list)\n",
    "    empty_heap     = Heap(hp_type=Heap.MIN_HEAP, items=empty_list)\n",
    "    int_max_heap   = Heap(hp_type=Heap.MAX_HEAP, items=int_list)\n",
    "    char_min_heap  = Heap(hp_type=Heap.MIN_HEAP, items=char_list)\n",
    "    dupl_heap      = Heap(items=dupl_list) # default is: min heap\n",
    "    default_heap   = Heap()\n",
    "    \n",
    "    for k, hp in enumerate( (none_heap, empty_heap, int_max_heap, char_min_heap, dupl_heap, default_heap) ):\n",
    "        print(f'heap: {k:d}, size={hp.size():2d}: [{str(hp):s}]')\n",
    "    \n",
    "test_create_heap_in_order()"
   ]
  },
  {
   "cell_type": "code",
   "execution_count": null,
   "metadata": {
    "deletable": false,
    "editable": false,
    "nbgrader": {
     "checksum": "bf37a40f7dbb3160988cc53c40d8f887",
     "grade": true,
     "grade_id": "at_2_3_0",
     "locked": true,
     "points": 4,
     "schema_version": 1,
     "solution": false
    }
   },
   "outputs": [],
   "source": []
  },
  {
   "cell_type": "markdown",
   "metadata": {
    "deletable": false,
    "editable": false,
    "nbgrader": {
     "checksum": "3adfa93af7cd4602a14575fd8fe6b2a1",
     "grade": false,
     "grade_id": "t_2_4",
     "locked": true,
     "schema_version": 1,
     "solution": false
    }
   },
   "source": [
    "#### Task 2.4\n",
    "Implement `Heap.pop_heap()` using `Heap.bubble_down()`. Run the below code to verify the result."
   ]
  },
  {
   "cell_type": "code",
   "execution_count": 123,
   "metadata": {
    "deletable": false,
    "nbgrader": {
     "checksum": "5f4308bf355fd924febfd3371efd85b5",
     "grade": false,
     "grade_id": "q_2_4_0",
     "locked": false,
     "schema_version": 1,
     "solution": true
    }
   },
   "outputs": [
    {
     "name": "stdout",
     "output_type": "stream",
     "text": [
      "test popping of min or max heaps,  different item types, with the correct heap ordering\n",
      "heap 0 popped: \n",
      "heap 1 popped: \n",
      "heap 2 popped: 10 9 8 7 6 5 4 3 2 1 0 \n",
      "heap 3 popped: a b c d e f g h i j k l m n o p q r s t u v w x y z \n",
      "heap 4 popped: 2.1 2.1 2.2 4.2 4.3 5.0 5.0 5.0 7.6 \n"
     ]
    }
   ],
   "source": [
    "# Task 2.4 code cell\n",
    "\n",
    "print('test popping of min or max heaps,  different item types, with the correct heap ordering')\n",
    "\n",
    "def test_pop_heap():\n",
    "    \"\"\"create suite of heaps, and print\"\"\"\n",
    "    none_list  = None\n",
    "    empty_list = []\n",
    "    int_list   = [10,7,2,3,9,4,8,1,0,5,6]\n",
    "    char_list  = ['p','a','h','k','q','r','l','f','o',\n",
    "                    'g','s','d','m','e','v','t','b','j','w',\n",
    "                                  'z','x','y','i','u','c','n']\n",
    "    dupl_list  = [5.0, 2.1, 5.0, 2.2, 7.6, 4.2, 2.1, 5.0, 4.3]\n",
    "    \n",
    "    # create heaps ...\n",
    "    none_heap      = Heap(hp_type=Heap.MAX_HEAP, items=none_list)   # heap 0\n",
    "    empty_heap     = Heap(hp_type=Heap.MIN_HEAP, items=empty_list)  # heap 1\n",
    "    int_max_heap   = Heap(hp_type=Heap.MAX_HEAP, items=int_list)    # ...\n",
    "    char_min_heap  = Heap(hp_type=Heap.MIN_HEAP, items=char_list)\n",
    "    dupl_heap      = Heap(items=dupl_list) # default is: min heap\n",
    "    \n",
    "    for k, hp in enumerate( (none_heap, empty_heap, int_max_heap, char_min_heap, dupl_heap) ):\n",
    "        print(f'heap {k:d} popped: ', end='')\n",
    "        while not hp.empty():\n",
    "            # pop the next item and print it ...\n",
    "            item = hp.pop_heap()\n",
    "            \n",
    "            print(f'{item}', end=' ')\n",
    "        print('')\n",
    "\n",
    "test_pop_heap()"
   ]
  },
  {
   "cell_type": "code",
   "execution_count": null,
   "metadata": {
    "deletable": false,
    "editable": false,
    "nbgrader": {
     "checksum": "20f8fc8f21ae771a153a1bc4ca8a6714",
     "grade": true,
     "grade_id": "at_2_4_0",
     "locked": true,
     "points": 4,
     "schema_version": 1,
     "solution": false
    }
   },
   "outputs": [],
   "source": []
  },
  {
   "cell_type": "code",
   "execution_count": null,
   "metadata": {
    "deletable": false,
    "editable": false,
    "nbgrader": {
     "checksum": "978ef2aa88f6c43cd54aa83d4288a608",
     "grade": true,
     "grade_id": "at_2_4_1",
     "locked": true,
     "points": 4,
     "schema_version": 1,
     "solution": false
    }
   },
   "outputs": [],
   "source": []
  },
  {
   "cell_type": "markdown",
   "metadata": {
    "deletable": false,
    "editable": false,
    "nbgrader": {
     "checksum": "28856bbe12503b7cf788de1ace025e74",
     "grade": false,
     "grade_id": "t_2_5",
     "locked": true,
     "schema_version": 1,
     "solution": false
    }
   },
   "source": [
    "#### Task 2.5\n",
    "Implement `Heap.push_heap()` and `Heap.bubble_up()`. Run the below code to verify the result."
   ]
  },
  {
   "cell_type": "code",
   "execution_count": null,
   "metadata": {
    "deletable": false,
    "nbgrader": {
     "checksum": "185bae95a9bbd10dbc5eba752c3ee886",
     "grade": false,
     "grade_id": "q_2_5_0",
     "locked": false,
     "schema_version": 1,
     "solution": true
    }
   },
   "outputs": [],
   "source": [
    "# Task 2.5 code cell\n",
    "\n",
    "print('test pushin and popping of min or max heaps,  different item types, with the correct heap ordering')\n",
    "\n",
    "def test_push_pop_heap():\n",
    "    \"\"\"create suite of heaps\"\"\"\n",
    "    int_list   = [10,7,2,3,9,4,8,1,0,5,6]\n",
    "    char_list  = ['p','a','h','k','q','r','l','f','o',\n",
    "                    'g','s','d','m','e','v','t','b','j','w',\n",
    "                                  'z','x','y','i','u','c','n']\n",
    "    dupl_list  = [5.0, 2.1, 5.0, 2.2, 7.6, 4.2, 2.1, 5.0, 4.3]\n",
    "    \n",
    "    # create heaps ...\n",
    "    int_max_heap   = Heap(hp_type=Heap.MAX_HEAP, )\n",
    "    char_min_heap  = Heap(hp_type=Heap.MIN_HEAP)\n",
    "    dupl_heap      = Heap() # default is: min heap\n",
    "    \n",
    "    for item in int_list:\n",
    "        int_max_heap.push_heap(item)\n",
    "    Heap.print_heap(int_max_heap, 'int max heap filled:')\n",
    "    print('int max heap popped: ', end='')\n",
    "    while not int_max_heap.empty():\n",
    "        item = int_max_heap.pop_heap()\n",
    "        print(f'{item:d}', end=' ')\n",
    "    print(f'int max heap empty? {str(int_max_heap.empty()):s}')\n",
    "    \n",
    "    # do the same for the other heaps ...\n",
    "    \n",
    "    for item in char_list:\n",
    "        char_min_heap.push_heap(item)\n",
    "    Heap.print_heap(char_min_heap, 'char min heap filled:')\n",
    "    print('char min heap popped: ', end='')\n",
    "    \n",
    "    # YOUR CODE HERE\n",
    "    raise NotImplementedError()\n",
    "    \n",
    "    \n",
    "    for item in dupl_list:\n",
    "        dupl_heap.push_heap(item)\n",
    "    Heap.print_heap(dupl_heap, 'dupl heap filled:')\n",
    "    print('dupl heap popped: ', end='')\n",
    "    \n",
    "    # YOUR CODE HERE\n",
    "    raise NotImplementedError()\n",
    "\n",
    "test_push_pop_heap()"
   ]
  },
  {
   "cell_type": "code",
   "execution_count": null,
   "metadata": {
    "deletable": false,
    "editable": false,
    "nbgrader": {
     "checksum": "be6ba235e43b9dca083ebca41eb98c0b",
     "grade": true,
     "grade_id": "at_2_5_0",
     "locked": true,
     "points": 2,
     "schema_version": 1,
     "solution": false
    }
   },
   "outputs": [],
   "source": []
  },
  {
   "cell_type": "markdown",
   "metadata": {
    "deletable": false,
    "editable": false,
    "nbgrader": {
     "checksum": "bb08ab6b7217c07fd325e16967ba39b4",
     "grade": false,
     "grade_id": "t_2_6",
     "locked": true,
     "schema_version": 1,
     "solution": false
    }
   },
   "source": [
    "#### Task 2.6\n",
    "Run the below test code to verify the whole of all heap functions"
   ]
  },
  {
   "cell_type": "code",
   "execution_count": null,
   "metadata": {
    "deletable": false,
    "nbgrader": {
     "checksum": "42c036d61f459b46fe87825dc8adfba3",
     "grade": false,
     "grade_id": "q_2_6_0",
     "locked": false,
     "schema_version": 1,
     "solution": true
    }
   },
   "outputs": [],
   "source": [
    "# Task 2.6 code cell\n",
    "\n",
    "print('test all pushing and popping functions of heap')\n",
    "\n",
    "ROOT  = 'Lars'  \n",
    "NAMES = [\n",
    "        'Maze', 'Leon', 'John', 'Zack', 'Chuc', 'Pete', 'Lisa', \\\n",
    "        'Mary', 'Rodd', 'Bert', 'Sean', 'Will', 'Dora', 'Anna' ]\n",
    "ALL_NAMES = NAMES + [ROOT]\n",
    "\n",
    "# make a heap of all these names ...\n",
    "\n",
    "# YOUR CODE HERE\n",
    "raise NotImplementedError()\n",
    "\n",
    "Heap.print_heap(heap, '\\nheap all names :')\n",
    "\n",
    "print('min heap popped: ', end='')\n",
    "while not heap.empty():\n",
    "    print(f'{heap.pop_heap():s}', end=' ')\n",
    "print(f'heap empty? {str(heap.empty()):s}')\n",
    "\n",
    "print('\\ncheck, using push_heap() and pop_heap();\\n')\n",
    "\n",
    "check_heap = Heap(Heap.MIN_HEAP)\n",
    "\n",
    "# push all names on the check heap using push_heap() ...\n",
    "\n",
    "# YOUR CODE HERE\n",
    "raise NotImplementedError()\n",
    "\n",
    "Heap.print_heap(check_heap, 'check heap names :')\n",
    "\n",
    "print('check heap popped: ', end='')\n",
    "while not check_heap.empty():\n",
    "    print(f'{check_heap.pop_heap():s}', end=' ')\n",
    "print(f'check heap empty? {str(check_heap.empty()):s}')\n"
   ]
  },
  {
   "cell_type": "code",
   "execution_count": null,
   "metadata": {
    "deletable": false,
    "editable": false,
    "nbgrader": {
     "checksum": "a48c0d18bcbf46e4635f51aaaa723c46",
     "grade": true,
     "grade_id": "at_2_6_0",
     "locked": true,
     "points": 2,
     "schema_version": 1,
     "solution": false
    }
   },
   "outputs": [],
   "source": []
  },
  {
   "cell_type": "markdown",
   "metadata": {
    "deletable": false,
    "editable": false,
    "nbgrader": {
     "checksum": "8e7a54185b3f4d262cfa4144d378081d",
     "grade": false,
     "grade_id": "intro_3",
     "locked": true,
     "schema_version": 1,
     "solution": false
    }
   },
   "source": [
    "## EXERCISE 3: Use `class Heap` to implement a PriorityQueue. \n",
    "\n",
    "A priority queue is a queue of tasks, to be handled by a server. In a priority queue, tasks enqueued and are being served according to their priority. In the below implementation, a seperate queue is maintained for each priority. Each incoming task is classified and assigned a priority `URG` (urgent), `HGH` (high), `NOR` (normal), or `LOW`, and stored in the according queue, by a Classifier. Under all circumstances, `URG`-priority taks are serviced by Servicing before `HGH`, which go before `NOR` etc. So, as an example, `NOR`-priority tasks are only serviced if no higher priority tasks are in queue anymore. \n",
    "![priority queue](./figures/prioqueue.png)"
   ]
  },
  {
   "cell_type": "code",
   "execution_count": null,
   "metadata": {
    "deletable": false,
    "nbgrader": {
     "checksum": "007b3bc86aa844b566df2b562c14c035",
     "grade": false,
     "grade_id": "q_3_0_0",
     "locked": false,
     "schema_version": 1,
     "solution": true
    }
   },
   "outputs": [],
   "source": [
    "class PriorityQueue:\n",
    "    \"\"\"list-based priority queue\"\"\"\n",
    "\n",
    "    # define priority classes served in this\n",
    "    # priority Q, plus labels ... (mind order)    \n",
    "    URG,HGH,NOR,LOW = (0,1,2,3)\n",
    "    PRIO      = (URG,HGH,NOR,LOW)\n",
    "    PRIO_LBLS = ('URG','HGH','NOR','LOW')\n",
    "\n",
    "    @staticmethod\n",
    "    def get_nr_priorities_served():\n",
    "        \"\"\"return count of priority classes\"\"\"\n",
    "        return len(PriorityQueue.PRIO)\n",
    "    \n",
    "    @staticmethod\n",
    "    def serves(priority):\n",
    "        \"\"\"return T|F priority supported in this Q\"\"\"\n",
    "        return priority in PriorityQueue.PRIO\n",
    "    \n",
    "    \n",
    "    def __init__(self, nr_priorities = len(PRIO)):\n",
    "        \"\"\"construct a queue supporting nr_priorities queues\"\"\"\n",
    "        self.__qs = [[] for p in range(nr_priorities)]\n",
    "        self.__count = [0] * nr_priorities   \n",
    "    \n",
    "\n",
    "    def qsize(self, priority=None):\n",
    "        \"\"\"return count of queued item with prio, all if None\"\"\"\n",
    "        \n",
    "        # YOUR CODE HERE\n",
    "        raise NotImplementedError()\n",
    "        \n",
    "        return sm\n",
    "\n",
    "    \n",
    "    def empty(self, priority=None):\n",
    "        \"\"\"return T/F is empty, for given prio, whole Q if None\"\"\"\n",
    "        \n",
    "        # YOUR CODE HERE\n",
    "        raise NotImplementedError()\n",
    "        \n",
    "        return is_empty\n",
    "    \n",
    "    \n",
    "    def enqueue(self, item, priority):\n",
    "        \"\"\"put item on prio queue with prio given\"\"\"\n",
    "        \n",
    "        # YOUR CODE HERE\n",
    "        raise NotImplementedError()\n",
    "\n",
    "       \n",
    "    def dequeue(self):\n",
    "        \"\"\"get the next in order task, priority from the priority queue\"\"\"\n",
    "        next_task, prio = None, None\n",
    "        \n",
    "        # YOUR CODE HERE\n",
    "        raise NotImplementedError()\n",
    "        \n",
    "        return next_task, prio\n"
   ]
  },
  {
   "cell_type": "code",
   "execution_count": null,
   "metadata": {
    "deletable": false,
    "editable": false,
    "nbgrader": {
     "checksum": "62a6604709e1a739b2e6f54c6b3dfe4b",
     "grade": true,
     "grade_id": "at_3_0_0",
     "locked": true,
     "points": 2,
     "schema_version": 1,
     "solution": false
    }
   },
   "outputs": [],
   "source": []
  },
  {
   "cell_type": "markdown",
   "metadata": {
    "deletable": false,
    "editable": false,
    "nbgrader": {
     "checksum": "d98006e31f5d999958efe045365e8ec8",
     "grade": false,
     "grade_id": "t_3_1",
     "locked": true,
     "schema_version": 1,
     "solution": false
    }
   },
   "source": [
    "#### Task 3.1\n",
    "Finalize the code of the four-priority queue-based `class PriorityQueue` above. Then, using this class, implement the below appplication of it in a test priority queue and test the queue-ing part"
   ]
  },
  {
   "cell_type": "code",
   "execution_count": null,
   "metadata": {
    "deletable": false,
    "nbgrader": {
     "checksum": "64f55dee02fd677f59c3b6d234fa8c26",
     "grade": false,
     "grade_id": "q_3_1_0",
     "locked": false,
     "schema_version": 1,
     "solution": true
    }
   },
   "outputs": [],
   "source": [
    "# Task 3.1 code cell\n",
    "\n",
    "def create_queue():\n",
    "    \"\"\"factory function returning filled priority queue\"\"\"\n",
    "    # for task indexing in TASK ...\n",
    "    TASK,PRIO = (0,1)\n",
    "            \n",
    "    TASKS = (# TASK          PRIO\n",
    "            ('Task 0', PriorityQueue.HGH),\n",
    "            ('Task 1', PriorityQueue.NOR),\n",
    "            ('Task 2', PriorityQueue.URG),\n",
    "            ('Task 3', PriorityQueue.LOW),\n",
    "            ('Task 4', PriorityQueue.URG),\n",
    "            ('Task 5', PriorityQueue.LOW),\n",
    "            ('Task 6', PriorityQueue.NOR),\n",
    "            ('Task 7', PriorityQueue.LOW),\n",
    "            ('Task 8', PriorityQueue.LOW),\n",
    "            ('Task 9', PriorityQueue.NOR)\n",
    "        )\n",
    "    queue = PriorityQueue()\n",
    "    # ... enqueue the above listed tasks ...\n",
    "    for task in TASKS:\n",
    "        # ... check if priority is served in this queue ...\n",
    "        # ... if prio served, enque the (task, prio) ...\n",
    "        # ... in the correct queue, as classified ...\n",
    "        \n",
    "        # YOUR CODE HERE\n",
    "        raise NotImplementedError()\n",
    "        \n",
    "    return queue\n",
    "\n",
    "def printQueue(q, title=''):\n",
    "    \"\"\"simple console print of queue\"\"\"\n",
    "    print(title)\n",
    "    for prio in range(q.get_nr_priorities_served()):\n",
    "        print('{:s} {:2d} tasks: '. \\\n",
    "              format(q.PRIO_LBLS[prio], q.qsize(prio)), end='')\n",
    "        for t in range(q.qsize(prio)):\n",
    "            print('T ', end='')\n",
    "        print()\n",
    "    print('Total tasks in queue: {:d}'. format(q.qsize()))  \n",
    "        \n",
    "def run_queue_ing_test():\n",
    "    \"\"\"demonstrate the queue-ing of class PriorityQueue\"\"\"\n",
    "    \n",
    "    my_queue = create_queue()\n",
    "    \n",
    "    # print the queue so far ..\n",
    "    print('priority queue empty? {:s}'. format(str(my_queue.empty())))\n",
    "    printQueue(my_queue, title='my_queue has tasks;')\n",
    "    \n",
    "run_queue_ing_test()"
   ]
  },
  {
   "cell_type": "code",
   "execution_count": null,
   "metadata": {
    "deletable": false,
    "editable": false,
    "nbgrader": {
     "checksum": "f94e8b9249ddca69a2f7caf7133456ba",
     "grade": true,
     "grade_id": "at_3_1_0",
     "locked": true,
     "points": 4,
     "schema_version": 1,
     "solution": false
    }
   },
   "outputs": [],
   "source": []
  },
  {
   "cell_type": "code",
   "execution_count": null,
   "metadata": {
    "deletable": false,
    "editable": false,
    "nbgrader": {
     "checksum": "bf6b6266178c14ff9095d2b3eb182116",
     "grade": true,
     "grade_id": "at_3_1_1",
     "locked": true,
     "points": 4,
     "schema_version": 1,
     "solution": false
    }
   },
   "outputs": [],
   "source": []
  },
  {
   "cell_type": "code",
   "execution_count": null,
   "metadata": {
    "deletable": false,
    "editable": false,
    "nbgrader": {
     "checksum": "cea7a112223088286ed765f535cc2755",
     "grade": true,
     "grade_id": "at_3_1_2",
     "locked": true,
     "points": 2,
     "schema_version": 1,
     "solution": false
    }
   },
   "outputs": [],
   "source": []
  },
  {
   "cell_type": "markdown",
   "metadata": {
    "deletable": false,
    "editable": false,
    "nbgrader": {
     "checksum": "50e2fab2bf17f010f713b5dd7aa47e41",
     "grade": false,
     "grade_id": "t_3_2",
     "locked": true,
     "schema_version": 1,
     "solution": false
    }
   },
   "source": [
    "#### Task 3.2\n",
    "Implement `PriorityQueue.dequeue()` in the class code above, and finalize the below test code queue o verify it."
   ]
  },
  {
   "cell_type": "code",
   "execution_count": null,
   "metadata": {
    "deletable": false,
    "nbgrader": {
     "checksum": "5c9dd18abdd214cea4f9a6bf4af27bd8",
     "grade": false,
     "grade_id": "q_3_2_0",
     "locked": false,
     "schema_version": 1,
     "solution": true
    }
   },
   "outputs": [],
   "source": [
    "# Task 3.2 code cell\n",
    "\n",
    "def run_servicing_test():\n",
    "    \"\"\"demonstrate the servicing of class PriorityQueue\"\"\"\n",
    "\n",
    "    # create a filled queue ...\n",
    "    my_queue = create_queue()\n",
    "    \n",
    "    # ... which will be served in this order ...\n",
    "    urg_count = my_queue.qsize(priority=PriorityQueue.URG)\n",
    "    hgh_count = my_queue.qsize(priority=PriorityQueue.HGH)\n",
    "    nor_count = my_queue.qsize(priority=PriorityQueue.NOR)\n",
    "    low_count = my_queue.qsize(priority=PriorityQueue.LOW)\n",
    "    all_count = my_queue.qsize(priority=None)\n",
    "    \n",
    "    print(f'queue has {all_count} tasks in total, ' \n",
    "          f'urgent-to-low: {urg_count}, {hgh_count}, {nor_count}, {low_count} tasks in queue')\n",
    "    while not my_queue.empty():\n",
    "        # obtain the next task, next prio from dequeue() ...\n",
    "        \n",
    "        # YOUR CODE HERE\n",
    "        raise NotImplementedError()\n",
    "        \n",
    "        print(f'...servicing next task: {my_next_task} with priority {PriorityQueue.PRIO_LBLS[my_next_prio]}')\n",
    "\n",
    "run_servicing_test()"
   ]
  },
  {
   "cell_type": "code",
   "execution_count": null,
   "metadata": {
    "deletable": false,
    "editable": false,
    "nbgrader": {
     "checksum": "9f0b87e03c6261d9e25524ca193658a1",
     "grade": true,
     "grade_id": "at_3_2_0",
     "locked": true,
     "points": 3,
     "schema_version": 1,
     "solution": false
    }
   },
   "outputs": [],
   "source": []
  },
  {
   "cell_type": "markdown",
   "metadata": {
    "deletable": false,
    "editable": false,
    "nbgrader": {
     "checksum": "810bff5c065bec2522a4c07133240f99",
     "grade": false,
     "grade_id": "t_3_3",
     "locked": true,
     "schema_version": 1,
     "solution": false
    }
   },
   "source": [
    "#### Task 3.3\n",
    "Given the below `class ServiceTicket` of which we have implemented two **comperators**:\n",
    "\n",
    "```python\n",
    "    def __eq__(self, other):\n",
    "        \"\"\"return T|F self == other\"\"\"\n",
    "        return self.__prio == other.__prio\n",
    "```\n",
    "\n",
    "and\n",
    "\n",
    "```python\n",
    "    def __lt__(self, other):\n",
    "        \"\"\"return T|F self < other\"\"\"\n",
    "        return self.__prio < other.__prio\n",
    "```\n",
    "\n",
    "used in equality tests (like: a == b) and less-than tests (like: a < b). We need this for the ordering of the ServiceTickets instances. With two comperators ('=' and '<'), you can implement all other comperators, using logical operations. \n",
    "\n",
    "Finalize: `__le__(self, other)`, `__ge__(self, other)`, and `__gt__(self, other)` in `class ServiceTicket`, below. Then: finalize and run the test code in the Task 3.3 code cell, below"
   ]
  },
  {
   "cell_type": "code",
   "execution_count": null,
   "metadata": {
    "deletable": false,
    "nbgrader": {
     "checksum": "aff3fe232b203afa017804be1ac8fd6e",
     "grade": false,
     "grade_id": "q_3_3_0",
     "locked": false,
     "schema_version": 1,
     "solution": true
    }
   },
   "outputs": [],
   "source": [
    "class ServiceTicket:\n",
    "    \"\"\"implements a ('Task', priority) 2-tuple\"\"\"\n",
    "    \n",
    "    def __init__(self, task, priority):\n",
    "        self.task = task\n",
    "        self.prio = priority\n",
    "        \n",
    "    def __str__(self):\n",
    "        return str((self.task, self.prio))\n",
    "    \n",
    "    def __eq__(self, other):\n",
    "        \"\"\"return T|F self == other\"\"\"\n",
    "        return self.prio == other.prio\n",
    "    \n",
    "    def __lt__(self, other):\n",
    "        \"\"\"return T|F self < other\"\"\"\n",
    "        return self.prio < other.prio\n",
    "    \n",
    "    def __le__(self, other):\n",
    "        \n",
    "        # YOUR CODE HERE\n",
    "        raise NotImplementedError()\n",
    "        \n",
    "    \n",
    "    def __ge__(self, other):\n",
    "        \n",
    "        # YOUR CODE HERE\n",
    "        raise NotImplementedError()\n",
    "        \n",
    "    def __gt__(self, other):\n",
    "        \n",
    "        # YOUR CODE HERE\n",
    "        raise NotImplementedError()\n",
    "    "
   ]
  },
  {
   "cell_type": "code",
   "execution_count": null,
   "metadata": {
    "deletable": false,
    "editable": false,
    "nbgrader": {
     "checksum": "0eb77270a90fc7eb44964fce5f7aeec8",
     "grade": true,
     "grade_id": "at_3_3_0",
     "locked": true,
     "points": 1,
     "schema_version": 1,
     "solution": false
    }
   },
   "outputs": [],
   "source": []
  },
  {
   "cell_type": "code",
   "execution_count": null,
   "metadata": {
    "deletable": false,
    "editable": false,
    "nbgrader": {
     "checksum": "be097a27819a6d4a4f86babfd36b8f84",
     "grade": true,
     "grade_id": "at_3_3_1",
     "locked": true,
     "points": 1,
     "schema_version": 1,
     "solution": false
    }
   },
   "outputs": [],
   "source": []
  },
  {
   "cell_type": "code",
   "execution_count": null,
   "metadata": {
    "deletable": false,
    "editable": false,
    "nbgrader": {
     "checksum": "4c126aabff576d5b45d786f03b1c3e2b",
     "grade": true,
     "grade_id": "at_3_3_2",
     "locked": true,
     "points": 1,
     "schema_version": 1,
     "solution": false
    }
   },
   "outputs": [],
   "source": []
  },
  {
   "cell_type": "code",
   "execution_count": null,
   "metadata": {
    "deletable": false,
    "editable": false,
    "nbgrader": {
     "checksum": "85dddafea4550471360a0861995fc628",
     "grade": true,
     "grade_id": "at_3_3_3",
     "locked": true,
     "points": 0,
     "schema_version": 1,
     "solution": false
    }
   },
   "outputs": [],
   "source": []
  },
  {
   "cell_type": "code",
   "execution_count": null,
   "metadata": {
    "deletable": false,
    "editable": false,
    "nbgrader": {
     "checksum": "5bc62a883ae2c119067249358efd2063",
     "grade": true,
     "grade_id": "at_3_3_4",
     "locked": true,
     "points": 1,
     "schema_version": 1,
     "solution": false
    }
   },
   "outputs": [],
   "source": []
  },
  {
   "cell_type": "code",
   "execution_count": null,
   "metadata": {
    "deletable": false,
    "nbgrader": {
     "checksum": "b9b6da0469a34c182bbd5f3149ebb282",
     "grade": false,
     "grade_id": "q_3_3_1",
     "locked": false,
     "schema_version": 1,
     "solution": true
    }
   },
   "outputs": [],
   "source": [
    "# Task 3.3 code cell\n",
    "\n",
    "def demo_class_ServiceTicket():\n",
    "    \n",
    "    # for task indexing in TASK ...\n",
    "    TASK,PRIO = (0,1)\n",
    "        \n",
    "    TASKS = (# TASK          PRIO\n",
    "        ('Task 0', PriorityQueue.HGH),\n",
    "        ('Task 1', PriorityQueue.NOR),\n",
    "        ('Task 2', PriorityQueue.URG),\n",
    "        ('Task 3', PriorityQueue.LOW),\n",
    "        ('Task 4', PriorityQueue.URG),\n",
    "        ('Task 5', PriorityQueue.LOW),\n",
    "        ('Task 6', PriorityQueue.NOR),\n",
    "        ('Task 7', PriorityQueue.LOW),\n",
    "        ('Task 8', PriorityQueue.LOW),\n",
    "        ('Task 9', PriorityQueue.NOR)\n",
    "    )\n",
    "    \n",
    "    my_tickets = list()\n",
    "    \n",
    "    for tsk in TASKS:\n",
    "        my_tickets.append( ServiceTicket( tsk[TASK], tsk[PRIO] ) ) \n",
    "        \n",
    "    print('my ticket list;')\n",
    "    for ticket in my_tickets:\n",
    "        print(f'service ticket: {str(ticket):s}')\n",
    "        \n",
    "    # buid heaps from this list (which must make use of\n",
    "    # the ServiceTicket comperator functions ...\n",
    "        \n",
    "    # build a min Heap from this list ...\n",
    "    \n",
    "    # YOUR CODE HERE\n",
    "    raise NotImplementedError()\n",
    "    \n",
    "    # ... and a max Heap ...\n",
    "    \n",
    "    # YOUR CODE HERE\n",
    "    raise NotImplementedError()\n",
    "    \n",
    "    print('\\nServiceTicket min heap popped;')\n",
    "    while not my_min_heap.empty():\n",
    "        print(f'{str(my_min_heap.pop_heap()):s}')\n",
    "        \n",
    "    print('\\nServiceTicket max heap popped;')\n",
    "    while not my_max_heap.empty():\n",
    "        print(f'{str(my_max_heap.pop_heap()):s}')\n",
    "    \n",
    "demo_class_ServiceTicket()"
   ]
  },
  {
   "cell_type": "code",
   "execution_count": null,
   "metadata": {
    "deletable": false,
    "editable": false,
    "nbgrader": {
     "checksum": "a0b8ab2be70e8b9e5aba2877400b7bb7",
     "grade": true,
     "grade_id": "at_3_3_5",
     "locked": true,
     "points": 1,
     "schema_version": 1,
     "solution": false
    }
   },
   "outputs": [],
   "source": []
  },
  {
   "cell_type": "code",
   "execution_count": null,
   "metadata": {
    "deletable": false,
    "editable": false,
    "nbgrader": {
     "checksum": "f8b8acd45350ade41d794cb5e2ce4561",
     "grade": true,
     "grade_id": "at_3_3_6",
     "locked": true,
     "points": 1,
     "schema_version": 1,
     "solution": false
    }
   },
   "outputs": [],
   "source": []
  },
  {
   "cell_type": "code",
   "execution_count": null,
   "metadata": {
    "deletable": false,
    "editable": false,
    "nbgrader": {
     "checksum": "907270d198eb115cba2cd8c96e1543c5",
     "grade": true,
     "grade_id": "at_3_3_7",
     "locked": true,
     "points": 2,
     "schema_version": 1,
     "solution": false
    }
   },
   "outputs": [],
   "source": []
  },
  {
   "cell_type": "markdown",
   "metadata": {
    "deletable": false,
    "editable": false,
    "nbgrader": {
     "checksum": "4b12152cd9e2b626cae82ebbfc294217",
     "grade": false,
     "grade_id": "t_3_4",
     "locked": true,
     "schema_version": 1,
     "solution": false
    }
   },
   "source": [
    "#### Task 3.4\n",
    "We are now going to create a priority queue based on a `Heap`; see the below code template for `class PriorityQueueWithHeap`. Finalize it and run the test code in the below Task 3.4 code cell"
   ]
  },
  {
   "cell_type": "code",
   "execution_count": null,
   "metadata": {
    "deletable": false,
    "nbgrader": {
     "checksum": "5b20d9ab657956cc748eaa5810f25740",
     "grade": false,
     "grade_id": "q_3_4_0",
     "locked": false,
     "schema_version": 1,
     "solution": true
    }
   },
   "outputs": [],
   "source": [
    "class PriorityQueueWithHeap:\n",
    "    '''PriorityQueue serving items with arbitrary priorities'''\n",
    "\n",
    "    def __init__(self):\n",
    "        self.prioq = Heap(Heap.MIN_HEAP)\n",
    "    \n",
    "    def size(self):\n",
    "        '''return count of queued item with prio, count all if None'''\n",
    "        return self.prioq.size()\n",
    "    \n",
    "    def empty(self):\n",
    "        '''return T|F is empty'''\n",
    "        return self.prioq.empty()\n",
    "    \n",
    "    def enqueue(self, ticket):\n",
    "        '''insert typle (prio, item) in the heap'''\n",
    "        \n",
    "        # YOUR CODE HERE\n",
    "        raise NotImplementedError()\n",
    "    \n",
    "    def dequeue(self):\n",
    "        '''get next item from the heap'''\n",
    "        \n",
    "        # YOUR CODE HERE\n",
    "        raise NotImplementedError()\n",
    "        \n",
    "        return ticket"
   ]
  },
  {
   "cell_type": "code",
   "execution_count": null,
   "metadata": {
    "deletable": false,
    "nbgrader": {
     "checksum": "584c236e1eb2071c2fef997b42c6a65c",
     "grade": false,
     "grade_id": "q_3_4_1",
     "locked": false,
     "schema_version": 1,
     "solution": true
    }
   },
   "outputs": [],
   "source": [
    "# Task 3.4 code cell\n",
    "\n",
    "def run_PriorityQueueWithHeap_test():\n",
    "    \"\"\"demonstrate the use of class PriorityQueueWithHeap\"\"\"\n",
    "    \n",
    "    # for task indexing in TASK ...\n",
    "    TASK,PRIO = (0,1)\n",
    "            \n",
    "    TASKS = (# TASK          PRIO\n",
    "            ('Task 0', 1),\n",
    "            ('Task 1', 2),\n",
    "            ('Task 2', 0),\n",
    "            ('Task 3', 6),\n",
    "            ('Task 4', 0),\n",
    "            ('Task 5', 3),\n",
    "            ('Task 6', 4),\n",
    "            ('Task 7', 5),\n",
    "            ('Task 8', 2),\n",
    "            ('Task 9', 9)\n",
    "        )\n",
    "    \n",
    "    my_prio_queue = PriorityQueueWithHeap()\n",
    "    \n",
    "    print('my priority queue with heap empty? {:s}'. format(str(my_prio_queue.empty())))\n",
    "    \n",
    "    \n",
    "    for tsk in TASKS:\n",
    "        # ... enqueue the above listed tasks ...\n",
    "        \n",
    "        # YOUR CODE HERE\n",
    "        raise NotImplementedError()\n",
    "        \n",
    "        \n",
    "    while not my_prio_queue.empty():\n",
    "        # service the next task ...\n",
    "        next_ticket = my_prio_queue.dequeue()\n",
    "        print('servicing: {:s}'. format(str(next_ticket)))\n",
    "    \n",
    "\n",
    "run_PriorityQueueWithHeap_test()"
   ]
  },
  {
   "cell_type": "code",
   "execution_count": null,
   "metadata": {
    "deletable": false,
    "editable": false,
    "nbgrader": {
     "checksum": "cdd7df4d3c0521d4906b73cab9785fef",
     "grade": true,
     "grade_id": "at_3_4_0",
     "locked": true,
     "points": 4,
     "schema_version": 1,
     "solution": false
    }
   },
   "outputs": [],
   "source": []
  },
  {
   "cell_type": "markdown",
   "metadata": {
    "deletable": false,
    "editable": false,
    "nbgrader": {
     "checksum": "6a1b2ef085429efa9f03be9bd631af27",
     "grade": false,
     "grade_id": "ro_done",
     "locked": true,
     "schema_version": 1,
     "solution": false
    }
   },
   "source": [
    "## Done"
   ]
  }
 ],
 "metadata": {
  "kernelspec": {
   "display_name": "Python 3",
   "language": "python",
   "name": "python3"
  },
  "language_info": {
   "codemirror_mode": {
    "name": "ipython",
    "version": 3
   },
   "file_extension": ".py",
   "mimetype": "text/x-python",
   "name": "python",
   "nbconvert_exporter": "python",
   "pygments_lexer": "ipython3",
   "version": "3.6.1"
  },
  "latex_envs": {
   "LaTeX_envs_menu_present": true,
   "autoclose": false,
   "autocomplete": true,
   "bibliofile": "biblio.bib",
   "cite_by": "apalike",
   "current_citInitial": 1,
   "eqLabelWithNumbers": true,
   "eqNumInitial": 1,
   "hotkeys": {
    "equation": "Ctrl-E",
    "itemize": "Ctrl-I"
   },
   "labels_anchors": false,
   "latex_user_defs": false,
   "report_style_numbering": false,
   "user_envs_cfg": false
  }
 },
 "nbformat": 4,
 "nbformat_minor": 2
}
